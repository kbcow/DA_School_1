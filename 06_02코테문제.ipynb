{
  "nbformat": 4,
  "nbformat_minor": 0,
  "metadata": {
    "colab": {
      "provenance": []
    },
    "kernelspec": {
      "name": "python3",
      "display_name": "Python 3"
    },
    "language_info": {
      "name": "python"
    }
  },
  "cells": [
    {
      "cell_type": "markdown",
      "source": [
        "# 삼각형의 완성조건 (1)"
      ],
      "metadata": {
        "id": "sACXrkv4SyU6"
      }
    },
    {
      "cell_type": "code",
      "source": [
        "\n",
        "def solution(sides):\n",
        "  sides.sort()\n",
        "  if sides[0]+sides[1] >sides[2]:\n",
        "    return 1\n",
        "  else:\n",
        "    return 2\n",
        "\n",
        "solution([1,3,4])\n"
      ],
      "metadata": {
        "colab": {
          "base_uri": "https://localhost:8080/"
        },
        "id": "gIQpuvwMDEvu",
        "outputId": "a72256b7-3eb1-4ffc-d897-c8ca91be1660"
      },
      "execution_count": null,
      "outputs": [
        {
          "output_type": "execute_result",
          "data": {
            "text/plain": [
              "2"
            ]
          },
          "metadata": {},
          "execution_count": 59
        }
      ]
    },
    {
      "cell_type": "markdown",
      "source": [
        "# 배열 뒤집기"
      ],
      "metadata": {
        "id": "7RGFd7C0TEY8"
      }
    },
    {
      "cell_type": "code",
      "source": [
        "def solution(num_list):\n",
        "    return num_list[::-1]\n",
        "\n",
        "num_list = [12,2134,12321,321,3,]"
      ],
      "metadata": {
        "id": "HvhfUd3QFCo1"
      },
      "execution_count": null,
      "outputs": []
    },
    {
      "cell_type": "code",
      "source": [],
      "metadata": {
        "id": "fuZ9OzyhV4a3"
      },
      "execution_count": null,
      "outputs": []
    },
    {
      "cell_type": "code",
      "source": [
        "a = [1,2,3,54,6]\n",
        "a[::-1]"
      ],
      "metadata": {
        "colab": {
          "base_uri": "https://localhost:8080/"
        },
        "id": "zn3jFoTXKJMx",
        "outputId": "4742f2d4-5d07-483f-9958-28e2edaeabff"
      },
      "execution_count": null,
      "outputs": [
        {
          "output_type": "execute_result",
          "data": {
            "text/plain": [
              "[6, 54, 3, 2, 1]"
            ]
          },
          "metadata": {},
          "execution_count": 61
        }
      ]
    },
    {
      "cell_type": "markdown",
      "source": [
        "# 문자열 뒤집기"
      ],
      "metadata": {
        "id": "Gktxr3pom6kx"
      }
    },
    {
      "cell_type": "code",
      "source": [
        "def solution(my_string):\n",
        "\n",
        "    return my_string[::-1]\n"
      ],
      "metadata": {
        "id": "DTH-ubBSm5nx"
      },
      "execution_count": null,
      "outputs": []
    },
    {
      "cell_type": "markdown",
      "source": [
        "# 중복된 숫자 개수"
      ],
      "metadata": {
        "id": "IHidNqDxnnv6"
      }
    },
    {
      "cell_type": "code",
      "source": [
        "def solution(array, n):\n",
        "    if n in array:\n",
        "      return array.count(n)\n",
        "    else:  \n",
        "      return 0\n"
      ],
      "metadata": {
        "id": "eA_e6iNNnAfL"
      },
      "execution_count": null,
      "outputs": []
    },
    {
      "cell_type": "markdown",
      "source": [
        "# 점의 위치 구하기"
      ],
      "metadata": {
        "id": "-KAb6ktmqrha"
      }
    },
    {
      "cell_type": "code",
      "source": [
        "def solution(dot):\n",
        "  if dot[0]>0 and dot[1]>0:\n",
        "    return 1\n",
        "  elif dot[0]<0 and dot[1]>0:\n",
        "    return 2\n",
        "  elif dot[0]<0 and dot[1]<0:\n",
        "    return 3\n",
        "  elif dot[0]>0 and dot[1]<0:\n",
        "    return 4  \n"
      ],
      "metadata": {
        "id": "fvwvSD57nDEt"
      },
      "execution_count": null,
      "outputs": []
    },
    {
      "cell_type": "markdown",
      "source": [
        "# 배열의 유사도(set함수)\n"
      ],
      "metadata": {
        "id": "-T30DmONwnrR"
      }
    },
    {
      "cell_type": "code",
      "source": [
        "# def solution(s1,s2):\n",
        "#     count = 0 \n",
        "#     for i in range(len(s2)):\n",
        "#         if s2[i] in s1:\n",
        "#             count +=+1\n",
        "#     return count\n",
        "\n",
        "def solution(s1,s2):\n",
        "    s1= set(s1)\n",
        "    s2= set(s2)\n",
        "    return len(s2.intersection(s1))\n"
      ],
      "metadata": {
        "id": "e2O_cpFGwokN"
      },
      "execution_count": null,
      "outputs": []
    },
    {
      "cell_type": "markdown",
      "source": [
        "## set"
      ],
      "metadata": {
        "id": "zplWNLzI6_uX"
      }
    },
    {
      "cell_type": "code",
      "source": [
        "# set 함수\n",
        "s1 = set([6,1, 2, 3, 4, 5])\n",
        "\n",
        "s1"
      ],
      "metadata": {
        "id": "A7wMoK6gOw-I",
        "colab": {
          "base_uri": "https://localhost:8080/"
        },
        "outputId": "8b859d03-d421-4f51-a580-084b84587872"
      },
      "execution_count": null,
      "outputs": [
        {
          "output_type": "execute_result",
          "data": {
            "text/plain": [
              "{1, 2, 3, 4, 5, 6}"
            ]
          },
          "metadata": {},
          "execution_count": 66
        }
      ]
    },
    {
      "cell_type": "code",
      "source": [
        "# 순서가 없다\n",
        "# 중복이 없다\n",
        "s2 = set('hello')\n",
        "s2\n"
      ],
      "metadata": {
        "id": "fcHR35txKCx6",
        "colab": {
          "base_uri": "https://localhost:8080/"
        },
        "outputId": "ec9006a3-8a16-4054-95ce-5988f25b713b"
      },
      "execution_count": null,
      "outputs": [
        {
          "output_type": "execute_result",
          "data": {
            "text/plain": [
              "{'e', 'h', 'l', 'o'}"
            ]
          },
          "metadata": {},
          "execution_count": 67
        }
      ]
    },
    {
      "cell_type": "code",
      "source": [
        "s1 = set([1,2,3])\n",
        "l1 = list(s1)\n",
        "l1\n",
        "l1[0]\n",
        "t1 = tuple(s1)\n",
        "t1"
      ],
      "metadata": {
        "colab": {
          "base_uri": "https://localhost:8080/"
        },
        "id": "rzPNOE7ux48e",
        "outputId": "0090e0e3-d8bf-4b3f-982c-7f90110dc032"
      },
      "execution_count": null,
      "outputs": [
        {
          "output_type": "execute_result",
          "data": {
            "text/plain": [
              "(1, 2, 3)"
            ]
          },
          "metadata": {},
          "execution_count": 68
        }
      ]
    },
    {
      "cell_type": "code",
      "source": [
        "# 교집합, 합집합 차집합 구하기\n",
        "\n",
        "#교집합\n",
        "s1 = set([1,2,3,4,5,6])\n",
        "s2 = set([4,5,6,7,8,9])\n",
        "\n",
        "s1 & s2\n",
        "s1.intersection(s2)\n",
        "\n",
        "#합집합\n",
        "s1 |s2\n",
        "s1.union(s2)\n",
        "\n",
        "#차집합\n",
        "\n",
        "s1 -s2\n",
        "s2-s1\n",
        "s1.difference(s2)\n",
        "s2.difference(s1)"
      ],
      "metadata": {
        "colab": {
          "base_uri": "https://localhost:8080/"
        },
        "id": "XOdReAB5yIHw",
        "outputId": "20ca6005-bedd-4895-fbb3-bbacafd723c0"
      },
      "execution_count": null,
      "outputs": [
        {
          "output_type": "execute_result",
          "data": {
            "text/plain": [
              "{7, 8, 9}"
            ]
          },
          "metadata": {},
          "execution_count": 69
        }
      ]
    },
    {
      "cell_type": "code",
      "source": [
        "# 값 1개 추가하기 \n",
        "\n",
        "s1 = set([1,2,3])\n",
        "s1.add(4)\n",
        "s1\n",
        "\n",
        "# 값 여러개 추가하기\n",
        "\n",
        "s1 = set([1,2,3])\n",
        "s1.update([4,5,6])\n",
        "s1\n",
        "\n",
        "# 특정 값 제거하기\n",
        "s1 = set([1,2,3])\n",
        "s1.remove(2)\n",
        "s1"
      ],
      "metadata": {
        "colab": {
          "base_uri": "https://localhost:8080/"
        },
        "id": "B6Wa5qLuyfZT",
        "outputId": "95abd663-8802-4ef3-fa4a-ac82de6e8a96"
      },
      "execution_count": null,
      "outputs": [
        {
          "output_type": "execute_result",
          "data": {
            "text/plain": [
              "{1, 3}"
            ]
          },
          "metadata": {},
          "execution_count": 70
        }
      ]
    },
    {
      "cell_type": "markdown",
      "source": [
        "# 모음 제거 (join)"
      ],
      "metadata": {
        "id": "IfrShgKH0KLM"
      }
    },
    {
      "cell_type": "code",
      "source": [
        "# def solution(my_string):\n",
        "#     b= ['a','e','i','o','u']\n",
        "#     for i in range(len(b)):\n",
        "#         if b[i] in my_string:\n",
        "#             my_string = my_string.replace(b[i],'')\n",
        "#     return my_string\n",
        "\n",
        "def solution(my_string):\n",
        "    return ''.join([i for i in my_string if not(i in 'aeiou')])"
      ],
      "metadata": {
        "id": "CLCpSkIXyZ5i"
      },
      "execution_count": null,
      "outputs": []
    },
    {
      "cell_type": "markdown",
      "source": [
        "## join "
      ],
      "metadata": {
        "id": "9AiTsCkl67-Z"
      }
    },
    {
      "cell_type": "code",
      "source": [
        "','.join('abcd')"
      ],
      "metadata": {
        "colab": {
          "base_uri": "https://localhost:8080/",
          "height": 35
        },
        "id": "9pZYcVWl4OUS",
        "outputId": "891938fb-65f1-4be2-fe02-4bb81d4cba9c"
      },
      "execution_count": null,
      "outputs": [
        {
          "output_type": "execute_result",
          "data": {
            "text/plain": [
              "'a,b,c,d'"
            ],
            "application/vnd.google.colaboratory.intrinsic+json": {
              "type": "string"
            }
          },
          "metadata": {},
          "execution_count": 72
        }
      ]
    },
    {
      "cell_type": "code",
      "source": [
        "''.join(['a','b','c','d'])"
      ],
      "metadata": {
        "colab": {
          "base_uri": "https://localhost:8080/",
          "height": 35
        },
        "id": "HJIEHzHv7H48",
        "outputId": "933adc59-3b6b-4833-93d6-32b8962fbac8"
      },
      "execution_count": null,
      "outputs": [
        {
          "output_type": "execute_result",
          "data": {
            "text/plain": [
              "'abcd'"
            ],
            "application/vnd.google.colaboratory.intrinsic+json": {
              "type": "string"
            }
          },
          "metadata": {},
          "execution_count": 73
        }
      ]
    },
    {
      "cell_type": "markdown",
      "source": [
        "# 중앙값 구하기"
      ],
      "metadata": {
        "id": "BmlwDyOc-KCb"
      }
    },
    {
      "cell_type": "code",
      "source": [
        "def solution(array):\n",
        "    array.sort()\n",
        "    return array[int(len(array)/2)]"
      ],
      "metadata": {
        "id": "oe1PfEQ0-K8S"
      },
      "execution_count": null,
      "outputs": []
    },
    {
      "cell_type": "markdown",
      "source": [
        "# 편지"
      ],
      "metadata": {
        "id": "ucHH3rMK_MHJ"
      }
    },
    {
      "cell_type": "code",
      "source": [
        "def solution(message):\n",
        "    return len(message)*2"
      ],
      "metadata": {
        "id": "5b-Va8OFEgKi"
      },
      "execution_count": null,
      "outputs": []
    },
    {
      "cell_type": "markdown",
      "source": [
        "# 머쓱이보다 키 큰 사람"
      ],
      "metadata": {
        "id": "CVdhIOzAEkd2"
      }
    },
    {
      "cell_type": "code",
      "source": [
        "array = [149, 180, 192, 170]\n",
        "height= 200\n",
        "b=a.append(height)\n",
        "a.sort()\n",
        "\n",
        "\n",
        "# print(len(array[array.index(height)+1:]))"
      ],
      "metadata": {
        "id": "-WiYGnFc-LST"
      },
      "execution_count": null,
      "outputs": []
    },
    {
      "cell_type": "code",
      "source": [
        "array2 = [149, 180, 192, 170]\n",
        "height2= 190\n",
        "array2.append(height2)\n",
        "array2.sort(reverse= True)\n",
        "array2"
      ],
      "metadata": {
        "colab": {
          "base_uri": "https://localhost:8080/"
        },
        "id": "HpRdxfRJ-LWt",
        "outputId": "8d39ac1e-c6a4-4798-c234-6c895a65e589"
      },
      "execution_count": null,
      "outputs": [
        {
          "output_type": "execute_result",
          "data": {
            "text/plain": [
              "[192, 190, 180, 170, 149]"
            ]
          },
          "metadata": {},
          "execution_count": 77
        }
      ]
    },
    {
      "cell_type": "code",
      "source": [
        "def solution(array, height):\n",
        "    array.append(height)\n",
        "    array.sort(reverse = True)\n",
        "\n",
        "    return len(array[array.index(height)+1:])\n",
        "\n",
        "solution([180, 120, 140,170,200,130,160,190],190)"
      ],
      "metadata": {
        "colab": {
          "base_uri": "https://localhost:8080/"
        },
        "id": "JppIEsps-LY5",
        "outputId": "18ba6456-b162-4f16-cf53-85c51f1ddede"
      },
      "execution_count": null,
      "outputs": [
        {
          "output_type": "execute_result",
          "data": {
            "text/plain": [
              "7"
            ]
          },
          "metadata": {},
          "execution_count": 78
        }
      ]
    },
    {
      "cell_type": "code",
      "source": [
        "array = [190,190]"
      ],
      "metadata": {
        "id": "kvapZdRY-LbJ"
      },
      "execution_count": null,
      "outputs": []
    },
    {
      "cell_type": "code",
      "source": [
        "a = input()"
      ],
      "metadata": {
        "id": "kgTuY7RDTIG3",
        "outputId": "05927265-36e1-4643-bd83-012c94a614e4",
        "colab": {
          "base_uri": "https://localhost:8080/",
          "height": 172
        }
      },
      "execution_count": null,
      "outputs": [
        {
          "output_type": "error",
          "ename": "TypeError",
          "evalue": "ignored",
          "traceback": [
            "\u001b[0;31m---------------------------------------------------------------------------\u001b[0m",
            "\u001b[0;31mTypeError\u001b[0m                                 Traceback (most recent call last)",
            "\u001b[0;32m<ipython-input-83-210c61a18b72>\u001b[0m in \u001b[0;36m<cell line: 1>\u001b[0;34m()\u001b[0m\n\u001b[0;32m----> 1\u001b[0;31m \u001b[0ma\u001b[0m \u001b[0;34m=\u001b[0m \u001b[0minput\u001b[0m\u001b[0;34m(\u001b[0m\u001b[0;34m)\u001b[0m\u001b[0;34m\u001b[0m\u001b[0;34m\u001b[0m\u001b[0m\n\u001b[0m",
            "\u001b[0;31mTypeError\u001b[0m: 'str' object is not callable"
          ]
        }
      ]
    },
    {
      "cell_type": "markdown",
      "source": [
        "# 과제\n"
      ],
      "metadata": {
        "id": "wKMHzDJwGtqo"
      }
    },
    {
      "cell_type": "code",
      "source": [
        "#key =프린터 이름\n",
        "#values [종이수,토너수]\n",
        "def cmd_input():\n",
        "  input = ('프린터와 장수를 입력하세요 (예: 잉크젯 20)': )\n",
        "\n",
        "\n",
        "def printer_use(page,toner):\n",
        "  pass\n",
        "  # printer_dict={\n",
        "  #     '잉크젯' :[200,100],\n",
        "  #     '레이저젯':[200,100],\n",
        "  #     'Epson' :[200,100]\n",
        "  # }\n",
        "  # budget = 200000\n",
        "  # return \n",
        "  # 프린터의 종이수와 토너를 차감함 \n",
        "  # 토너-= 종이수//10\n",
        "\n",
        "def printer_status():\n",
        "  pass\n",
        "  print(f'{printer_dict.} 종이 {printer_dict.get('잉크젯')[0]} 토너 {printer_dict.get('잉크젯')[1]}')\n",
        "  print(f'{printer_dict.} 종이 {printer_dict.get('잉크젯')[0]} 토너 {printer_dict.get('잉크젯')[1]}')\n",
        "  print(f'{printer_dict.} 종이 {printer_dict.get('잉크젯')[0]} 토너 {printer_dict.get('잉크젯')[1]}')\n",
        "\n",
        "def printe_refill(name,page,toner):\n",
        "  pass\n",
        "  # 프린터명, 장수, 토너수 입력 받음 해당 함수를 호출하여 프린터에 추가\n",
        "  # 종이는 100원 토너는 200원씩 계산하여 예산에서 차감\n",
        "def printer_del(name):\n",
        "  pass\n",
        "  # 삭제할 프린터명을 입력받은 후 해당 함수를 호출하여 사전에서 명시된 프린터를 삭제\n",
        "  # 삭제후 남아 있는 프린터 이름들을 출력예와 같이 리스트로 알려줌\n",
        "\n",
        "\n",
        "\n"
      ],
      "metadata": {
        "id": "PaEmx7px-LdO",
        "colab": {
          "base_uri": "https://localhost:8080/",
          "height": 136
        },
        "outputId": "5454556f-4fbf-4c7c-db4a-e798faaea1de"
      },
      "execution_count": null,
      "outputs": [
        {
          "output_type": "error",
          "ename": "SyntaxError",
          "evalue": "ignored",
          "traceback": [
            "\u001b[0;36m  File \u001b[0;32m\"<ipython-input-80-bf7cc03708b3>\"\u001b[0;36m, line \u001b[0;32m4\u001b[0m\n\u001b[0;31m    input = ('프린터와 장수를 입력하세요 (예: 잉크젯 20)': )\u001b[0m\n\u001b[0m                                         ^\u001b[0m\n\u001b[0;31mSyntaxError\u001b[0m\u001b[0;31m:\u001b[0m invalid syntax\n"
          ]
        }
      ]
    },
    {
      "cell_type": "code",
      "source": [],
      "metadata": {
        "id": "pPkt3gkPRXPY"
      },
      "execution_count": null,
      "outputs": []
    },
    {
      "cell_type": "code",
      "source": [
        "printer_dict.items()\n",
        "printer_dict[[200,100]]"
      ],
      "metadata": {
        "id": "1i2KrBxoHDZ0"
      },
      "execution_count": null,
      "outputs": []
    },
    {
      "cell_type": "code",
      "source": [
        "# dict 키, 값 추가하기\n",
        "a = {1:'a'}\n",
        "a[3] ='b'\n",
        "a\n",
        "a['name'] ='pey'\n",
        "a\n",
        "del a['name']\n",
        "a"
      ],
      "metadata": {
        "id": "9iAN8Jv0HUbR"
      },
      "execution_count": null,
      "outputs": []
    },
    {
      "cell_type": "code",
      "source": [
        "#key 사용해 value 값 얻기\n",
        "grade = {'pey': 10, 'julliet': 99}\n",
        "grade['pey']\n"
      ],
      "metadata": {
        "id": "qIaGR5X6Hqw4"
      },
      "execution_count": null,
      "outputs": []
    },
    {
      "cell_type": "code",
      "source": [
        "# key 리스트 만들기, values 리스트 만들기\n",
        "a = {'name': 'pey', 'phone': '010-9999-1234', 'birth': '1118'}\n",
        "a.keys()\n",
        "a.values()\n",
        "\n",
        "# for 문 이용하여 key 값 뽑기\n",
        "for i in a.keys():\n",
        "  print(i)"
      ],
      "metadata": {
        "id": "TnI3y-wWIE-t"
      },
      "execution_count": null,
      "outputs": []
    },
    {
      "cell_type": "code",
      "source": [
        "#key, value 쌍 얻기\n",
        "a.items()\n",
        "\n",
        "#key, value 쌍 모두 지우기\n",
        "a.clear()"
      ],
      "metadata": {
        "id": "9rBwZJXpIXhK"
      },
      "execution_count": null,
      "outputs": []
    },
    {
      "cell_type": "code",
      "source": [
        "# key로 value 얻기\n",
        "a = {'name': 'pey', 'phone': '010-9999-1234', 'birth': '1118'}\n",
        "\n",
        "a.get('name')"
      ],
      "metadata": {
        "id": "EeKQRurVIkU7"
      },
      "execution_count": null,
      "outputs": []
    },
    {
      "cell_type": "code",
      "source": [],
      "metadata": {
        "id": "ED1SSJCVS90G"
      },
      "execution_count": null,
      "outputs": []
    }
  ]
}