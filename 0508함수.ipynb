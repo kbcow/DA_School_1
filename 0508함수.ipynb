{
  "nbformat": 4,
  "nbformat_minor": 0,
  "metadata": {
    "colab": {
      "provenance": []
    },
    "kernelspec": {
      "name": "python3",
      "display_name": "Python 3"
    },
    "language_info": {
      "name": "python"
    }
  },
  "cells": [
    {
      "cell_type": "markdown",
      "source": [
        "# 1.함수 복습"
      ],
      "metadata": {
        "id": "rzULWa7_iH6F"
      }
    },
    {
      "cell_type": "code",
      "execution_count": 1,
      "metadata": {
        "id": "UBSN8HjyiB4l"
      },
      "outputs": [],
      "source": [
        "#함수 예제 1 - 함수 생성\n",
        "\n",
        "def print_coin():\n",
        "  print('비트코인')"
      ]
    },
    {
      "cell_type": "code",
      "source": [
        "#함수 예제 1 - 함수 호출\n",
        "\n",
        "print_coin()"
      ],
      "metadata": {
        "colab": {
          "base_uri": "https://localhost:8080/"
        },
        "id": "A4zk4KnaiQz_",
        "outputId": "b91f5e6c-738c-4f00-e148-53fb631a388d"
      },
      "execution_count": 2,
      "outputs": [
        {
          "output_type": "stream",
          "name": "stdout",
          "text": [
            "비트코인\n"
          ]
        }
      ]
    },
    {
      "cell_type": "code",
      "source": [
        "for i in range(100):\n",
        "  print_coin()"
      ],
      "metadata": {
        "colab": {
          "base_uri": "https://localhost:8080/"
        },
        "id": "xbTz5fBViVo1",
        "outputId": "27b49930-8f3c-459c-9295-faa1b795ceaf"
      },
      "execution_count": 3,
      "outputs": [
        {
          "output_type": "stream",
          "name": "stdout",
          "text": [
            "비트코인\n",
            "비트코인\n",
            "비트코인\n",
            "비트코인\n",
            "비트코인\n",
            "비트코인\n",
            "비트코인\n",
            "비트코인\n",
            "비트코인\n",
            "비트코인\n",
            "비트코인\n",
            "비트코인\n",
            "비트코인\n",
            "비트코인\n",
            "비트코인\n",
            "비트코인\n",
            "비트코인\n",
            "비트코인\n",
            "비트코인\n",
            "비트코인\n",
            "비트코인\n",
            "비트코인\n",
            "비트코인\n",
            "비트코인\n",
            "비트코인\n",
            "비트코인\n",
            "비트코인\n",
            "비트코인\n",
            "비트코인\n",
            "비트코인\n",
            "비트코인\n",
            "비트코인\n",
            "비트코인\n",
            "비트코인\n",
            "비트코인\n",
            "비트코인\n",
            "비트코인\n",
            "비트코인\n",
            "비트코인\n",
            "비트코인\n",
            "비트코인\n",
            "비트코인\n",
            "비트코인\n",
            "비트코인\n",
            "비트코인\n",
            "비트코인\n",
            "비트코인\n",
            "비트코인\n",
            "비트코인\n",
            "비트코인\n",
            "비트코인\n",
            "비트코인\n",
            "비트코인\n",
            "비트코인\n",
            "비트코인\n",
            "비트코인\n",
            "비트코인\n",
            "비트코인\n",
            "비트코인\n",
            "비트코인\n",
            "비트코인\n",
            "비트코인\n",
            "비트코인\n",
            "비트코인\n",
            "비트코인\n",
            "비트코인\n",
            "비트코인\n",
            "비트코인\n",
            "비트코인\n",
            "비트코인\n",
            "비트코인\n",
            "비트코인\n",
            "비트코인\n",
            "비트코인\n",
            "비트코인\n",
            "비트코인\n",
            "비트코인\n",
            "비트코인\n",
            "비트코인\n",
            "비트코인\n",
            "비트코인\n",
            "비트코인\n",
            "비트코인\n",
            "비트코인\n",
            "비트코인\n",
            "비트코인\n",
            "비트코인\n",
            "비트코인\n",
            "비트코인\n",
            "비트코인\n",
            "비트코인\n",
            "비트코인\n",
            "비트코인\n",
            "비트코인\n",
            "비트코인\n",
            "비트코인\n",
            "비트코인\n",
            "비트코인\n",
            "비트코인\n",
            "비트코인\n"
          ]
        }
      ]
    },
    {
      "cell_type": "code",
      "source": [
        "# 함수 예제 3 - 함수를 호출할 때 위치\n",
        "print_coin_2()\n",
        "\n",
        "def print_coin_2():\n",
        "  print('비트코인 2개')"
      ],
      "metadata": {
        "colab": {
          "base_uri": "https://localhost:8080/",
          "height": 248
        },
        "id": "kje60JRxiZO9",
        "outputId": "d7fe10c3-5db3-4d4f-c305-ab8af6c6dab6"
      },
      "execution_count": 4,
      "outputs": [
        {
          "output_type": "error",
          "ename": "NameError",
          "evalue": "ignored",
          "traceback": [
            "\u001b[0;31m---------------------------------------------------------------------------\u001b[0m",
            "\u001b[0;31mNameError\u001b[0m                                 Traceback (most recent call last)",
            "\u001b[0;32m<ipython-input-4-121779d0de6c>\u001b[0m in \u001b[0;36m<cell line: 2>\u001b[0;34m()\u001b[0m\n\u001b[1;32m      1\u001b[0m \u001b[0;31m# 함수 예제 3 - 함수를 호출할 때 위치\u001b[0m\u001b[0;34m\u001b[0m\u001b[0;34m\u001b[0m\u001b[0m\n\u001b[0;32m----> 2\u001b[0;31m \u001b[0mprint_coin_2\u001b[0m\u001b[0;34m(\u001b[0m\u001b[0;34m)\u001b[0m\u001b[0;34m\u001b[0m\u001b[0;34m\u001b[0m\u001b[0m\n\u001b[0m\u001b[1;32m      3\u001b[0m \u001b[0;34m\u001b[0m\u001b[0m\n\u001b[1;32m      4\u001b[0m \u001b[0;32mdef\u001b[0m \u001b[0mprint_coin_2\u001b[0m\u001b[0;34m(\u001b[0m\u001b[0;34m)\u001b[0m\u001b[0;34m:\u001b[0m\u001b[0;34m\u001b[0m\u001b[0;34m\u001b[0m\u001b[0m\n\u001b[1;32m      5\u001b[0m   \u001b[0mprint\u001b[0m\u001b[0;34m(\u001b[0m\u001b[0;34m'비트코인 2개'\u001b[0m\u001b[0;34m)\u001b[0m\u001b[0;34m\u001b[0m\u001b[0;34m\u001b[0m\u001b[0m\n",
            "\u001b[0;31mNameError\u001b[0m: name 'print_coin_2' is not defined"
          ]
        }
      ]
    },
    {
      "cell_type": "code",
      "source": [
        "# 함수 예제 4 - 연습 문제1\n",
        "\n",
        "def message():\n",
        "  print('a')\n",
        "  print('b')\n",
        "\n",
        "message()\n",
        "print('c')\n",
        "message()"
      ],
      "metadata": {
        "colab": {
          "base_uri": "https://localhost:8080/"
        },
        "id": "ZVuPCme5ik_k",
        "outputId": "341bca3b-9e9e-44ac-b9b0-a0d4950cda63"
      },
      "execution_count": 6,
      "outputs": [
        {
          "output_type": "stream",
          "name": "stdout",
          "text": [
            "a\n",
            "b\n",
            "c\n",
            "a\n",
            "b\n"
          ]
        }
      ]
    },
    {
      "cell_type": "code",
      "source": [
        "#함수 예제 5 - 연습 문제 2 \n",
        "# 이렇게 사용하면 헷갈리게됨\n",
        "\n",
        "print('A')\n",
        "\n",
        "def message():\n",
        "  print('B')\n",
        "\n",
        "print('C')\n",
        "message()"
      ],
      "metadata": {
        "colab": {
          "base_uri": "https://localhost:8080/"
        },
        "id": "EIv_pexaivo9",
        "outputId": "18c77406-7ca4-42a5-a2cf-7c773d961562"
      },
      "execution_count": 8,
      "outputs": [
        {
          "output_type": "stream",
          "name": "stdout",
          "text": [
            "A\n",
            "C\n",
            "B\n"
          ]
        }
      ]
    },
    {
      "cell_type": "code",
      "source": [
        "#함수 예제 6 - 연습 문제 3\n",
        "print('A')\n",
        "\n",
        "def message1():\n",
        "  print('B')\n",
        "\n",
        "print('C')\n",
        "\n",
        "def message2():\n",
        "  print('D')\n",
        "\n",
        "message1()\n",
        "print('E')\n",
        "message2()"
      ],
      "metadata": {
        "colab": {
          "base_uri": "https://localhost:8080/"
        },
        "id": "7i_AQie-i8Ft",
        "outputId": "b10fb1eb-01dd-48ff-c3ad-8e439f916e6b"
      },
      "execution_count": 10,
      "outputs": [
        {
          "output_type": "stream",
          "name": "stdout",
          "text": [
            "A\n",
            "C\n",
            "B\n",
            "E\n",
            "D\n"
          ]
        }
      ]
    },
    {
      "cell_type": "code",
      "source": [
        "# 함수 예제 7 - 연습 문제 4\n",
        "\n",
        "def message1():\n",
        "  print('A')\n",
        "\n",
        "def message2():\n",
        "  print('B')\n",
        "  message1() # -> print('A')\n",
        "\n",
        "message2()"
      ],
      "metadata": {
        "colab": {
          "base_uri": "https://localhost:8080/"
        },
        "id": "bB2OG_kNjLes",
        "outputId": "8248fdf1-02b8-4d62-d5cf-26e160a1c2d0"
      },
      "execution_count": 11,
      "outputs": [
        {
          "output_type": "stream",
          "name": "stdout",
          "text": [
            "B\n",
            "A\n"
          ]
        }
      ]
    },
    {
      "cell_type": "code",
      "source": [
        "# 함수 예제 8 - 연습 문제 5\n",
        "\n",
        "def message1():\n",
        "  print('A')\n",
        "\n",
        "def message2():\n",
        "  print('B')\n",
        "\n",
        "def message3():\n",
        "  for i in range(3):\n",
        "    message2()\n",
        "    print('C')\n",
        "  message1()\n",
        "  \n",
        "message3()"
      ],
      "metadata": {
        "id": "wsYR0Z3rjU5s"
      },
      "execution_count": null,
      "outputs": []
    },
    {
      "cell_type": "code",
      "source": [
        "#함수 예쩨 9 - 숫자 유형\n",
        "#함수안에 있는 변수는 바깥에서 사용할 수 가 없다는 것을 !!\n",
        "\n",
        "def num(a,b):\n",
        "  print(a +b)\n",
        "num(3,4)"
      ],
      "metadata": {
        "colab": {
          "base_uri": "https://localhost:8080/"
        },
        "id": "eozuyqbsi8bk",
        "outputId": "810f47ae-0636-45ad-9f9e-30830623cc99"
      },
      "execution_count": 1,
      "outputs": [
        {
          "output_type": "stream",
          "name": "stdout",
          "text": [
            "7\n"
          ]
        }
      ]
    },
    {
      "cell_type": "code",
      "source": [
        "#함수 예제 10 - 숫자형 문자형 같이 사용했을 때\n",
        "\n",
        "def num_str(a,b):\n",
        "  print(a+b)\n",
        "\n",
        "num_str('안녕',3)"
      ],
      "metadata": {
        "colab": {
          "base_uri": "https://localhost:8080/",
          "height": 339
        },
        "id": "cRxw-9xEXiCI",
        "outputId": "d5a43009-2f42-4db6-ddd8-f19c6205c266"
      },
      "execution_count": 5,
      "outputs": [
        {
          "output_type": "error",
          "ename": "TypeError",
          "evalue": "ignored",
          "traceback": [
            "\u001b[0;31m---------------------------------------------------------------------------\u001b[0m",
            "\u001b[0;31mTypeError\u001b[0m                                 Traceback (most recent call last)",
            "\u001b[0;32m<ipython-input-5-326ff64753fa>\u001b[0m in \u001b[0;36m<cell line: 6>\u001b[0;34m()\u001b[0m\n\u001b[1;32m      4\u001b[0m   \u001b[0mprint\u001b[0m\u001b[0;34m(\u001b[0m\u001b[0ma\u001b[0m\u001b[0;34m+\u001b[0m\u001b[0mb\u001b[0m\u001b[0;34m)\u001b[0m\u001b[0;34m\u001b[0m\u001b[0;34m\u001b[0m\u001b[0m\n\u001b[1;32m      5\u001b[0m \u001b[0;34m\u001b[0m\u001b[0m\n\u001b[0;32m----> 6\u001b[0;31m \u001b[0mnum_str\u001b[0m\u001b[0;34m(\u001b[0m\u001b[0;34m'안녕'\u001b[0m\u001b[0;34m,\u001b[0m\u001b[0;36m3\u001b[0m\u001b[0;34m)\u001b[0m\u001b[0;34m\u001b[0m\u001b[0;34m\u001b[0m\u001b[0m\n\u001b[0m",
            "\u001b[0;32m<ipython-input-5-326ff64753fa>\u001b[0m in \u001b[0;36mnum_str\u001b[0;34m(a, b)\u001b[0m\n\u001b[1;32m      2\u001b[0m \u001b[0;34m\u001b[0m\u001b[0m\n\u001b[1;32m      3\u001b[0m \u001b[0;32mdef\u001b[0m \u001b[0mnum_str\u001b[0m\u001b[0;34m(\u001b[0m\u001b[0ma\u001b[0m\u001b[0;34m,\u001b[0m\u001b[0mb\u001b[0m\u001b[0;34m)\u001b[0m\u001b[0;34m:\u001b[0m\u001b[0;34m\u001b[0m\u001b[0;34m\u001b[0m\u001b[0m\n\u001b[0;32m----> 4\u001b[0;31m   \u001b[0mprint\u001b[0m\u001b[0;34m(\u001b[0m\u001b[0ma\u001b[0m\u001b[0;34m+\u001b[0m\u001b[0mb\u001b[0m\u001b[0;34m)\u001b[0m\u001b[0;34m\u001b[0m\u001b[0;34m\u001b[0m\u001b[0m\n\u001b[0m\u001b[1;32m      5\u001b[0m \u001b[0;34m\u001b[0m\u001b[0m\n\u001b[1;32m      6\u001b[0m \u001b[0mnum_str\u001b[0m\u001b[0;34m(\u001b[0m\u001b[0;34m'안녕'\u001b[0m\u001b[0;34m,\u001b[0m\u001b[0;36m3\u001b[0m\u001b[0;34m)\u001b[0m\u001b[0;34m\u001b[0m\u001b[0;34m\u001b[0m\u001b[0m\n",
            "\u001b[0;31mTypeError\u001b[0m: can only concatenate str (not \"int\") to str"
          ]
        }
      ]
    },
    {
      "cell_type": "code",
      "source": [
        "#함수 예제 11 - 문자형 입력받는 경우\n",
        "\n",
        "def print_with_smile(string):\n",
        "  print(string + ':)')\n",
        "\n",
        "print_with_smile(\"안녕하세요\")"
      ],
      "metadata": {
        "colab": {
          "base_uri": "https://localhost:8080/"
        },
        "id": "izugXKF3XyBw",
        "outputId": "60ba9c5b-a1da-4d1e-f87c-75823575e203"
      },
      "execution_count": 6,
      "outputs": [
        {
          "output_type": "stream",
          "name": "stdout",
          "text": [
            "안녕하세요:)\n"
          ]
        }
      ]
    },
    {
      "cell_type": "code",
      "source": [
        "#함수 예제 12 - 덧셈\n",
        "def print_upper_price(price):\n",
        "  print(price*1.3)\n",
        "\n",
        "print_upper_price(300)"
      ],
      "metadata": {
        "colab": {
          "base_uri": "https://localhost:8080/"
        },
        "id": "bE4zwA6UX_eC",
        "outputId": "ff7e5daa-e528-4819-a2b4-73917cdf7e94"
      },
      "execution_count": 7,
      "outputs": [
        {
          "output_type": "stream",
          "name": "stdout",
          "text": [
            "390.0\n"
          ]
        }
      ]
    },
    {
      "cell_type": "code",
      "source": [
        "#함수 예제 13 - 두수의 합/차이/곱셈/나눗셈을 출력하는 출력\n",
        "\n",
        "def ex_13(a,b):\n",
        "  print(a+b)\n",
        "  print(a-b)\n",
        "  print(a*b)\n",
        "  print(a/b)\n",
        "\n",
        "ex_13(3,4)\n",
        "  "
      ],
      "metadata": {
        "colab": {
          "base_uri": "https://localhost:8080/"
        },
        "id": "Ymp9StvtXxNA",
        "outputId": "92497cf0-1286-4a65-dee9-bcddb8002016"
      },
      "execution_count": 8,
      "outputs": [
        {
          "output_type": "stream",
          "name": "stdout",
          "text": [
            "7\n",
            "-1\n",
            "12\n",
            "0.75\n"
          ]
        }
      ]
    },
    {
      "cell_type": "code",
      "source": [
        "#함수 예제 14 - 세 개의 숫자를 입력받아 가장 큰 수를 출력하는 print_max 함수를 정의하라.\n",
        "#단, if 문을 사용해서 수를 비교하시오\n",
        "\n",
        "def print_max(a,b,c):\n",
        "  max_val = 0\n",
        "\n",
        "  if a>max_val:\n",
        "    max_val =a\n",
        "  \n",
        "  if b> max_val:\n",
        "    max_val =b\n",
        "  \n",
        "  if c> max_val:\n",
        "    max_val =c\n",
        "\n",
        "  print(max_val)\n",
        "\n",
        "print_max(3,6464,8989888)  "
      ],
      "metadata": {
        "colab": {
          "base_uri": "https://localhost:8080/"
        },
        "id": "IAilpYcKXsef",
        "outputId": "2104b086-ab6b-4536-ce5c-efe758cfcb40"
      },
      "execution_count": 11,
      "outputs": [
        {
          "output_type": "stream",
          "name": "stdout",
          "text": [
            "8989888\n"
          ]
        }
      ]
    },
    {
      "cell_type": "code",
      "source": [
        "# 함수 예제 15 - 입력된 문자열을 역순으로 출력하는 reverse 함수\n",
        "\n",
        "def print_reverse(string_a):\n",
        "  print(string_a[::-1])\n",
        "\n",
        "print_reverse('python')"
      ],
      "metadata": {
        "colab": {
          "base_uri": "https://localhost:8080/"
        },
        "id": "5UoukfAqilIl",
        "outputId": "a7a02db4-c110-4b5a-afa7-bfc52ce53828"
      },
      "execution_count": 15,
      "outputs": [
        {
          "output_type": "stream",
          "name": "stdout",
          "text": [
            "nohtyp\n"
          ]
        }
      ]
    },
    {
      "cell_type": "code",
      "source": [
        "# 함수 예제 16 -평균을 출력하는 함수\n",
        "\n",
        "def print_score(score_list):\n",
        "  print(sum(score_list)/len(score_list))\n",
        "\n",
        "print_score([1,2,3])"
      ],
      "metadata": {
        "colab": {
          "base_uri": "https://localhost:8080/"
        },
        "id": "pusNzu2Ri-c1",
        "outputId": "3eb1988b-b1b9-4398-8587-3d2c9e722cc6"
      },
      "execution_count": 17,
      "outputs": [
        {
          "output_type": "stream",
          "name": "stdout",
          "text": [
            "2.0\n"
          ]
        }
      ]
    },
    {
      "cell_type": "code",
      "source": [
        "# 함수 예제 17 - 하나의 리스트를 입력받아서 짝수만 출력하는 함수를 만들어보세요\n",
        "\n",
        "def print_even(print_list):\n",
        "  for i in print_list:\n",
        "    if i%2 == 0:\n",
        "      print(i)\n",
        "\n",
        "print_even([3154,789,755892,4])"
      ],
      "metadata": {
        "colab": {
          "base_uri": "https://localhost:8080/"
        },
        "id": "eIxaF9VYj1LM",
        "outputId": "21e05d38-e943-49f1-8195-88ca02d7c502"
      },
      "execution_count": 20,
      "outputs": [
        {
          "output_type": "stream",
          "name": "stdout",
          "text": [
            "3154\n",
            "755892\n",
            "4\n"
          ]
        }
      ]
    },
    {
      "cell_type": "code",
      "source": [
        "#함수 예제 18\n",
        "\n",
        "def print_dic(my_dict):\n",
        "  print(my_dict)\n",
        "\n",
        "print_dic({\"이름\" : \"홍길동\", \"나이\" : 30, \"직업\" : \"의적\"})"
      ],
      "metadata": {
        "colab": {
          "base_uri": "https://localhost:8080/"
        },
        "id": "jGqgrFvNkG2t",
        "outputId": "5b0814c0-d96d-4773-9edd-b3c64c755f60"
      },
      "execution_count": 21,
      "outputs": [
        {
          "output_type": "stream",
          "name": "stdout",
          "text": [
            "{'이름': '홍길동', '나이': 30, '직업': '의적'}\n"
          ]
        }
      ]
    },
    {
      "cell_type": "code",
      "source": [
        "# 함수 예제 19 - 함수 내부의 결과는 접근이 불가하다\n",
        "\n",
        "def n_plus(n):\n",
        "  result = n+1 \n",
        "  return result"
      ],
      "metadata": {
        "id": "JpAbZLPYkggp"
      },
      "execution_count": 22,
      "outputs": []
    },
    {
      "cell_type": "code",
      "source": [
        "# 함수 예제 20 - 문자열 하나를 입력받아서 인터넷 주소를 반환하는 함수를 만들어라 \n",
        "\n",
        "def make_url(string):\n",
        "  url = 'www.'+string+'.com'\n",
        "  return url\n",
        "\n",
        "make_url('naver')"
      ],
      "metadata": {
        "colab": {
          "base_uri": "https://localhost:8080/",
          "height": 35
        },
        "id": "s7z6SerskoZs",
        "outputId": "25fa9533-5fe1-41d3-b073-b6dd101b8e05"
      },
      "execution_count": 25,
      "outputs": [
        {
          "output_type": "execute_result",
          "data": {
            "text/plain": [
              "'www.naver.com'"
            ],
            "application/vnd.google.colaboratory.intrinsic+json": {
              "type": "string"
            }
          },
          "metadata": {},
          "execution_count": 25
        }
      ]
    },
    {
      "cell_type": "code",
      "source": [
        "# 함수 예제 21 - 문자열 하나씩 입력받아서 리스트 화\n",
        "\n",
        "def make_list(string):\n",
        "  l = []\n",
        "  for i in string:\n",
        "    l.append(i)\n",
        "  return l\n",
        "\n",
        "make_list('dasdsadssad')"
      ],
      "metadata": {
        "colab": {
          "base_uri": "https://localhost:8080/"
        },
        "id": "1QLZTi_SlsQi",
        "outputId": "bb80eb46-d2ae-411a-ec03-bf0d65a4c975"
      },
      "execution_count": 28,
      "outputs": [
        {
          "output_type": "execute_result",
          "data": {
            "text/plain": [
              "['d', 'a', 's', 'd', 's', 'a', 'd', 's', 's', 'a', 'd']"
            ]
          },
          "metadata": {},
          "execution_count": 28
        }
      ]
    },
    {
      "cell_type": "code",
      "source": [
        "# 함수 예제 22 - 문자열 대체\n",
        "def convert_int(string):\n",
        "  return int(string.replace(',',''))\n",
        "\n",
        "convert_int('123,456')"
      ],
      "metadata": {
        "colab": {
          "base_uri": "https://localhost:8080/"
        },
        "id": "i1GtahmqmGOr",
        "outputId": "a6053cd8-63a5-47cb-ce77-368bec231ff5"
      },
      "execution_count": 30,
      "outputs": [
        {
          "output_type": "execute_result",
          "data": {
            "text/plain": [
              "123456"
            ]
          },
          "metadata": {},
          "execution_count": 30
        }
      ]
    },
    {
      "cell_type": "code",
      "source": [
        "#함수 예제 23\n",
        "\n",
        "def number_1(num):\n",
        "  return num +4\n",
        "\n",
        "a= number_1(10) #14\n",
        "b= number_1(a)  #18\n",
        "c= number_1(b)  #22\n",
        "print(c)"
      ],
      "metadata": {
        "colab": {
          "base_uri": "https://localhost:8080/"
        },
        "id": "VLb1T6FImUGK",
        "outputId": "28435b55-02d6-409a-d5bf-c45d62d15e47"
      },
      "execution_count": 31,
      "outputs": [
        {
          "output_type": "stream",
          "name": "stdout",
          "text": [
            "22\n"
          ]
        }
      ]
    },
    {
      "cell_type": "code",
      "source": [
        "def double(x):\n",
        "  y = x\n",
        "  x = 10\n",
        "  return y * y\n",
        "\n",
        "x= 3\n",
        "print(double(x))\n"
      ],
      "metadata": {
        "colab": {
          "base_uri": "https://localhost:8080/"
        },
        "id": "n-zssuZ3mtqU",
        "outputId": "e1b8f761-d51d-410d-c8a8-b75c519085da"
      },
      "execution_count": 37,
      "outputs": [
        {
          "output_type": "stream",
          "name": "stdout",
          "text": [
            "9\n"
          ]
        }
      ]
    },
    {
      "cell_type": "code",
      "source": [
        "# 함수 예제 27\n",
        "# return에 매개변수 없이 출력이 되면 함수 내 문장과 상관없이 그 값을 빠져나옵니다.\n",
        "\n",
        "def test_01(a):\n",
        "  if a == 10:\n",
        "    return #pass\n",
        "  else:\n",
        "    print(\"10이 아닙니다.\")\n",
        "\n",
        "\n",
        "test_01(10)"
      ],
      "metadata": {
        "id": "0-4YGbvpm5Mi"
      },
      "execution_count": 39,
      "outputs": []
    },
    {
      "cell_type": "code",
      "source": [
        "#함수 예제 28 - 함수의 호출 과정(키워드 인수)\n",
        "#위치인수는 호출할 때 함수의 정의와 인수 순서가 같은 순서로 지정!!\n",
        "#위치가 틀어지면 값이 완전히 바뀔 수 있다.\n",
        "\n",
        "def billing(unit_prices, units, fees, tax_rate):\n",
        "  return (unit_prices * units + fees) * tax_rate\n",
        "  \n",
        "x = billing(1000, 10, 500, 1.1)\n",
        "print(x)"
      ],
      "metadata": {
        "colab": {
          "base_uri": "https://localhost:8080/"
        },
        "id": "dmK1m0Ispk9u",
        "outputId": "ebf04196-131a-4d4e-e86b-5351758042ae"
      },
      "execution_count": 40,
      "outputs": [
        {
          "output_type": "stream",
          "name": "stdout",
          "text": [
            "11550.000000000002\n"
          ]
        }
      ]
    },
    {
      "cell_type": "code",
      "source": [
        "y = billing(10, 1000, 1.1, 500)\n",
        "print(y)"
      ],
      "metadata": {
        "colab": {
          "base_uri": "https://localhost:8080/"
        },
        "id": "jAxAK_ZUqAOa",
        "outputId": "2f522d08-9874-4199-92db-f79039fbda12"
      },
      "execution_count": 41,
      "outputs": [
        {
          "output_type": "stream",
          "name": "stdout",
          "text": [
            "5000550.0\n"
          ]
        }
      ]
    },
    {
      "cell_type": "code",
      "source": [
        "def billing(unit_prices, units, fees, tax_rate):\n",
        "  return (unit_prices * units + fees) * tax_rate\n",
        "\n",
        "x = billing(\n",
        "            unit_prices = 1000, \n",
        "            units = 10, \n",
        "            fees = 500, \n",
        "            tax_rate = 1.1\n",
        "            )\n",
        "print(x)"
      ],
      "metadata": {
        "colab": {
          "base_uri": "https://localhost:8080/"
        },
        "id": "9o8fXyX4qCoy",
        "outputId": "b0f3d95b-2c23-4686-d69a-af0307f908d0"
      },
      "execution_count": 43,
      "outputs": [
        {
          "output_type": "stream",
          "name": "stdout",
          "text": [
            "11550.000000000002\n"
          ]
        }
      ]
    },
    {
      "cell_type": "code",
      "source": [
        "# 키워드 +위치인수\n",
        "\n",
        "x2 = billing(1000, 10, fees = 500, 1.1)\n",
        "print(x2)"
      ],
      "metadata": {
        "colab": {
          "base_uri": "https://localhost:8080/",
          "height": 137
        },
        "id": "UyaBoUtCqGKA",
        "outputId": "e045587f-100b-4b66-b023-a416a5982521"
      },
      "execution_count": 44,
      "outputs": [
        {
          "output_type": "error",
          "ename": "SyntaxError",
          "evalue": "ignored",
          "traceback": [
            "\u001b[0;36m  File \u001b[0;32m\"<ipython-input-44-ab6de253c752>\"\u001b[0;36m, line \u001b[0;32m3\u001b[0m\n\u001b[0;31m    x2 = billing(1000, 10, fees = 500, 1.1)\u001b[0m\n\u001b[0m                                          ^\u001b[0m\n\u001b[0;31mSyntaxError\u001b[0m\u001b[0;31m:\u001b[0m positional argument follows keyword argument\n"
          ]
        }
      ]
    },
    {
      "cell_type": "code",
      "source": [
        "# 연습문제 1. 출력 결과를 말씀해주세요\n",
        "\n",
        "def print_hi():\n",
        "  print(\"Hi\")\n",
        "\n",
        "# 1. Hi\n",
        "# 2. NameError\n",
        "# 3. print_hi()\n",
        "# 4. ValueError\n",
        "# 5. 출력값 없음"
      ],
      "metadata": {
        "id": "L-IA6tzbqL1a"
      },
      "execution_count": 45,
      "outputs": []
    },
    {
      "cell_type": "code",
      "source": [
        "# 연습문제 2. 출력 결과를 말씀해주세요\n",
        "\n",
        "def test(k):\n",
        "  print(f\"Input is {k}\")\n",
        "\n",
        "k = 1000\n",
        "test(k)\n",
        "\n",
        "#1 Input is 1000\n",
        "#2 NameError\n",
        "#3 IndexError\n",
        "#4 ValueError\n",
        "#5 None"
      ],
      "metadata": {
        "colab": {
          "base_uri": "https://localhost:8080/"
        },
        "id": "VphF56-8qQ9Y",
        "outputId": "1b9028f9-1eb7-4167-ea12-725681141b37"
      },
      "execution_count": 46,
      "outputs": [
        {
          "output_type": "stream",
          "name": "stdout",
          "text": [
            "Input is 1000\n"
          ]
        }
      ]
    },
    {
      "cell_type": "code",
      "source": [
        "# 연습문제 3 - 출력 결과를 말씀해주세요\n",
        "def f(x):\n",
        "  y = x\n",
        "  x = 7\n",
        "  return y * x\n",
        "\n",
        "x = 4\n",
        "print(f(3))\n",
        "print(x)\n",
        "\n",
        "# 1. 21\n",
        "#    4\n",
        "# 2. 9\n",
        "#    3\n",
        "# 3. 21\n",
        "#    4\n",
        "# 4. 49\n",
        "#    3\n",
        "# 5. 21\n",
        "#    7"
      ],
      "metadata": {
        "colab": {
          "base_uri": "https://localhost:8080/"
        },
        "id": "285QFjFbqFEZ",
        "outputId": "e0015945-7c20-451c-ed8c-b7037341d616"
      },
      "execution_count": 47,
      "outputs": [
        {
          "output_type": "stream",
          "name": "stdout",
          "text": [
            "21\n",
            "4\n"
          ]
        }
      ]
    },
    {
      "cell_type": "code",
      "source": [
        "# 연습문제 4\n",
        "name = 'jinho'\n",
        "\n",
        "def call_my_name():\n",
        "  print(name)\n",
        "  name = 'sehoon'\n",
        "\n",
        "call_my_name()\n",
        "\n",
        "# 1. 'Jinho'\n",
        "# 2. 'sehoon'\n",
        "# 3. None\n",
        "# 4. error\n",
        "# 5. 'call_my_name'"
      ],
      "metadata": {
        "colab": {
          "base_uri": "https://localhost:8080/",
          "height": 376
        },
        "id": "BV006RuXqVXv",
        "outputId": "7a704d4d-dd86-465d-def9-66c2d554ed2a"
      },
      "execution_count": 48,
      "outputs": [
        {
          "output_type": "error",
          "ename": "UnboundLocalError",
          "evalue": "ignored",
          "traceback": [
            "\u001b[0;31m---------------------------------------------------------------------------\u001b[0m",
            "\u001b[0;31mUnboundLocalError\u001b[0m                         Traceback (most recent call last)",
            "\u001b[0;32m<ipython-input-48-aa1b32cf6a7b>\u001b[0m in \u001b[0;36m<cell line: 8>\u001b[0;34m()\u001b[0m\n\u001b[1;32m      6\u001b[0m   \u001b[0mname\u001b[0m \u001b[0;34m=\u001b[0m \u001b[0;34m'sehoon'\u001b[0m\u001b[0;34m\u001b[0m\u001b[0;34m\u001b[0m\u001b[0m\n\u001b[1;32m      7\u001b[0m \u001b[0;34m\u001b[0m\u001b[0m\n\u001b[0;32m----> 8\u001b[0;31m \u001b[0mcall_my_name\u001b[0m\u001b[0;34m(\u001b[0m\u001b[0;34m)\u001b[0m\u001b[0;34m\u001b[0m\u001b[0;34m\u001b[0m\u001b[0m\n\u001b[0m\u001b[1;32m      9\u001b[0m \u001b[0;34m\u001b[0m\u001b[0m\n\u001b[1;32m     10\u001b[0m \u001b[0;31m# 1. 'Jinho'\u001b[0m\u001b[0;34m\u001b[0m\u001b[0;34m\u001b[0m\u001b[0m\n",
            "\u001b[0;32m<ipython-input-48-aa1b32cf6a7b>\u001b[0m in \u001b[0;36mcall_my_name\u001b[0;34m()\u001b[0m\n\u001b[1;32m      3\u001b[0m \u001b[0;34m\u001b[0m\u001b[0m\n\u001b[1;32m      4\u001b[0m \u001b[0;32mdef\u001b[0m \u001b[0mcall_my_name\u001b[0m\u001b[0;34m(\u001b[0m\u001b[0;34m)\u001b[0m\u001b[0;34m:\u001b[0m\u001b[0;34m\u001b[0m\u001b[0;34m\u001b[0m\u001b[0m\n\u001b[0;32m----> 5\u001b[0;31m   \u001b[0mprint\u001b[0m\u001b[0;34m(\u001b[0m\u001b[0mname\u001b[0m\u001b[0;34m)\u001b[0m\u001b[0;34m\u001b[0m\u001b[0;34m\u001b[0m\u001b[0m\n\u001b[0m\u001b[1;32m      6\u001b[0m   \u001b[0mname\u001b[0m \u001b[0;34m=\u001b[0m \u001b[0;34m'sehoon'\u001b[0m\u001b[0;34m\u001b[0m\u001b[0;34m\u001b[0m\u001b[0m\n\u001b[1;32m      7\u001b[0m \u001b[0;34m\u001b[0m\u001b[0m\n",
            "\u001b[0;31mUnboundLocalError\u001b[0m: local variable 'name' referenced before assignment"
          ]
        }
      ]
    },
    {
      "cell_type": "code",
      "source": [
        "# 연습문제 5\n",
        "def say_myself(name, old, woman = True):\n",
        "  print(f\"나의 이름은 {name}입니다.\")\n",
        "  print(f\"나의 나이는 {old}입니다.\")\n",
        "  if woman:\n",
        "    print(\"여성입니다.\")\n",
        "  else:\n",
        "    print(\"남성입니다.\")\n",
        "\n",
        "say_myself(\"최주영\", \"35\")\n",
        "\n",
        "#1. 나의 이름은 최주영입니다.\n",
        "#   나의 나이는 35입니다.\n",
        "#   여성입니다.\n",
        "#2. 나의 이름은 최주영입니다.\n",
        "#   남성입니다.\n",
        "#   나이는 35살 입니다.\n",
        "#3. 나의 이름은 최주영입니다.\n",
        "#   여성입니다.\n",
        "#   나이는 35살 입니다.\n",
        "#4. 나의 이름은 최주영입니다.\n",
        "#   나의 나이는 35입니다.\n",
        "#   남자입니다.\n",
        "#5. 나의 이름은 최주영입니다.\n",
        "#   여성입니다."
      ],
      "metadata": {
        "colab": {
          "base_uri": "https://localhost:8080/"
        },
        "id": "VL6S7vokqWDB",
        "outputId": "6ca2ec7c-2a07-4227-b8e0-96396e232a80"
      },
      "execution_count": 49,
      "outputs": [
        {
          "output_type": "stream",
          "name": "stdout",
          "text": [
            "나의 이름은 최주영입니다.\n",
            "나의 나이는 35입니다.\n",
            "여성입니다.\n"
          ]
        }
      ]
    },
    {
      "cell_type": "code",
      "source": [
        "# 연습문제 6 실행된 값을 무엇일까요?\n",
        "\n",
        "def exam_func():\n",
        "  x = 10\n",
        "  print(f\"Value: {x}\")\n",
        "\n",
        "x = 20\n",
        "exam_func()\n",
        "print(f\"Value: {x}\")"
      ],
      "metadata": {
        "colab": {
          "base_uri": "https://localhost:8080/"
        },
        "id": "rUeOQYfvqWA0",
        "outputId": "8c996747-30a2-410a-eddf-3c0e14106775"
      },
      "execution_count": 50,
      "outputs": [
        {
          "output_type": "stream",
          "name": "stdout",
          "text": [
            "Value: 10\n",
            "Value: 20\n"
          ]
        }
      ]
    },
    {
      "cell_type": "code",
      "source": [
        "# 연습문제 7 실행된 함수가 어떤값을 가질지 맞춰주세요\n",
        "\n",
        "def get_abbr(data_list):\n",
        "  result = []\n",
        "\n",
        "  for x in data_list:\n",
        "    result.append(x)\n",
        "\n",
        "  return result\n",
        "\n",
        "get_abbr(['Seoul', 'Anyang', 'Incheon', 'Jeju'])\n",
        "\n",
        "#1. ['Seoul', 'Anyang', 'Incheon', 'Jeju']\n",
        "#2. ['Seoul', 'Anyang', 'Incheon']\n",
        "#3. ['Seo', 'Any', 'Inc', 'Jej']\n",
        "#4. ['Seo']\n",
        "#5. error"
      ],
      "metadata": {
        "colab": {
          "base_uri": "https://localhost:8080/"
        },
        "id": "Pg1GBXHnqV-0",
        "outputId": "00234e1e-5e2c-4560-da8c-279cffa67ca9"
      },
      "execution_count": 51,
      "outputs": [
        {
          "output_type": "execute_result",
          "data": {
            "text/plain": [
              "['Seoul', 'Anyang', 'Incheon', 'Jeju']"
            ]
          },
          "metadata": {},
          "execution_count": 51
        }
      ]
    },
    {
      "cell_type": "code",
      "source": [
        "# 연습문제 8 \n",
        "\n",
        "test_data = 3\n",
        "def hi(a):\n",
        "  b = a*3\n",
        "  return b\n",
        "\n",
        "print(hi(test_data))\n",
        "\n",
        "#1. TypeError\n",
        "#2. 9\n",
        "#3. 3\n",
        "#4. None\n",
        "#5. ValueError"
      ],
      "metadata": {
        "colab": {
          "base_uri": "https://localhost:8080/"
        },
        "id": "g9NQ8LogqV8n",
        "outputId": "da075da1-ee72-4467-ae69-f0987e3b29fd"
      },
      "execution_count": 52,
      "outputs": [
        {
          "output_type": "stream",
          "name": "stdout",
          "text": [
            "9\n"
          ]
        }
      ]
    },
    {
      "cell_type": "code",
      "source": [
        "# 연습문제 9\n",
        "a = 111\n",
        "b = 222\n",
        "\n",
        "def function_1():\n",
        "  print(a)\n",
        "  print(b)\n",
        "\n",
        "def function_2():\n",
        "  a = 333\n",
        "  print(b)\n",
        "  print(a)\n",
        "\n",
        "function_1()\n",
        "function_2()\n",
        "\n",
        "#1. 111 222 222 333\n",
        "#2. 222 333 111 222\n",
        "#3. 222 111 222 333\n",
        "#4. 111 222 333 444\n",
        "#5. 333 222 222 111"
      ],
      "metadata": {
        "colab": {
          "base_uri": "https://localhost:8080/"
        },
        "id": "G_PPMvFYqV4e",
        "outputId": "7a08e9b1-19e6-4626-b0bd-b3c28eddd822"
      },
      "execution_count": 53,
      "outputs": [
        {
          "output_type": "stream",
          "name": "stdout",
          "text": [
            "111\n",
            "222\n",
            "222\n",
            "333\n"
          ]
        }
      ]
    },
    {
      "cell_type": "code",
      "source": [],
      "metadata": {
        "id": "Q9SZEWZzqV2g"
      },
      "execution_count": null,
      "outputs": []
    },
    {
      "cell_type": "code",
      "source": [],
      "metadata": {
        "id": "wmUjxVgiqVrN"
      },
      "execution_count": null,
      "outputs": []
    }
  ]
}