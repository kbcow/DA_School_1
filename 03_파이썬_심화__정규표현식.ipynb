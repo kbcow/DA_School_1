{
  "nbformat": 4,
  "nbformat_minor": 0,
  "metadata": {
    "colab": {
      "provenance": []
    },
    "kernelspec": {
      "name": "python3",
      "display_name": "Python 3"
    },
    "language_info": {
      "name": "python"
    }
  },
  "cells": [
    {
      "cell_type": "markdown",
      "source": [
        "# 정규 표현식"
      ],
      "metadata": {
        "id": "ts8CIXdcL3Ss"
      }
    },
    {
      "cell_type": "code",
      "execution_count": 2,
      "metadata": {
        "colab": {
          "base_uri": "https://localhost:8080/",
          "height": 35
        },
        "id": "9jlsyZA2LIu_",
        "outputId": "6f69e712-aa31-4b8c-aa0f-f9bba8e5cb8e"
      },
      "outputs": [
        {
          "output_type": "execute_result",
          "data": {
            "text/plain": [
              "'/content'"
            ],
            "application/vnd.google.colaboratory.intrinsic+json": {
              "type": "string"
            }
          },
          "metadata": {},
          "execution_count": 2
        }
      ],
      "source": [
        "# 파일의 현재 위치 확인\n",
        "# 작업을 하다보면 input / output\n",
        "\n",
        "import os \n",
        "os.getcwd()"
      ]
    },
    {
      "cell_type": "code",
      "source": [
        "# 폴더(경로) 이동하기\n",
        "\n",
        "os.chdir('/content/sample_data')"
      ],
      "metadata": {
        "id": "EHBTEUhlL7xU"
      },
      "execution_count": 3,
      "outputs": []
    },
    {
      "cell_type": "code",
      "source": [
        "#  확인하고, 안에 있는 파일 확인하기\n",
        "\n",
        "os.getcwd()"
      ],
      "metadata": {
        "colab": {
          "base_uri": "https://localhost:8080/",
          "height": 35
        },
        "id": "Dieegff2M_Bp",
        "outputId": "27bde933-244f-4289-b93a-0994c31ba67e"
      },
      "execution_count": 4,
      "outputs": [
        {
          "output_type": "execute_result",
          "data": {
            "text/plain": [
              "'/content/sample_data'"
            ],
            "application/vnd.google.colaboratory.intrinsic+json": {
              "type": "string"
            }
          },
          "metadata": {},
          "execution_count": 4
        }
      ]
    },
    {
      "cell_type": "code",
      "source": [
        "# 폴더안에 파일이 어떤게 있는지 확인하기\n",
        "\n",
        "os.listdir()"
      ],
      "metadata": {
        "colab": {
          "base_uri": "https://localhost:8080/"
        },
        "id": "kKxxgwAFNGHG",
        "outputId": "86b77603-83a4-4894-d87c-45634703c74b"
      },
      "execution_count": 5,
      "outputs": [
        {
          "output_type": "execute_result",
          "data": {
            "text/plain": [
              "['README.md',\n",
              " 'anscombe.json',\n",
              " 'mnist_test.csv',\n",
              " 'california_housing_test.csv',\n",
              " 'california_housing_train.csv',\n",
              " 'mnist_train_small.csv']"
            ]
          },
          "metadata": {},
          "execution_count": 5
        }
      ]
    },
    {
      "cell_type": "code",
      "source": [
        "list_dir = os.listdir()\n",
        "print(list_dir)"
      ],
      "metadata": {
        "colab": {
          "base_uri": "https://localhost:8080/"
        },
        "id": "Nkq5KOYWNM02",
        "outputId": "395fe95a-7d69-4f36-b814-7cac6190aac5"
      },
      "execution_count": 6,
      "outputs": [
        {
          "output_type": "stream",
          "name": "stdout",
          "text": [
            "['README.md', 'anscombe.json', 'mnist_test.csv', 'california_housing_test.csv', 'california_housing_train.csv', 'mnist_train_small.csv']\n"
          ]
        }
      ]
    },
    {
      "cell_type": "code",
      "source": [
        "# 파일 열고 쓰고 \n",
        "# 파일 열기\n",
        "\n",
        "f = open('a.txt','w') "
      ],
      "metadata": {
        "id": "KcQ9e0I6NZhH"
      },
      "execution_count": 7,
      "outputs": []
    },
    {
      "cell_type": "code",
      "source": [
        "f.close()"
      ],
      "metadata": {
        "id": "bnLIkZO8NkvA"
      },
      "execution_count": 8,
      "outputs": []
    },
    {
      "cell_type": "code",
      "source": [
        "# w모드 예시\n",
        "\n",
        "f = open('a.txt','w')\n",
        "f.write('안녕하세요')"
      ],
      "metadata": {
        "colab": {
          "base_uri": "https://localhost:8080/"
        },
        "id": "027NlJ3WNqLv",
        "outputId": "d51aa42b-12d8-42a6-dcf7-da6b9ea76962"
      },
      "execution_count": 9,
      "outputs": [
        {
          "output_type": "execute_result",
          "data": {
            "text/plain": [
              "5"
            ]
          },
          "metadata": {},
          "execution_count": 9
        }
      ]
    },
    {
      "cell_type": "code",
      "source": [
        "f.close()"
      ],
      "metadata": {
        "id": "qs8QIFmqNyi6"
      },
      "execution_count": 10,
      "outputs": []
    },
    {
      "cell_type": "code",
      "source": [
        "# 읽기 모드 활용\n",
        "\n",
        "f= open('a.txt','r')\n",
        "f.read()"
      ],
      "metadata": {
        "colab": {
          "base_uri": "https://localhost:8080/",
          "height": 35
        },
        "id": "Fqdi-2QFN2XH",
        "outputId": "885131a5-f5c0-4f90-839f-278b8fb87dbb"
      },
      "execution_count": 11,
      "outputs": [
        {
          "output_type": "execute_result",
          "data": {
            "text/plain": [
              "'안녕하세요'"
            ],
            "application/vnd.google.colaboratory.intrinsic+json": {
              "type": "string"
            }
          },
          "metadata": {},
          "execution_count": 11
        }
      ]
    },
    {
      "cell_type": "code",
      "source": [
        "f.read() #커서가 다음으로 가 있어서 아무것도 나오지 않음"
      ],
      "metadata": {
        "colab": {
          "base_uri": "https://localhost:8080/",
          "height": 35
        },
        "id": "o6RxqVvvN80P",
        "outputId": "9a58bc14-ae3b-4c18-fb8a-442d2f2388ec"
      },
      "execution_count": 12,
      "outputs": [
        {
          "output_type": "execute_result",
          "data": {
            "text/plain": [
              "''"
            ],
            "application/vnd.google.colaboratory.intrinsic+json": {
              "type": "string"
            }
          },
          "metadata": {},
          "execution_count": 12
        }
      ]
    },
    {
      "cell_type": "code",
      "source": [
        "f.seek(0) #커서를 초기화 해서 0번째 가져오는것"
      ],
      "metadata": {
        "colab": {
          "base_uri": "https://localhost:8080/"
        },
        "id": "ppWJWQU7OCGj",
        "outputId": "537f1c75-f532-4a09-89fa-3ace9be988bb"
      },
      "execution_count": 13,
      "outputs": [
        {
          "output_type": "execute_result",
          "data": {
            "text/plain": [
              "0"
            ]
          },
          "metadata": {},
          "execution_count": 13
        }
      ]
    },
    {
      "cell_type": "code",
      "source": [
        "f.read()"
      ],
      "metadata": {
        "colab": {
          "base_uri": "https://localhost:8080/",
          "height": 35
        },
        "id": "O3vrF5gBOIpM",
        "outputId": "75cdf346-87c8-466e-ae9a-39e92c1b5e72"
      },
      "execution_count": 14,
      "outputs": [
        {
          "output_type": "execute_result",
          "data": {
            "text/plain": [
              "'안녕하세요'"
            ],
            "application/vnd.google.colaboratory.intrinsic+json": {
              "type": "string"
            }
          },
          "metadata": {},
          "execution_count": 14
        }
      ]
    },
    {
      "cell_type": "code",
      "source": [
        "f.close()"
      ],
      "metadata": {
        "id": "7ADAD5kuOKCO"
      },
      "execution_count": 15,
      "outputs": []
    },
    {
      "cell_type": "code",
      "source": [
        "# 만약에 읽기모드로 없는 파일을 생성하려고 한다면 ?\n",
        "\n",
        "f = open('b.txt','r')\n",
        "# 읽는 다는 것은 이미 있다는 것을 전제로 한다.\n"
      ],
      "metadata": {
        "colab": {
          "base_uri": "https://localhost:8080/",
          "height": 229
        },
        "id": "Z6WwHs_wONDP",
        "outputId": "b5d5184c-a82c-4425-82f7-2166bd00b39b"
      },
      "execution_count": 16,
      "outputs": [
        {
          "output_type": "error",
          "ename": "FileNotFoundError",
          "evalue": "ignored",
          "traceback": [
            "\u001b[0;31m---------------------------------------------------------------------------\u001b[0m",
            "\u001b[0;31mFileNotFoundError\u001b[0m                         Traceback (most recent call last)",
            "\u001b[0;32m<ipython-input-16-98da35780616>\u001b[0m in \u001b[0;36m<cell line: 3>\u001b[0;34m()\u001b[0m\n\u001b[1;32m      1\u001b[0m \u001b[0;31m# 만약에 읽기모드로 없는 파일을 생성하려고 한다면 ?\u001b[0m\u001b[0;34m\u001b[0m\u001b[0;34m\u001b[0m\u001b[0m\n\u001b[1;32m      2\u001b[0m \u001b[0;34m\u001b[0m\u001b[0m\n\u001b[0;32m----> 3\u001b[0;31m \u001b[0mf\u001b[0m \u001b[0;34m=\u001b[0m \u001b[0mopen\u001b[0m\u001b[0;34m(\u001b[0m\u001b[0;34m'b.txt'\u001b[0m\u001b[0;34m,\u001b[0m\u001b[0;34m'r'\u001b[0m\u001b[0;34m)\u001b[0m\u001b[0;34m\u001b[0m\u001b[0;34m\u001b[0m\u001b[0m\n\u001b[0m\u001b[1;32m      4\u001b[0m \u001b[0;31m# 읽는 다는 것은 이미 있다는 것을 전제로 한다.\u001b[0m\u001b[0;34m\u001b[0m\u001b[0;34m\u001b[0m\u001b[0m\n",
            "\u001b[0;31mFileNotFoundError\u001b[0m: [Errno 2] No such file or directory: 'b.txt'"
          ]
        }
      ]
    },
    {
      "cell_type": "code",
      "source": [
        "f = open('a.txt','a') #텍스트 추가 모드\n",
        "f.write('\\n추가되는 문장이에요')\n",
        "f.close()"
      ],
      "metadata": {
        "id": "sQonRAdzOgDn"
      },
      "execution_count": 18,
      "outputs": []
    },
    {
      "cell_type": "code",
      "source": [
        "f = open('a.txt','r')\n",
        "f.read()"
      ],
      "metadata": {
        "colab": {
          "base_uri": "https://localhost:8080/",
          "height": 35
        },
        "id": "qMYWsXYrOnf_",
        "outputId": "f120027e-797e-4506-a99a-f4aa1b7e2821"
      },
      "execution_count": 19,
      "outputs": [
        {
          "output_type": "execute_result",
          "data": {
            "text/plain": [
              "'안녕하세요추가되는 문장이에요\\n추가되는 문장이에요'"
            ],
            "application/vnd.google.colaboratory.intrinsic+json": {
              "type": "string"
            }
          },
          "metadata": {},
          "execution_count": 19
        }
      ]
    },
    {
      "cell_type": "code",
      "source": [
        "f.close()"
      ],
      "metadata": {
        "id": "XT0nbqj3OyZ4"
      },
      "execution_count": 20,
      "outputs": []
    },
    {
      "cell_type": "code",
      "source": [
        "# with문으로 객체를 만들지 않고 파일 출력하기\n",
        "\n",
        "f = open('abcde.txt','w')\n",
        "f.write('abcde')\n",
        "\n",
        "# 파일 을 지우려고 하면 파일이 열려있어 꼭 close로 닫은 후에 지워야함\n",
        "# 번거로움\n",
        "f.close()"
      ],
      "metadata": {
        "id": "lCnm0KmYOzZ_"
      },
      "execution_count": null,
      "outputs": []
    },
    {
      "cell_type": "code",
      "source": [
        "# 그래서 사용하는 방법이 with 문의 사용\n",
        "\n",
        "with open(파일이름, 파일 열기모드) as f:\n",
        "  f 에수행할 명령"
      ],
      "metadata": {
        "colab": {
          "base_uri": "https://localhost:8080/",
          "height": 137
        },
        "id": "ns4RwpwxO-6X",
        "outputId": "c5871e27-ed3c-4f35-c85b-faebcce059e4"
      },
      "execution_count": 21,
      "outputs": [
        {
          "output_type": "error",
          "ename": "SyntaxError",
          "evalue": "ignored",
          "traceback": [
            "\u001b[0;36m  File \u001b[0;32m\"<ipython-input-21-32ec7978efbc>\"\u001b[0;36m, line \u001b[0;32m3\u001b[0m\n\u001b[0;31m    with open(파일이름, 파일 열기모드) as f:\u001b[0m\n\u001b[0m                    ^\u001b[0m\n\u001b[0;31mSyntaxError\u001b[0m\u001b[0;31m:\u001b[0m invalid syntax. Perhaps you forgot a comma?\n"
          ]
        }
      ]
    },
    {
      "cell_type": "code",
      "source": [
        "with open('test.txt','w') as f:\n",
        "  "
      ],
      "metadata": {
        "colab": {
          "base_uri": "https://localhost:8080/",
          "height": 137
        },
        "id": "_TjnVtVnPLqJ",
        "outputId": "f1851b6f-f8e2-40dc-9707-dac9c5d65b9d"
      },
      "execution_count": 22,
      "outputs": [
        {
          "output_type": "error",
          "ename": "SyntaxError",
          "evalue": "ignored",
          "traceback": [
            "\u001b[0;36m  File \u001b[0;32m\"<ipython-input-22-a138d6a8aac8>\"\u001b[0;36m, line \u001b[0;32m2\u001b[0m\n\u001b[0;31m    \u001b[0m\n\u001b[0m    ^\u001b[0m\n\u001b[0;31mSyntaxError\u001b[0m\u001b[0;31m:\u001b[0m incomplete input\n"
          ]
        }
      ]
    },
    {
      "cell_type": "code",
      "source": [
        "# 한글 파일의 사용은 약간 자제하기는 하지만 사용할 때가 종종 있다\n",
        "\n",
        "import os ,re \n",
        "f = open('한글_테스트.txt','w')\n",
        "f.close()"
      ],
      "metadata": {
        "id": "mw1sOIekPSKd"
      },
      "execution_count": 23,
      "outputs": []
    },
    {
      "cell_type": "code",
      "source": [
        "# 만약 한글 파일로 된 오류가 떴을때나 인코딩 오류가 났을 때\n",
        "\n",
        "import codecs\n",
        "f = codecs.open('한글파일.txt','r','utf-8')\n",
        "f.read()"
      ],
      "metadata": {
        "id": "Knd0qXQePapd"
      },
      "execution_count": null,
      "outputs": []
    },
    {
      "cell_type": "markdown",
      "source": [
        "# 2.문자열 복습/처리"
      ],
      "metadata": {
        "id": "YcEhuu70P_oM"
      }
    },
    {
      "cell_type": "markdown",
      "source": [
        "문자열 연결 - Join\n",
        "* '구분 문자'.join([문자열1,2,3])"
      ],
      "metadata": {
        "id": "n5qhfXNrQEnb"
      }
    },
    {
      "cell_type": "code",
      "source": [
        "# join 예제 1 \n",
        "\n",
        "test_list = ['hello','world','python']\n",
        "test1 = ''.join(test_list)\n",
        "print(test1)"
      ],
      "metadata": {
        "colab": {
          "base_uri": "https://localhost:8080/"
        },
        "id": "m7uGAPurPqGw",
        "outputId": "013342e7-8f17-42b0-faf5-b991770cbcb8"
      },
      "execution_count": 27,
      "outputs": [
        {
          "output_type": "stream",
          "name": "stdout",
          "text": [
            "helloworldpython\n"
          ]
        }
      ]
    },
    {
      "cell_type": "code",
      "source": [
        "test1 = '^^^'.join(test_list)\n",
        "print(test1)"
      ],
      "metadata": {
        "colab": {
          "base_uri": "https://localhost:8080/"
        },
        "id": "ySeBA8s7QbrI",
        "outputId": "6770262c-2549-4f21-9847-547802c7f633"
      },
      "execution_count": 28,
      "outputs": [
        {
          "output_type": "stream",
          "name": "stdout",
          "text": [
            "hello^^^world^^^python\n"
          ]
        }
      ]
    },
    {
      "cell_type": "markdown",
      "source": [
        "## f-string\n"
      ],
      "metadata": {
        "id": "l8p_DmrGQxiX"
      }
    },
    {
      "cell_type": "code",
      "source": [
        "a = 10\n",
        "b = '홍길동'\n",
        "print(f'제 이름은 {b}입니다 . 나이는 {a}입니다.')"
      ],
      "metadata": {
        "colab": {
          "base_uri": "https://localhost:8080/"
        },
        "id": "Ocn_i8TzQl_e",
        "outputId": "58c74897-9a92-4465-84be-118ebb3557ff"
      },
      "execution_count": 29,
      "outputs": [
        {
          "output_type": "stream",
          "name": "stdout",
          "text": [
            "제 이름은 홍길동입니다 . 나이는 10입니다.\n"
          ]
        }
      ]
    },
    {
      "cell_type": "code",
      "source": [
        "name = '홍길동'\n",
        "age = 10\n",
        "test = f'제 이름은 {b}입니다. 나이는 {a}입니다' # print 없어도 됨\n",
        "print(test)"
      ],
      "metadata": {
        "colab": {
          "base_uri": "https://localhost:8080/"
        },
        "id": "ZGlZXElkRIpe",
        "outputId": "bb408c9c-3652-41c2-9f97-aeef2a9b6502"
      },
      "execution_count": 30,
      "outputs": [
        {
          "output_type": "stream",
          "name": "stdout",
          "text": [
            "제 이름은 홍길동입니다. 나이는 10입니다\n"
          ]
        }
      ]
    },
    {
      "cell_type": "markdown",
      "source": [
        "## 문자열 치환하기 - replace"
      ],
      "metadata": {
        "id": "lix8EmRNRkL0"
      }
    },
    {
      "cell_type": "code",
      "source": [
        "text1 = 'Simple is Best'\n",
        "# 공백을 없애는 replace문\n",
        "text2 = text1.replace(' ','') #제거할것 / 변경할것\n",
        "print(text1)\n",
        "print(text2)"
      ],
      "metadata": {
        "colab": {
          "base_uri": "https://localhost:8080/"
        },
        "id": "RHCe7Ny8RQrX",
        "outputId": "11398555-6c25-4393-c2a8-4dc70aea5308"
      },
      "execution_count": 33,
      "outputs": [
        {
          "output_type": "stream",
          "name": "stdout",
          "text": [
            "Simple is Best\n",
            "SimpleisBest\n"
          ]
        }
      ]
    },
    {
      "cell_type": "code",
      "source": [
        "text1 = 'Simple is Best'\n",
        "# 공백을 없애는 replace문\n",
        "text2 = text1.replace(' ','___',2) #제거할것 / 변경할것\n",
        "print(text1)\n",
        "print(text2)"
      ],
      "metadata": {
        "colab": {
          "base_uri": "https://localhost:8080/"
        },
        "id": "QheM8tlxRxCu",
        "outputId": "b2df5743-da93-4676-a292-a9fa4a71c803"
      },
      "execution_count": 39,
      "outputs": [
        {
          "output_type": "stream",
          "name": "stdout",
          "text": [
            "Simple is Best\n",
            "Simple___is___Best\n"
          ]
        }
      ]
    },
    {
      "cell_type": "markdown",
      "source": [
        "## 문자열 포함 여부 확인\n"
      ],
      "metadata": {
        "id": "4qq52NinW8lc"
      }
    },
    {
      "cell_type": "code",
      "source": [
        "text1 = 'Simple is Best'\n",
        "\n",
        "contains = 'book' in text1\n",
        "print(contains)"
      ],
      "metadata": {
        "colab": {
          "base_uri": "https://localhost:8080/"
        },
        "id": "1-RFp8crSCIW",
        "outputId": "77fa53cf-284b-4f2c-c3ec-cc4d837b559f"
      },
      "execution_count": 41,
      "outputs": [
        {
          "output_type": "stream",
          "name": "stdout",
          "text": [
            "False\n"
          ]
        }
      ]
    },
    {
      "cell_type": "code",
      "source": [
        "text1 = 'Simple is Best'\n",
        "\n",
        "contains = 'Simple' in text1\n",
        "print(contains)"
      ],
      "metadata": {
        "colab": {
          "base_uri": "https://localhost:8080/"
        },
        "id": "uoMrxxVvXKhm",
        "outputId": "ba4c70ed-6fea-495f-a337-32d3c96fe095"
      },
      "execution_count": 42,
      "outputs": [
        {
          "output_type": "stream",
          "name": "stdout",
          "text": [
            "True\n"
          ]
        }
      ]
    },
    {
      "cell_type": "code",
      "source": [
        "text1 = 'Simple is Best'\n",
        "\n",
        "contains = 'is' in text1\n",
        "print(contains)"
      ],
      "metadata": {
        "colab": {
          "base_uri": "https://localhost:8080/"
        },
        "id": "uIN6ruYkXJYv",
        "outputId": "3df388bb-c7c6-443b-a88d-b04b770ccc44"
      },
      "execution_count": 43,
      "outputs": [
        {
          "output_type": "stream",
          "name": "stdout",
          "text": [
            "True\n"
          ]
        }
      ]
    },
    {
      "cell_type": "code",
      "source": [
        "text1 = 'Simple is Best'\n",
        "\n",
        "contains = ' ' in text1\n",
        "print(contains)"
      ],
      "metadata": {
        "colab": {
          "base_uri": "https://localhost:8080/"
        },
        "id": "5ypefNeVXNGf",
        "outputId": "0e78f418-eece-4f85-f0b4-20c1176105ce"
      },
      "execution_count": 44,
      "outputs": [
        {
          "output_type": "stream",
          "name": "stdout",
          "text": [
            "True\n"
          ]
        }
      ]
    },
    {
      "cell_type": "code",
      "source": [
        "#영문 Kim Korea\n",
        "\n",
        "text = 'Simple is Best'\n",
        "#lower()\n",
        "contains = 'SIMPLE'.lower() in text.lower()"
      ],
      "metadata": {
        "id": "aAMhQq-3XO99"
      },
      "execution_count": 47,
      "outputs": []
    },
    {
      "cell_type": "code",
      "source": [
        "print(contains)"
      ],
      "metadata": {
        "colab": {
          "base_uri": "https://localhost:8080/"
        },
        "id": "6Cc0Dec7XyRN",
        "outputId": "5bcc22ba-ae17-4f38-cb9c-c4108efb632b"
      },
      "execution_count": 48,
      "outputs": [
        {
          "output_type": "stream",
          "name": "stdout",
          "text": [
            "True\n"
          ]
        }
      ]
    },
    {
      "cell_type": "markdown",
      "source": [
        "## 문자열 일부 추출"
      ],
      "metadata": {
        "id": "rE0C0qQKYBxk"
      }
    },
    {
      "cell_type": "code",
      "source": [
        "text = 'abcdefg'\n",
        "x1 =text[0]\n",
        "x2 =text[3]\n",
        "x3 =text[-1]\n",
        "print(x1,x2,x3)"
      ],
      "metadata": {
        "colab": {
          "base_uri": "https://localhost:8080/"
        },
        "id": "ekKNcfaIX9Tm",
        "outputId": "277f9f78-85e1-444f-82ad-31124a78a91b"
      },
      "execution_count": 49,
      "outputs": [
        {
          "output_type": "stream",
          "name": "stdout",
          "text": [
            "a d g\n"
          ]
        }
      ]
    },
    {
      "cell_type": "markdown",
      "source": [
        "## 문자열 공백 처리"
      ],
      "metadata": {
        "id": "yBOTI1CgYfyu"
      }
    },
    {
      "cell_type": "code",
      "source": [
        "# 문자열 공백처리 예제\n",
        "\n",
        "txet = ' abcdefd '\n",
        "stripped = text.strip()\n",
        "print('*'+stripped+'*')"
      ],
      "metadata": {
        "colab": {
          "base_uri": "https://localhost:8080/"
        },
        "id": "Va7bm3tDYME9",
        "outputId": "79314eae-d5bc-4fd7-9d75-5166ae2f0f3e"
      },
      "execution_count": 50,
      "outputs": [
        {
          "output_type": "stream",
          "name": "stdout",
          "text": [
            "*abcdefg*\n"
          ]
        }
      ]
    },
    {
      "cell_type": "code",
      "source": [
        "\n",
        "txet = ' abcdefd '\n",
        "print('*'+stripped+'*')"
      ],
      "metadata": {
        "colab": {
          "base_uri": "https://localhost:8080/"
        },
        "id": "q-O6XivyYq51",
        "outputId": "a6caf82c-ed0f-41c8-a790-b4d60bf12dca"
      },
      "execution_count": 51,
      "outputs": [
        {
          "output_type": "stream",
          "name": "stdout",
          "text": [
            "*abcdefg*\n"
          ]
        }
      ]
    },
    {
      "cell_type": "code",
      "source": [
        "txet = ' abcdefd '\n",
        "\n",
        "#오른쪽 공백 제거\n",
        "r_stripped = text.rstrip()\n",
        "print(r_stripped)\n",
        "\n",
        "#왼쪽 공백 제거\n",
        "l_stripped = text.lstrip()\n",
        "print(l_stripped)"
      ],
      "metadata": {
        "colab": {
          "base_uri": "https://localhost:8080/"
        },
        "id": "JykM4hYdYxEt",
        "outputId": "2d670797-92f1-4f2b-b792-2def79e1562f"
      },
      "execution_count": 52,
      "outputs": [
        {
          "output_type": "stream",
          "name": "stdout",
          "text": [
            "abcdefg\n",
            "abcdefg\n"
          ]
        }
      ]
    },
    {
      "cell_type": "markdown",
      "source": [
        "## 문자열을 구분자로 분리하기"
      ],
      "metadata": {
        "id": "f7sHulEwZJwe"
      }
    },
    {
      "cell_type": "code",
      "source": [
        "txet = 'Time is Zero. Simple is Best'\n",
        "l= txet.split(' ')\n",
        "print(l)"
      ],
      "metadata": {
        "colab": {
          "base_uri": "https://localhost:8080/"
        },
        "id": "kIgpaFsMZJal",
        "outputId": "7a553221-d7f5-4994-eeba-ad391fcfc487"
      },
      "execution_count": 54,
      "outputs": [
        {
          "output_type": "stream",
          "name": "stdout",
          "text": [
            "['Time', 'is', 'Zero.', 'Simple', 'is', 'Best']\n"
          ]
        }
      ]
    },
    {
      "cell_type": "code",
      "source": [
        "# 문장에 있는 모든 단어를 가져오고 싶을때\n",
        "\n",
        "text = \"Time,is,Zero.,Simple,is,Best\"\n",
        "l = text.split(\",\")\n",
        "print(l)"
      ],
      "metadata": {
        "colab": {
          "base_uri": "https://localhost:8080/"
        },
        "id": "JlPUvjWnY81l",
        "outputId": "de8fa5ba-3402-48b0-e358-f281702ee5ad"
      },
      "execution_count": 56,
      "outputs": [
        {
          "output_type": "stream",
          "name": "stdout",
          "text": [
            "['Time', 'is', 'Zero.', 'Simple', 'is', 'Best']\n"
          ]
        }
      ]
    },
    {
      "cell_type": "markdown",
      "source": [
        "## 문자열을 0으로 채우기"
      ],
      "metadata": {
        "id": "ZLvVRhklZmr_"
      }
    },
    {
      "cell_type": "code",
      "source": [
        "num = 92\n",
        "num_str ='92'\n",
        "zfilled = num_str.zfill(8)\n",
        "print(zfilled,type(zfilled))"
      ],
      "metadata": {
        "colab": {
          "base_uri": "https://localhost:8080/"
        },
        "id": "8eE6VtvHZh52",
        "outputId": "7c1628f8-4716-4d9c-b89b-48d6e94bc171"
      },
      "execution_count": 59,
      "outputs": [
        {
          "output_type": "stream",
          "name": "stdout",
          "text": [
            "00000092 <class 'str'>\n"
          ]
        }
      ]
    },
    {
      "cell_type": "markdown",
      "source": [
        "# 특정 문자열 포함 행만 추출하기\n",
        "\n",
        "문자열의 split과 리스트 컴프리핸션을 사용하면 특정 문자열을 포함하는 행만 추출 가능\n",
        "\n",
        "1. split을 사용하여 텍스트를 줄바꿈, 1행씩 리스트로 얻을 수 있음\n",
        "2. 리스트 컴프리핸션을 사용하여 특정 문자열을 포함하는 행 추출\n",
        "3. 원래 텍스트로부터 특정한 문자열을 포함하는 행만 추출한 텍스트를 만들 수 있다."
      ],
      "metadata": {
        "id": "Ozu8HDyrc5Ez"
      }
    },
    {
      "cell_type": "code",
      "source": [
        "# 미션 - 데이터가 있는 행을 찾고 싶다.\n",
        "text = \"\"\"저는 김철수 입니다.\n",
        "        반갑습니다. 저는 데이터 분석가 입니다.\n",
        "        데이터로 일하는 것은 즐거운 일인데\n",
        "        더 열심히 배우겟습니다. 감사합니다. \"\"\"\n",
        "\n",
        "# 한줄씩 리스트로 생성\n",
        "lines = text.split(\"\\n\")\n",
        "# 라인에서 데이터가 있는 라인만 가져오기\n",
        "line_list = [line for line in lines if \"데이터\" in line]\n",
        "# 문자열 리스트로 연결하기\n",
        "# enter로 연결하여 출력\n",
        "new_text = \"\\n\".join(line_list)\n",
        "\n",
        "print(new_text)"
      ],
      "metadata": {
        "colab": {
          "base_uri": "https://localhost:8080/"
        },
        "id": "s9IDrZG9as21",
        "outputId": "449d1036-4570-4a8a-987f-4350dba3f27f"
      },
      "execution_count": 65,
      "outputs": [
        {
          "output_type": "stream",
          "name": "stdout",
          "text": [
            "        반갑습니다. 저는 데이터 분석가 입니다.\n",
            "        데이터로 일하는 것은 즐거운 일인데\n"
          ]
        }
      ]
    },
    {
      "cell_type": "code",
      "source": [
        "text = \"\"\"저는 김철수 입니다.\n",
        "        반갑습니다. 저는 데이터 분석가 입니다.\n",
        "        데이터로 일하는 것은 즐거운 일인데\n",
        "        더 열심히 배우겟습니다. 감사합니다. \"\"\"\n",
        "\n",
        "lines = text.split(\"\\n\")\n",
        "print(lines)"
      ],
      "metadata": {
        "colab": {
          "base_uri": "https://localhost:8080/"
        },
        "id": "K2MmUbiodOb9",
        "outputId": "fe8c6685-c9bd-4a2c-a7a8-1f727e2644ae"
      },
      "execution_count": 61,
      "outputs": [
        {
          "output_type": "stream",
          "name": "stdout",
          "text": [
            "['저는 김철수 입니다.', '        반갑습니다. 저는 데이터 분석가 입니다.', '        데이터로 일하는 것은 즐거운 일인데', '        더 열심히 배우겟습니다. 감사합니다. ']\n"
          ]
        }
      ]
    },
    {
      "cell_type": "markdown",
      "source": [
        "# 텍스트의 빈 행 삭제하기"
      ],
      "metadata": {
        "id": "FTO3FHOVeULY"
      }
    },
    {
      "cell_type": "code",
      "source": [
        "text = \"\"\"저는 김철수 입니다.\n",
        "\n",
        "        반갑습니다. 저는 데이터 분석가 입니다.\n",
        "\n",
        "        데이터로 일하는 것은 즐거운 일인데\n",
        "        \n",
        "        더 열심히 배우겟습니다. 감사합니다. \"\"\""
      ],
      "metadata": {
        "id": "5HRTa-fDdRD0"
      },
      "execution_count": 79,
      "outputs": []
    },
    {
      "cell_type": "code",
      "source": [
        "lines = text.split(\"\\n\")"
      ],
      "metadata": {
        "id": "QIBFsz73eYJO"
      },
      "execution_count": 80,
      "outputs": []
    },
    {
      "cell_type": "code",
      "source": [
        "line_list = [line.strip() for line in lines if line.strip() != \"\"] # = 같다 "
      ],
      "metadata": {
        "id": "4CEQZ8_6eYgh"
      },
      "execution_count": 81,
      "outputs": []
    },
    {
      "cell_type": "code",
      "source": [
        "new_text = '\\n'.join(line_list)"
      ],
      "metadata": {
        "id": "hdXOLK2ne1PH"
      },
      "execution_count": 82,
      "outputs": []
    },
    {
      "cell_type": "code",
      "source": [
        "print(new_text)"
      ],
      "metadata": {
        "colab": {
          "base_uri": "https://localhost:8080/"
        },
        "id": "2zgo3UkBehBC",
        "outputId": "427d43b4-6591-4907-906f-61c75af835ac"
      },
      "execution_count": 83,
      "outputs": [
        {
          "output_type": "stream",
          "name": "stdout",
          "text": [
            "저는 김철수 입니다.\n",
            "반갑습니다. 저는 데이터 분석가 입니다.\n",
            "데이터로 일하는 것은 즐거운 일인데\n",
            "더 열심히 배우겟습니다. 감사합니다.\n"
          ]
        }
      ]
    },
    {
      "cell_type": "markdown",
      "source": [
        "## 무작위로 문자열 생성하기\n"
      ],
      "metadata": {
        "id": "mttQoLi-lVvs"
      }
    },
    {
      "cell_type": "code",
      "source": [
        "import random \n",
        "\n",
        "letters = 'abcdefg'\n",
        "rl = random.choices(letters, k = 4)\n",
        "print(rl)\n"
      ],
      "metadata": {
        "colab": {
          "base_uri": "https://localhost:8080/"
        },
        "id": "xCnOA3DFeoYX",
        "outputId": "3398e17e-42c7-4df4-dd71-3bdb80c93dfb"
      },
      "execution_count": 88,
      "outputs": [
        {
          "output_type": "stream",
          "name": "stdout",
          "text": [
            "['b', 'b', 'd', 'g']\n"
          ]
        }
      ]
    },
    {
      "cell_type": "markdown",
      "source": [
        "# 정규 표현식"
      ],
      "metadata": {
        "id": "b8DQ_rLNlgo-"
      }
    },
    {
      "cell_type": "markdown",
      "source": [
        "## findall 함수\n"
      ],
      "metadata": {
        "id": "1nl4zLZRoNRF"
      }
    },
    {
      "cell_type": "code",
      "source": [
        "import re \n",
        "\n",
        "text1 = 'In the face of ambiguity, refuse the tempation to guess'\n",
        "text2 = 'tx ti tp te t1 t2'\n",
        "match_list = re.findall(r't.',text1)\n"
      ],
      "metadata": {
        "id": "QzjGycUPnYtp"
      },
      "execution_count": 96,
      "outputs": []
    },
    {
      "cell_type": "code",
      "source": [
        "print(match_list)"
      ],
      "metadata": {
        "colab": {
          "base_uri": "https://localhost:8080/"
        },
        "id": "RikGxnChoYjG",
        "outputId": "09269bcd-1ee4-4c92-e94f-7ce96ce5fde1"
      },
      "execution_count": 97,
      "outputs": [
        {
          "output_type": "stream",
          "name": "stdout",
          "text": [
            "['th', 'ty', 'th', 'te', 'ti', 'to']\n"
          ]
        }
      ]
    },
    {
      "cell_type": "code",
      "source": [
        "text2 = 'tx ti tp te t1 t2'   #t- t~\n",
        "match_list = re.findall(r't.',text2)\n",
        "print(match_list)"
      ],
      "metadata": {
        "colab": {
          "base_uri": "https://localhost:8080/"
        },
        "id": "bj0GjfbWovSt",
        "outputId": "0fecb8cf-5577-469f-83c6-7b47c593d2b2"
      },
      "execution_count": 95,
      "outputs": [
        {
          "output_type": "stream",
          "name": "stdout",
          "text": [
            "['tx', 'ti', 'tp', 'te', 't1', 't2']\n"
          ]
        }
      ]
    },
    {
      "cell_type": "markdown",
      "source": [
        "## sub 함수"
      ],
      "metadata": {
        "id": "vZOwZic5pIEs"
      }
    },
    {
      "cell_type": "code",
      "source": [
        "import re \n",
        "\n",
        "text = 'Beautibul is better than ugal'\n",
        "#sub(대체 해야할 문자 / 대체할 문자 / 데이터)\n",
        "replaced = re.sub(r' ','_',text) #공백문자는 \\s로도 쓰입니다.\n",
        "print(replaced)"
      ],
      "metadata": {
        "colab": {
          "base_uri": "https://localhost:8080/"
        },
        "id": "RJ7K5-wMoy9M",
        "outputId": "48494064-565c-482a-927d-4e3da60828f1"
      },
      "execution_count": 99,
      "outputs": [
        {
          "output_type": "stream",
          "name": "stdout",
          "text": [
            "Beautibul_is_better_than_ugal\n"
          ]
        }
      ]
    },
    {
      "cell_type": "code",
      "source": [
        "import re \n",
        "\n",
        "text = 'Beautibul is better than ugal'\n",
        "#sub(대체 해야할 문자 / 대체할 문자 / 데이터)\n",
        "replaced = re.sub(r'\\s','_',text) #공백문자는 \\s로도 쓰입니다.\n",
        "print(replaced)"
      ],
      "metadata": {
        "colab": {
          "base_uri": "https://localhost:8080/"
        },
        "id": "zPMkYA1GqHvn",
        "outputId": "439990ea-7a92-405e-848d-0a717667bdce"
      },
      "execution_count": 100,
      "outputs": [
        {
          "output_type": "stream",
          "name": "stdout",
          "text": [
            "Beautibul_is_better_than_ugal\n"
          ]
        }
      ]
    },
    {
      "cell_type": "markdown",
      "source": [
        "## 텍스트 분할 하기"
      ],
      "metadata": {
        "id": "JkuwvySLqxTm"
      }
    },
    {
      "cell_type": "code",
      "source": [
        "text = 'Simple is Best'\n",
        "# ^ -> 문자의 시작\n",
        "# + 직전 정규 표현식을 1회이상 반복\n",
        "replaced = re.split((r'[^a-zA-Z]+'), text) #소문자 대문자 숫자 a A 0부터 z Z 9까지 \n",
        "print(replaced)"
      ],
      "metadata": {
        "colab": {
          "base_uri": "https://localhost:8080/"
        },
        "id": "_4vNP2wVqQJW",
        "outputId": "ede1896c-db3c-42de-c0d5-0eddb9799c80"
      },
      "execution_count": 105,
      "outputs": [
        {
          "output_type": "stream",
          "name": "stdout",
          "text": [
            "['Simple', 'is', 'Best']\n"
          ]
        }
      ]
    },
    {
      "cell_type": "code",
      "source": [
        "text = 'Simple is Best'\n",
        "text.split()"
      ],
      "metadata": {
        "colab": {
          "base_uri": "https://localhost:8080/"
        },
        "id": "QV0ltJk7rEBF",
        "outputId": "7a8a956b-5fbc-4ce9-aa54-ecf26367ef46"
      },
      "execution_count": 106,
      "outputs": [
        {
          "output_type": "execute_result",
          "data": {
            "text/plain": [
              "['Simple', 'is', 'Best']"
            ]
          },
          "metadata": {},
          "execution_count": 106
        }
      ]
    },
    {
      "cell_type": "markdown",
      "source": [
        "## 정규표현식에서 그룹 이용하기"
      ],
      "metadata": {
        "id": "25f4qLOqsF5G"
      }
    },
    {
      "cell_type": "code",
      "source": [
        "text = '''\n",
        "101 CF001 커피\n",
        "101 CF002 커피(대용량)\n",
        "201 TE01 홍차 \n",
        "202 TE02 홍차(대용량) \n",
        "'''\n",
        "#group 1 \n",
        "#group 2 \n",
        "#group 3 \n",
        "items = re.findall(r'([0-9+]+) +([0-9 A-Z]+) +(.*)',text)\n",
        "print(items)"
      ],
      "metadata": {
        "colab": {
          "base_uri": "https://localhost:8080/"
        },
        "id": "Pne60k9xrxS-",
        "outputId": "30f51b45-6cbc-4f20-eae3-c694d9c2ad00"
      },
      "execution_count": 108,
      "outputs": [
        {
          "output_type": "stream",
          "name": "stdout",
          "text": [
            "[('101', ' CF001 ', '커피'), ('101', ' CF002 ', '커피(대용량)'), ('201', ' TE01 ', '홍차 '), ('202', ' TE02 ', '홍차(대용량) ')]\n"
          ]
        }
      ]
    },
    {
      "cell_type": "markdown",
      "source": [
        "## 정규표현식에서 일치하는 부분 확인"
      ],
      "metadata": {
        "id": "VyulQq8kCFWS"
      }
    },
    {
      "cell_type": "code",
      "source": [
        "# 정규표현식과 일치하는 부분 확인\n",
        "\n",
        "# re 모듈의 serach함수는 정규표현식과 일치하는 첫 번째 위치 정보가 저장된 Match 객체를 반환\n",
        "# Match 객체를 사용하면 일치하는 위치의 문자열과 함께 시작 및 종료 위치 정보 확보 가능\n",
        "\n",
        "# match객체\n",
        "# start , end , group, groups 튜플 그룹\n",
        "\n",
        "import re\n",
        "\n",
        "text = 'Error should never pass silently'\n",
        "\n",
        "m_obj = re.search(r\"p...\", text)\n",
        "\n",
        "print(m_obj.group()) # 일치 문자열 ()로 묶인 것인 없음\n",
        "print(m_obj.start()) # 시작 인덱스\n",
        "print(m_obj.end()) # 끝 인덱스"
      ],
      "metadata": {
        "colab": {
          "base_uri": "https://localhost:8080/"
        },
        "id": "raemvfZTtRB0",
        "outputId": "5f020361-04bf-4e06-b0ce-aec1a6a2eff9"
      },
      "execution_count": 109,
      "outputs": [
        {
          "output_type": "stream",
          "name": "stdout",
          "text": [
            "pass\n",
            "19\n",
            "23\n"
          ]
        }
      ]
    },
    {
      "cell_type": "code",
      "source": [
        "import re\n",
        "\n",
        "text = 'Errors should never pass silently'\n",
        "# 1번 그룹 - n.... n다음에 4글자가 아무거나\n",
        "# 2번 그룹 - P... n다음에 3글자가 아무거나\n",
        "\n",
        "m_obj = re.search(r\"(n....) (p...)\", text)\n",
        "print(m_obj.group())\n",
        "print(m_obj.groups())"
      ],
      "metadata": {
        "colab": {
          "base_uri": "https://localhost:8080/"
        },
        "id": "vuSaIJvZCjY6",
        "outputId": "1f187249-9dd8-4984-efef-0b5aa3391a40"
      },
      "execution_count": 111,
      "outputs": [
        {
          "output_type": "stream",
          "name": "stdout",
          "text": [
            "never pass\n",
            "('never', 'pass')\n"
          ]
        }
      ]
    },
    {
      "cell_type": "markdown",
      "source": [
        "## Greedy , Lazy 개념"
      ],
      "metadata": {
        "id": "9RhF3QB0DPS5"
      }
    },
    {
      "cell_type": "code",
      "source": [
        "# Greedy, Lazy 사용하기\n",
        "# 정규표현식이 패턴에 일치하는 문자열을 추출할때\n",
        "# 일치하는 최대한의 범위를 추출하는 상태를 greedy(탐욕)이라고 한다.\n",
        "\n",
        "# 최소한은 Lazy라고 하는데 파이썬은 기본적으로 greedy하지만\n",
        "# ?를 붙이는 순간 Lazy해진다. \n",
        "\n",
        "import re\n",
        "\n",
        "text = 'In the face of ambiguity, refuse the temptation to guess'\n",
        "# t로 시작하고 공백이 끝나는거 까지 \n",
        "\n",
        "match_list = re.findall(r\"t.*\\s\", text) # t에서 아무문자나 해서 직전까지 0번 반복되어 공백까지\n",
        "print(match_list)\n",
        "\n",
        "# ?를 붙이면 t에서 가장 가까운 공백까지만 일치하는 것을 찾는 것을 볼 수 있음"
      ],
      "metadata": {
        "colab": {
          "base_uri": "https://localhost:8080/"
        },
        "id": "OrXodakwC3xj",
        "outputId": "48d2da3e-cae7-4dcb-8148-977db98d8097"
      },
      "execution_count": 116,
      "outputs": [
        {
          "output_type": "stream",
          "name": "stdout",
          "text": [
            "['the face of ambiguity, refuse the temptation to ']\n"
          ]
        }
      ]
    },
    {
      "cell_type": "code",
      "source": [
        "import re\n",
        "\n",
        "text = 'In the face of ambiguity, refuse the temptation to guess'\n",
        "\n",
        "# ?를 붙이면 t에서 가장 가까운 공백까지만 일치하는 것을 찾는 것을 볼 수 있음\n",
        "match_list = re.findall(r\"t.*?\\s\", text) # t에서 아무문자나 해서 직전까지 0번 반복되어 공백까지\n",
        "print(match_list)"
      ],
      "metadata": {
        "colab": {
          "base_uri": "https://localhost:8080/"
        },
        "id": "SmMNLmXtDbex",
        "outputId": "ab2d2ebd-0a9e-4881-dbcb-278714a0812d"
      },
      "execution_count": 117,
      "outputs": [
        {
          "output_type": "stream",
          "name": "stdout",
          "text": [
            "['the ', 'ty, ', 'the ', 'temptation ', 'to ']\n"
          ]
        }
      ]
    },
    {
      "cell_type": "markdown",
      "source": [
        "# 정규표현식 실습\n",
        "\n",
        "[우리가 자주 사용할 함수]\n",
        "\n",
        "* findall - 일치하는 문자열을 리스트로 반환\n",
        "* split - 일치하는 문자열로 원래 문자열을 분할한 리스트로 반환\n",
        "* sub - 일치하는 문자열을 치환한 문자열을 반환\n",
        "* search - 일치하는 문자열이 있으면 match 객체를 반환\n",
        "\n",
        "[대표적인 정규표현식]\n",
        "\n",
        "* . 줄바꿈 이외의 임의의 문자\n",
        "* ^ 문자열 시작\n",
        "* $ 문자열의 끝, 또는 문자열 끝 줄바꿈 직전\n",
        "* * 직전 정규표현식은 0회 이상 반복\n",
        "* + 직전 정규표현식을 1회 이상 반복\n",
        "* ? 직전 정규표현식이 0회 또는 1회 존재\n",
        "\n",
        "[자주 사용하는 문자 클래스]\n",
        "# 꼭 기억해야할 정규표현식\n",
        "* \\d 숫자와 매치 [0-9]와 같다.\n",
        "* \\D 숫자가 아닌것과 매치 [^0-9]와 같다.\n",
        "\n",
        "* \\s whitespace문자와 매치 [ \\t\\n\\r\\f\\v]와 같음. 맨앞의 빈칸은 공백을 의미\n",
        "* \\S whitespace문자가 아닌것과 매치 [^ \\t\\n\\r\\f\\v]와 같음.\n",
        "\n",
        "* \\w 문자+숫자와 매치 [a-zA-Z0-9]와 같습니다.\n",
        "* \\W 문자+숫자가 아닌 문자와 매치 [^a-zA-Z0-9]와 같습니다.\n",
        "\n",
        "* \\ 메타 문자가 아닌 일반 문자 역슬래시와 매치. 매타 문자 앞에 W를 붙이면 일반문자를 위미"
      ],
      "metadata": {
        "id": "JNqJEYdxGP-N"
      }
    },
    {
      "cell_type": "code",
      "source": [
        "# 주소록입니다. 이후 강의에서 모두 이 search_target을 사용합니다.\n",
        "searchtarget = '''\n",
        "hello world\n",
        "hello  world\n",
        "hello, world\n",
        "Hello World\n",
        "\n",
        "hello world hello\n",
        "\n",
        "hello\n",
        "hallo\n",
        "hollo\n",
        "heallo\n",
        "yellow\n",
        "\n",
        "Monday Tuesday Wednesday Thursday Friday Saturday Sunday\n",
        "\n",
        "abcdefghijklmnopqrstuvwxyzABCDEFGHIJKLMNOPQRSTUVWXYZ01234567891011121314151617181920\n",
        "aaabbcaaabbcabcabc\n",
        "aaa bb c aaa bb c a b c a b c\n",
        "aaa1bb2c3aaa4bb5c6\n",
        "\n",
        "[123456]\n",
        "123[456]789\n",
        "abc[def]ghij\n",
        "\n",
        "010-9091-5491\n",
        "010-5043-2901\n",
        "010-5050-40409\n",
        "010-49492-3131\n",
        "010 2913 3132\n",
        "01019133829\n",
        "064-721-3213\n",
        "010.1913.3829\n",
        "\n",
        "\n",
        "paul-korea@naver.com\n",
        "paul@naver.com\n",
        "leehojun@gmail.com\n",
        "hojun.lee@gmail.com\n",
        "test.test@go.go.go\n",
        "\n",
        "\n",
        "https://github.com/LiveCoronaDetector/livecod\n",
        "github.com/LiveCoronaDetector/livecod\n",
        "https://github.com/LiveCoronaDetector\n",
        "\n",
        "I never dreamed about success, I worked for it.\n",
        "Do not be afraid to give up the good to go for the great.\n",
        "\n",
        "hello (hello world) hello\n",
        "hello \\hello world// hello\n",
        "^^\n",
        ":)\n",
        "\n",
        "[(name, leehojun), (age, 10), (height, 180), (email, paul-lab@naver.com)]\n",
        "{name : leehojun, age : 10, height : 180, email : paul-lab@naver.com}\n",
        "\n",
        "가나다라마바사아자차카타파하\n",
        "ㄱㄴㄷㄹㅁㅂㅅㅇㅈㅊㅋㅌㅍㅎ\n",
        "안녕하세요\n",
        "안녕-하세요\n",
        "수사\n",
        "수박\n",
        "수상\n",
        "동해 물과 백두산이 마르고 닳도록 하느님이 보호하사 우리나라 만세\n",
        "'''\n",
        "print(searchtarget)"
      ],
      "metadata": {
        "colab": {
          "base_uri": "https://localhost:8080/"
        },
        "id": "9ilRQFBoEeJi",
        "outputId": "49241648-ad4a-45f8-c563-f0f003d389d7"
      },
      "execution_count": 123,
      "outputs": [
        {
          "output_type": "stream",
          "name": "stdout",
          "text": [
            "\n",
            "hello world\n",
            "hello  world\n",
            "hello, world\n",
            "Hello World\n",
            "\n",
            "hello world hello\n",
            "\n",
            "hello\n",
            "hallo\n",
            "hollo\n",
            "heallo\n",
            "yellow\n",
            "\n",
            "Monday Tuesday Wednesday Thursday Friday Saturday Sunday\n",
            "\n",
            "abcdefghijklmnopqrstuvwxyzABCDEFGHIJKLMNOPQRSTUVWXYZ01234567891011121314151617181920\n",
            "aaabbcaaabbcabcabc\n",
            "aaa bb c aaa bb c a b c a b c\n",
            "aaa1bb2c3aaa4bb5c6\n",
            "\n",
            "[123456]\n",
            "123[456]789\n",
            "abc[def]ghij\n",
            "\n",
            "010-9091-5491\n",
            "010-5043-2901\n",
            "010-5050-40409\n",
            "010-49492-3131\n",
            "010 2913 3132\n",
            "01019133829\n",
            "064-721-3213\n",
            "010.1913.3829\n",
            "\n",
            "\n",
            "paul-korea@naver.com\n",
            "paul@naver.com\n",
            "leehojun@gmail.com\n",
            "hojun.lee@gmail.com\n",
            "test.test@go.go.go\n",
            "\n",
            "\n",
            "https://github.com/LiveCoronaDetector/livecod\n",
            "github.com/LiveCoronaDetector/livecod\n",
            "https://github.com/LiveCoronaDetector\n",
            "\n",
            "I never dreamed about success, I worked for it.\n",
            "Do not be afraid to give up the good to go for the great.\n",
            "\n",
            "hello (hello world) hello\n",
            "hello \\hello world// hello\n",
            "^^\n",
            ":)\n",
            "\n",
            "[(name, leehojun), (age, 10), (height, 180), (email, paul-lab@naver.com)]\n",
            "{name : leehojun, age : 10, height : 180, email : paul-lab@naver.com}\n",
            "\n",
            "가나다라마바사아자차카타파하\n",
            "ㄱㄴㄷㄹㅁㅂㅅㅇㅈㅊㅋㅌㅍㅎ\n",
            "안녕하세요\n",
            "안녕-하세요\n",
            "수사\n",
            "수박\n",
            "수상\n",
            "동해 물과 백두산이 마르고 닳도록 하느님이 보호하사 우리나라 만세\n",
            "\n"
          ]
        }
      ]
    },
    {
      "cell_type": "code",
      "source": [
        "# 숫자 대표 정규표현식\n",
        "regex = r'\\d'\n",
        "\n",
        "# 글자 숫자 대표 정규표현식\n",
        "regex2 = r'\\w'\n",
        "\n",
        "#정규 표현식과 일치하는 부분을 모두 찾아주는 파이썬 코드입니다.\n",
        "import re\n",
        "result = re.findall(regex, searchtarget)\n",
        "result2 = re.findall(regex2, searchtarget)\n",
        "print('\\n'.join(result))\n",
        "print('\\n'.join(result2))"
      ],
      "metadata": {
        "colab": {
          "base_uri": "https://localhost:8080/"
        },
        "id": "YsdB61SVHNn6",
        "outputId": "e7d34ec6-f3af-4113-e395-926012e5a239"
      },
      "execution_count": 127,
      "outputs": [
        {
          "output_type": "stream",
          "name": "stdout",
          "text": [
            "0\n",
            "1\n",
            "2\n",
            "3\n",
            "4\n",
            "5\n",
            "6\n",
            "7\n",
            "8\n",
            "9\n",
            "1\n",
            "0\n",
            "1\n",
            "1\n",
            "1\n",
            "2\n",
            "1\n",
            "3\n",
            "1\n",
            "4\n",
            "1\n",
            "5\n",
            "1\n",
            "6\n",
            "1\n",
            "7\n",
            "1\n",
            "8\n",
            "1\n",
            "9\n",
            "2\n",
            "0\n",
            "1\n",
            "2\n",
            "3\n",
            "4\n",
            "5\n",
            "6\n",
            "1\n",
            "2\n",
            "3\n",
            "4\n",
            "5\n",
            "6\n",
            "1\n",
            "2\n",
            "3\n",
            "4\n",
            "5\n",
            "6\n",
            "7\n",
            "8\n",
            "9\n",
            "0\n",
            "1\n",
            "0\n",
            "9\n",
            "0\n",
            "9\n",
            "1\n",
            "5\n",
            "4\n",
            "9\n",
            "1\n",
            "0\n",
            "1\n",
            "0\n",
            "5\n",
            "0\n",
            "4\n",
            "3\n",
            "2\n",
            "9\n",
            "0\n",
            "1\n",
            "0\n",
            "1\n",
            "0\n",
            "5\n",
            "0\n",
            "5\n",
            "0\n",
            "4\n",
            "0\n",
            "4\n",
            "0\n",
            "9\n",
            "0\n",
            "1\n",
            "0\n",
            "4\n",
            "9\n",
            "4\n",
            "9\n",
            "2\n",
            "3\n",
            "1\n",
            "3\n",
            "1\n",
            "0\n",
            "1\n",
            "0\n",
            "2\n",
            "9\n",
            "1\n",
            "3\n",
            "3\n",
            "1\n",
            "3\n",
            "2\n",
            "0\n",
            "1\n",
            "0\n",
            "1\n",
            "9\n",
            "1\n",
            "3\n",
            "3\n",
            "8\n",
            "2\n",
            "9\n",
            "0\n",
            "6\n",
            "4\n",
            "7\n",
            "2\n",
            "1\n",
            "3\n",
            "2\n",
            "1\n",
            "3\n",
            "0\n",
            "1\n",
            "0\n",
            "1\n",
            "9\n",
            "1\n",
            "3\n",
            "3\n",
            "8\n",
            "2\n",
            "9\n",
            "1\n",
            "0\n",
            "1\n",
            "8\n",
            "0\n",
            "1\n",
            "0\n",
            "1\n",
            "8\n",
            "0\n",
            "h\n",
            "e\n",
            "l\n",
            "l\n",
            "o\n",
            "w\n",
            "o\n",
            "r\n",
            "l\n",
            "d\n",
            "h\n",
            "e\n",
            "l\n",
            "l\n",
            "o\n",
            "w\n",
            "o\n",
            "r\n",
            "l\n",
            "d\n",
            "h\n",
            "e\n",
            "l\n",
            "l\n",
            "o\n",
            "w\n",
            "o\n",
            "r\n",
            "l\n",
            "d\n",
            "H\n",
            "e\n",
            "l\n",
            "l\n",
            "o\n",
            "W\n",
            "o\n",
            "r\n",
            "l\n",
            "d\n",
            "h\n",
            "e\n",
            "l\n",
            "l\n",
            "o\n",
            "w\n",
            "o\n",
            "r\n",
            "l\n",
            "d\n",
            "h\n",
            "e\n",
            "l\n",
            "l\n",
            "o\n",
            "h\n",
            "e\n",
            "l\n",
            "l\n",
            "o\n",
            "h\n",
            "a\n",
            "l\n",
            "l\n",
            "o\n",
            "h\n",
            "o\n",
            "l\n",
            "l\n",
            "o\n",
            "h\n",
            "e\n",
            "a\n",
            "l\n",
            "l\n",
            "o\n",
            "y\n",
            "e\n",
            "l\n",
            "l\n",
            "o\n",
            "w\n",
            "M\n",
            "o\n",
            "n\n",
            "d\n",
            "a\n",
            "y\n",
            "T\n",
            "u\n",
            "e\n",
            "s\n",
            "d\n",
            "a\n",
            "y\n",
            "W\n",
            "e\n",
            "d\n",
            "n\n",
            "e\n",
            "s\n",
            "d\n",
            "a\n",
            "y\n",
            "T\n",
            "h\n",
            "u\n",
            "r\n",
            "s\n",
            "d\n",
            "a\n",
            "y\n",
            "F\n",
            "r\n",
            "i\n",
            "d\n",
            "a\n",
            "y\n",
            "S\n",
            "a\n",
            "t\n",
            "u\n",
            "r\n",
            "d\n",
            "a\n",
            "y\n",
            "S\n",
            "u\n",
            "n\n",
            "d\n",
            "a\n",
            "y\n",
            "a\n",
            "b\n",
            "c\n",
            "d\n",
            "e\n",
            "f\n",
            "g\n",
            "h\n",
            "i\n",
            "j\n",
            "k\n",
            "l\n",
            "m\n",
            "n\n",
            "o\n",
            "p\n",
            "q\n",
            "r\n",
            "s\n",
            "t\n",
            "u\n",
            "v\n",
            "w\n",
            "x\n",
            "y\n",
            "z\n",
            "A\n",
            "B\n",
            "C\n",
            "D\n",
            "E\n",
            "F\n",
            "G\n",
            "H\n",
            "I\n",
            "J\n",
            "K\n",
            "L\n",
            "M\n",
            "N\n",
            "O\n",
            "P\n",
            "Q\n",
            "R\n",
            "S\n",
            "T\n",
            "U\n",
            "V\n",
            "W\n",
            "X\n",
            "Y\n",
            "Z\n",
            "0\n",
            "1\n",
            "2\n",
            "3\n",
            "4\n",
            "5\n",
            "6\n",
            "7\n",
            "8\n",
            "9\n",
            "1\n",
            "0\n",
            "1\n",
            "1\n",
            "1\n",
            "2\n",
            "1\n",
            "3\n",
            "1\n",
            "4\n",
            "1\n",
            "5\n",
            "1\n",
            "6\n",
            "1\n",
            "7\n",
            "1\n",
            "8\n",
            "1\n",
            "9\n",
            "2\n",
            "0\n",
            "a\n",
            "a\n",
            "a\n",
            "b\n",
            "b\n",
            "c\n",
            "a\n",
            "a\n",
            "a\n",
            "b\n",
            "b\n",
            "c\n",
            "a\n",
            "b\n",
            "c\n",
            "a\n",
            "b\n",
            "c\n",
            "a\n",
            "a\n",
            "a\n",
            "b\n",
            "b\n",
            "c\n",
            "a\n",
            "a\n",
            "a\n",
            "b\n",
            "b\n",
            "c\n",
            "a\n",
            "b\n",
            "c\n",
            "a\n",
            "b\n",
            "c\n",
            "a\n",
            "a\n",
            "a\n",
            "1\n",
            "b\n",
            "b\n",
            "2\n",
            "c\n",
            "3\n",
            "a\n",
            "a\n",
            "a\n",
            "4\n",
            "b\n",
            "b\n",
            "5\n",
            "c\n",
            "6\n",
            "1\n",
            "2\n",
            "3\n",
            "4\n",
            "5\n",
            "6\n",
            "1\n",
            "2\n",
            "3\n",
            "4\n",
            "5\n",
            "6\n",
            "7\n",
            "8\n",
            "9\n",
            "a\n",
            "b\n",
            "c\n",
            "d\n",
            "e\n",
            "f\n",
            "g\n",
            "h\n",
            "i\n",
            "j\n",
            "0\n",
            "1\n",
            "0\n",
            "9\n",
            "0\n",
            "9\n",
            "1\n",
            "5\n",
            "4\n",
            "9\n",
            "1\n",
            "0\n",
            "1\n",
            "0\n",
            "5\n",
            "0\n",
            "4\n",
            "3\n",
            "2\n",
            "9\n",
            "0\n",
            "1\n",
            "0\n",
            "1\n",
            "0\n",
            "5\n",
            "0\n",
            "5\n",
            "0\n",
            "4\n",
            "0\n",
            "4\n",
            "0\n",
            "9\n",
            "0\n",
            "1\n",
            "0\n",
            "4\n",
            "9\n",
            "4\n",
            "9\n",
            "2\n",
            "3\n",
            "1\n",
            "3\n",
            "1\n",
            "0\n",
            "1\n",
            "0\n",
            "2\n",
            "9\n",
            "1\n",
            "3\n",
            "3\n",
            "1\n",
            "3\n",
            "2\n",
            "0\n",
            "1\n",
            "0\n",
            "1\n",
            "9\n",
            "1\n",
            "3\n",
            "3\n",
            "8\n",
            "2\n",
            "9\n",
            "0\n",
            "6\n",
            "4\n",
            "7\n",
            "2\n",
            "1\n",
            "3\n",
            "2\n",
            "1\n",
            "3\n",
            "0\n",
            "1\n",
            "0\n",
            "1\n",
            "9\n",
            "1\n",
            "3\n",
            "3\n",
            "8\n",
            "2\n",
            "9\n",
            "p\n",
            "a\n",
            "u\n",
            "l\n",
            "k\n",
            "o\n",
            "r\n",
            "e\n",
            "a\n",
            "n\n",
            "a\n",
            "v\n",
            "e\n",
            "r\n",
            "c\n",
            "o\n",
            "m\n",
            "p\n",
            "a\n",
            "u\n",
            "l\n",
            "n\n",
            "a\n",
            "v\n",
            "e\n",
            "r\n",
            "c\n",
            "o\n",
            "m\n",
            "l\n",
            "e\n",
            "e\n",
            "h\n",
            "o\n",
            "j\n",
            "u\n",
            "n\n",
            "g\n",
            "m\n",
            "a\n",
            "i\n",
            "l\n",
            "c\n",
            "o\n",
            "m\n",
            "h\n",
            "o\n",
            "j\n",
            "u\n",
            "n\n",
            "l\n",
            "e\n",
            "e\n",
            "g\n",
            "m\n",
            "a\n",
            "i\n",
            "l\n",
            "c\n",
            "o\n",
            "m\n",
            "t\n",
            "e\n",
            "s\n",
            "t\n",
            "t\n",
            "e\n",
            "s\n",
            "t\n",
            "g\n",
            "o\n",
            "g\n",
            "o\n",
            "g\n",
            "o\n",
            "h\n",
            "t\n",
            "t\n",
            "p\n",
            "s\n",
            "g\n",
            "i\n",
            "t\n",
            "h\n",
            "u\n",
            "b\n",
            "c\n",
            "o\n",
            "m\n",
            "L\n",
            "i\n",
            "v\n",
            "e\n",
            "C\n",
            "o\n",
            "r\n",
            "o\n",
            "n\n",
            "a\n",
            "D\n",
            "e\n",
            "t\n",
            "e\n",
            "c\n",
            "t\n",
            "o\n",
            "r\n",
            "l\n",
            "i\n",
            "v\n",
            "e\n",
            "c\n",
            "o\n",
            "d\n",
            "g\n",
            "i\n",
            "t\n",
            "h\n",
            "u\n",
            "b\n",
            "c\n",
            "o\n",
            "m\n",
            "L\n",
            "i\n",
            "v\n",
            "e\n",
            "C\n",
            "o\n",
            "r\n",
            "o\n",
            "n\n",
            "a\n",
            "D\n",
            "e\n",
            "t\n",
            "e\n",
            "c\n",
            "t\n",
            "o\n",
            "r\n",
            "l\n",
            "i\n",
            "v\n",
            "e\n",
            "c\n",
            "o\n",
            "d\n",
            "h\n",
            "t\n",
            "t\n",
            "p\n",
            "s\n",
            "g\n",
            "i\n",
            "t\n",
            "h\n",
            "u\n",
            "b\n",
            "c\n",
            "o\n",
            "m\n",
            "L\n",
            "i\n",
            "v\n",
            "e\n",
            "C\n",
            "o\n",
            "r\n",
            "o\n",
            "n\n",
            "a\n",
            "D\n",
            "e\n",
            "t\n",
            "e\n",
            "c\n",
            "t\n",
            "o\n",
            "r\n",
            "I\n",
            "n\n",
            "e\n",
            "v\n",
            "e\n",
            "r\n",
            "d\n",
            "r\n",
            "e\n",
            "a\n",
            "m\n",
            "e\n",
            "d\n",
            "a\n",
            "b\n",
            "o\n",
            "u\n",
            "t\n",
            "s\n",
            "u\n",
            "c\n",
            "c\n",
            "e\n",
            "s\n",
            "s\n",
            "I\n",
            "w\n",
            "o\n",
            "r\n",
            "k\n",
            "e\n",
            "d\n",
            "f\n",
            "o\n",
            "r\n",
            "i\n",
            "t\n",
            "D\n",
            "o\n",
            "n\n",
            "o\n",
            "t\n",
            "b\n",
            "e\n",
            "a\n",
            "f\n",
            "r\n",
            "a\n",
            "i\n",
            "d\n",
            "t\n",
            "o\n",
            "g\n",
            "i\n",
            "v\n",
            "e\n",
            "u\n",
            "p\n",
            "t\n",
            "h\n",
            "e\n",
            "g\n",
            "o\n",
            "o\n",
            "d\n",
            "t\n",
            "o\n",
            "g\n",
            "o\n",
            "f\n",
            "o\n",
            "r\n",
            "t\n",
            "h\n",
            "e\n",
            "g\n",
            "r\n",
            "e\n",
            "a\n",
            "t\n",
            "h\n",
            "e\n",
            "l\n",
            "l\n",
            "o\n",
            "h\n",
            "e\n",
            "l\n",
            "l\n",
            "o\n",
            "w\n",
            "o\n",
            "r\n",
            "l\n",
            "d\n",
            "h\n",
            "e\n",
            "l\n",
            "l\n",
            "o\n",
            "h\n",
            "e\n",
            "l\n",
            "l\n",
            "o\n",
            "h\n",
            "e\n",
            "l\n",
            "l\n",
            "o\n",
            "w\n",
            "o\n",
            "r\n",
            "l\n",
            "d\n",
            "h\n",
            "e\n",
            "l\n",
            "l\n",
            "o\n",
            "n\n",
            "a\n",
            "m\n",
            "e\n",
            "l\n",
            "e\n",
            "e\n",
            "h\n",
            "o\n",
            "j\n",
            "u\n",
            "n\n",
            "a\n",
            "g\n",
            "e\n",
            "1\n",
            "0\n",
            "h\n",
            "e\n",
            "i\n",
            "g\n",
            "h\n",
            "t\n",
            "1\n",
            "8\n",
            "0\n",
            "e\n",
            "m\n",
            "a\n",
            "i\n",
            "l\n",
            "p\n",
            "a\n",
            "u\n",
            "l\n",
            "l\n",
            "a\n",
            "b\n",
            "n\n",
            "a\n",
            "v\n",
            "e\n",
            "r\n",
            "c\n",
            "o\n",
            "m\n",
            "n\n",
            "a\n",
            "m\n",
            "e\n",
            "l\n",
            "e\n",
            "e\n",
            "h\n",
            "o\n",
            "j\n",
            "u\n",
            "n\n",
            "a\n",
            "g\n",
            "e\n",
            "1\n",
            "0\n",
            "h\n",
            "e\n",
            "i\n",
            "g\n",
            "h\n",
            "t\n",
            "1\n",
            "8\n",
            "0\n",
            "e\n",
            "m\n",
            "a\n",
            "i\n",
            "l\n",
            "p\n",
            "a\n",
            "u\n",
            "l\n",
            "l\n",
            "a\n",
            "b\n",
            "n\n",
            "a\n",
            "v\n",
            "e\n",
            "r\n",
            "c\n",
            "o\n",
            "m\n",
            "가\n",
            "나\n",
            "다\n",
            "라\n",
            "마\n",
            "바\n",
            "사\n",
            "아\n",
            "자\n",
            "차\n",
            "카\n",
            "타\n",
            "파\n",
            "하\n",
            "ㄱ\n",
            "ㄴ\n",
            "ㄷ\n",
            "ㄹ\n",
            "ㅁ\n",
            "ㅂ\n",
            "ㅅ\n",
            "ㅇ\n",
            "ㅈ\n",
            "ㅊ\n",
            "ㅋ\n",
            "ㅌ\n",
            "ㅍ\n",
            "ㅎ\n",
            "안\n",
            "녕\n",
            "하\n",
            "세\n",
            "요\n",
            "안\n",
            "녕\n",
            "하\n",
            "세\n",
            "요\n",
            "수\n",
            "사\n",
            "수\n",
            "박\n",
            "수\n",
            "상\n",
            "동\n",
            "해\n",
            "물\n",
            "과\n",
            "백\n",
            "두\n",
            "산\n",
            "이\n",
            "마\n",
            "르\n",
            "고\n",
            "닳\n",
            "도\n",
            "록\n",
            "하\n",
            "느\n",
            "님\n",
            "이\n",
            "보\n",
            "호\n",
            "하\n",
            "사\n",
            "우\n",
            "리\n",
            "나\n",
            "라\n",
            "만\n",
            "세\n"
          ]
        }
      ]
    },
    {
      "cell_type": "code",
      "source": [
        "text1 = '\"hello world!\"'\n",
        "text2 = '\\'hello world!\\''\n",
        "text3 = \"'hello world!'\"\n",
        "text4 = \"\\\"hello world!\\\"\"\n",
        "\n",
        "print(text1)\n",
        "print(text2)\n",
        "print(text3)\n",
        "print(text4)"
      ],
      "metadata": {
        "colab": {
          "base_uri": "https://localhost:8080/"
        },
        "id": "X_3_piErHrnR",
        "outputId": "a73c539b-8977-4315-c5f0-6fc199345749"
      },
      "execution_count": 128,
      "outputs": [
        {
          "output_type": "stream",
          "name": "stdout",
          "text": [
            "\"hello world!\"\n",
            "'hello world!'\n",
            "'hello world!'\n",
            "\"hello world!\"\n"
          ]
        }
      ]
    },
    {
      "cell_type": "code",
      "source": [
        "#Hello 단어를 검색해봅시다.\n",
        "regex = r'hello'\n",
        "\n",
        "#정규 표현식과 일치하는 부분을 모두 찾아주는 파이썬 코드입니다.\n",
        "import re\n",
        "\n",
        "result = re.findall(regex, searchtarget)\n",
        "print('\\n'.join(result))\n"
      ],
      "metadata": {
        "colab": {
          "base_uri": "https://localhost:8080/"
        },
        "id": "whablfZNL-vb",
        "outputId": "9b1fdc4b-bf68-49aa-b080-1e0979423a4f"
      },
      "execution_count": 131,
      "outputs": [
        {
          "output_type": "stream",
          "name": "stdout",
          "text": [
            "hello\n",
            "hello\n",
            "hello\n",
            "hello\n",
            "hello\n",
            "hello\n",
            "hello\n",
            "hello\n",
            "hello\n",
            "hello\n",
            "hello\n",
            "hello\n"
          ]
        }
      ]
    },
    {
      "cell_type": "code",
      "source": [
        "# 맨처음에 와야하는 것 ^ 맨 처음에 Life가 있는가 없는가\n",
        "m1 = re.findall('^Life', 'Life is too short')\n",
        "\n",
        "print('m1 결과:' , m1)"
      ],
      "metadata": {
        "colab": {
          "base_uri": "https://localhost:8080/"
        },
        "id": "q-AUPVOzMPpS",
        "outputId": "66f243a2-a164-428c-cd70-1d5af649c712"
      },
      "execution_count": 132,
      "outputs": [
        {
          "output_type": "stream",
          "name": "stdout",
          "text": [
            "m1 결과: ['Life']\n"
          ]
        }
      ]
    },
    {
      "cell_type": "code",
      "source": [
        "# 맨처음에 와야하는 것 ^\n",
        "m2 = re.findall('^is', 'Life is too short')\n",
        "\n",
        "print('m1 결과:' , m2)"
      ],
      "metadata": {
        "colab": {
          "base_uri": "https://localhost:8080/"
        },
        "id": "UThUVVIzMqxl",
        "outputId": "b2884363-22b1-40a3-e504-342d08437f06"
      },
      "execution_count": 133,
      "outputs": [
        {
          "output_type": "stream",
          "name": "stdout",
          "text": [
            "m1 결과: []\n"
          ]
        }
      ]
    },
    {
      "cell_type": "code",
      "source": [
        "# 맨마지막에에 와야하는 것 \n",
        "m1 = re.findall('short$', 'Life is too short')\n",
        "\n",
        "m2 = re.findall('short$', 'Life is too short. So what?')\n",
        "\n",
        "print('m1 결과:' , m1)\n",
        "print('m2 결과:' , m2)"
      ],
      "metadata": {
        "colab": {
          "base_uri": "https://localhost:8080/"
        },
        "id": "euQMsJBdMv72",
        "outputId": "b8823c8a-e4fb-458f-8f44-18014c40ce71"
      },
      "execution_count": 135,
      "outputs": [
        {
          "output_type": "stream",
          "name": "stdout",
          "text": [
            "m1 결과: ['short']\n",
            "m2 결과: []\n"
          ]
        }
      ]
    },
    {
      "cell_type": "code",
      "source": [
        "# 특정문자 1개\n",
        "import re\n",
        "regex = re.compile('ema.l')\n",
        "\n",
        "#정규 표현식과 일치하는 부분을 모두 찾아주는 파이썬 코드입니다.\n",
        "\n",
        "import re\n",
        "result = re.findall(regex, searchtarget)\n",
        "print('\\n'.join(result))"
      ],
      "metadata": {
        "colab": {
          "base_uri": "https://localhost:8080/"
        },
        "id": "_KS79KxKNFUi",
        "outputId": "26c9bc0d-a1d5-4730-c381-2d487248f016"
      },
      "execution_count": 136,
      "outputs": [
        {
          "output_type": "stream",
          "name": "stdout",
          "text": [
            "email\n",
            "email\n"
          ]
        }
      ]
    },
    {
      "cell_type": "code",
      "source": [
        "# 특정문자 6개 .(공백 포함)\n",
        "import re\n",
        "regex = re.compile('......')\n",
        "\n",
        "#정규 표현식과 일치하는 부분을 모두 찾아주는 파이썬 코드입니다.\n",
        "\n",
        "import re\n",
        "result = re.findall(regex, searchtarget)\n",
        "print('\\n'.join(result))"
      ],
      "metadata": {
        "colab": {
          "base_uri": "https://localhost:8080/"
        },
        "id": "6gdOUy9vNe4r",
        "outputId": "58857408-a7b8-4007-c1cb-f7fce66cdeed"
      },
      "execution_count": 137,
      "outputs": [
        {
          "output_type": "stream",
          "name": "stdout",
          "text": [
            "hello \n",
            "hello \n",
            " world\n",
            "hello,\n",
            " world\n",
            "Hello \n",
            "hello \n",
            "world \n",
            "heallo\n",
            "yellow\n",
            "Monday\n",
            " Tuesd\n",
            "ay Wed\n",
            "nesday\n",
            " Thurs\n",
            "day Fr\n",
            "iday S\n",
            "aturda\n",
            "y Sund\n",
            "abcdef\n",
            "ghijkl\n",
            "mnopqr\n",
            "stuvwx\n",
            "yzABCD\n",
            "EFGHIJ\n",
            "KLMNOP\n",
            "QRSTUV\n",
            "WXYZ01\n",
            "234567\n",
            "891011\n",
            "121314\n",
            "151617\n",
            "181920\n",
            "aaabbc\n",
            "aaabbc\n",
            "abcabc\n",
            "aaa bb\n",
            " c aaa\n",
            " bb c \n",
            "a b c \n",
            "aaa1bb\n",
            "2c3aaa\n",
            "4bb5c6\n",
            "[12345\n",
            "123[45\n",
            "abc[de\n",
            "f]ghij\n",
            "010-90\n",
            "91-549\n",
            "010-50\n",
            "43-290\n",
            "010-50\n",
            "50-404\n",
            "010-49\n",
            "492-31\n",
            "010 29\n",
            "13 313\n",
            "010191\n",
            "064-72\n",
            "1-3213\n",
            "010.19\n",
            "13.382\n",
            "paul-k\n",
            "orea@n\n",
            "aver.c\n",
            "paul@n\n",
            "aver.c\n",
            "leehoj\n",
            "un@gma\n",
            "il.com\n",
            "hojun.\n",
            "lee@gm\n",
            "ail.co\n",
            "test.t\n",
            "est@go\n",
            ".go.go\n",
            "https:\n",
            "//gith\n",
            "ub.com\n",
            "/LiveC\n",
            "oronaD\n",
            "etecto\n",
            "r/live\n",
            "github\n",
            ".com/L\n",
            "iveCor\n",
            "onaDet\n",
            "ector/\n",
            "liveco\n",
            "https:\n",
            "//gith\n",
            "ub.com\n",
            "/LiveC\n",
            "oronaD\n",
            "etecto\n",
            "I neve\n",
            "r drea\n",
            "med ab\n",
            "out su\n",
            "ccess,\n",
            " I wor\n",
            "ked fo\n",
            "Do not\n",
            " be af\n",
            "raid t\n",
            "o give\n",
            " up th\n",
            "e good\n",
            " to go\n",
            " for t\n",
            "he gre\n",
            "hello \n",
            "(hello\n",
            " world\n",
            ") hell\n",
            "hello \n",
            "\\hello\n",
            " world\n",
            "// hel\n",
            "[(name\n",
            ", leeh\n",
            "ojun),\n",
            " (age,\n",
            " 10), \n",
            "(heigh\n",
            "t, 180\n",
            "), (em\n",
            "ail, p\n",
            "aul-la\n",
            "b@nave\n",
            "r.com)\n",
            "{name \n",
            ": leeh\n",
            "ojun, \n",
            "age : \n",
            "10, he\n",
            "ight :\n",
            " 180, \n",
            "email \n",
            ": paul\n",
            "-lab@n\n",
            "aver.c\n",
            "가나다라마바\n",
            "사아자차카타\n",
            "ㄱㄴㄷㄹㅁㅂ\n",
            "ㅅㅇㅈㅊㅋㅌ\n",
            "안녕-하세요\n",
            "동해 물과 \n",
            "백두산이 마\n",
            "르고 닳도록\n",
            " 하느님이 \n",
            "보호하사 우\n",
            "리나라 만세\n"
          ]
        }
      ]
    },
    {
      "cell_type": "code",
      "source": [
        "# 여러가지 중에 택 1해서 찾기\n",
        "\n",
        "regex = re.compile(r'h[aeyo]llo')\n",
        "\n",
        "# 정규표현식과 일치하는 부분을 모두 찾아주는 파이썬 코드입니다.\n",
        "import re\n",
        "result = re.findall(regex, searchtarget)\n",
        "print(\"\\n\".join(result))"
      ],
      "metadata": {
        "colab": {
          "base_uri": "https://localhost:8080/"
        },
        "id": "pwWYOmMBNxpF",
        "outputId": "7aa8eb26-7615-43ab-aaee-1270fd36b4d7"
      },
      "execution_count": 140,
      "outputs": [
        {
          "output_type": "stream",
          "name": "stdout",
          "text": [
            "hello\n",
            "hello\n",
            "hello\n",
            "hello\n",
            "hello\n",
            "hello\n",
            "hallo\n",
            "hollo\n",
            "hello\n",
            "hello\n",
            "hello\n",
            "hello\n",
            "hello\n",
            "hello\n"
          ]
        }
      ]
    },
    {
      "cell_type": "code",
      "source": [
        "# 여러가지 중에 택 1해서 찾기\n",
        "\n",
        "regex = re.compile(r'h[aeyo]llo..')\n",
        "\n",
        "# 정규표현식과 일치하는 부분을 모두 찾아주는 파이썬 코드입니다.\n",
        "import re\n",
        "result = re.findall(regex, searchtarget)\n",
        "print(\"\\n\".join(result))"
      ],
      "metadata": {
        "colab": {
          "base_uri": "https://localhost:8080/"
        },
        "id": "Q0I8fYYbOh97",
        "outputId": "c637ad07-186b-41be-9036-37c7c5193dd5"
      },
      "execution_count": 142,
      "outputs": [
        {
          "output_type": "stream",
          "name": "stdout",
          "text": [
            "hello w\n",
            "hello  \n",
            "hello, \n",
            "hello w\n",
            "hello (\n",
            "hello w\n",
            "hello \\\n",
            "hello w\n"
          ]
        }
      ]
    },
    {
      "cell_type": "code",
      "source": [
        "# 여러가지 중에 택 1해서 찾기 - 대문자\n",
        "\n",
        "regex = re.compile(r'h[aeyo]llo', re.I) # I 대소문자 구분 x\n",
        "\n",
        "# 정규표현식과 일치하는 부분을 모두 찾아주는 파이썬 코드입니다.\n",
        "import re\n",
        "result = re.findall(regex, searchtarget)\n",
        "print(\"\\n\".join(result))"
      ],
      "metadata": {
        "colab": {
          "base_uri": "https://localhost:8080/"
        },
        "id": "txtowTY9OuJC",
        "outputId": "bc42d16c-13e6-46d3-b3f1-78a39f1e4bc6"
      },
      "execution_count": 145,
      "outputs": [
        {
          "output_type": "stream",
          "name": "stdout",
          "text": [
            "hello\n",
            "hello\n",
            "hello\n",
            "Hello\n",
            "hello\n",
            "hello\n",
            "hello\n",
            "hallo\n",
            "hollo\n",
            "hello\n",
            "hello\n",
            "hello\n",
            "hello\n",
            "hello\n",
            "hello\n"
          ]
        }
      ]
    },
    {
      "cell_type": "code",
      "source": [
        "\n",
        "regex = re.compile(r'[^a-zA-Z0-9가-힣]') # [^]괄호 안에서는 부정의 의미 밖에서는 ^시작의 의미\n",
        "\n",
        "# 정규표현식과 일치하는 부분을 모두 찾아주는 파이썬 코드입니다.\n",
        "import re\n",
        "result = re.findall(regex, searchtarget)\n",
        "print(\"\\n\".join(result))"
      ],
      "metadata": {
        "colab": {
          "base_uri": "https://localhost:8080/"
        },
        "id": "13NUh0wBO3Ym",
        "outputId": "928eb13f-f78a-4930-e2f4-2db6b7de0a91"
      },
      "execution_count": 150,
      "outputs": [
        {
          "output_type": "stream",
          "name": "stdout",
          "text": [
            "\n",
            "\n",
            " \n",
            "\n",
            "\n",
            " \n",
            " \n",
            "\n",
            "\n",
            ",\n",
            " \n",
            "\n",
            "\n",
            " \n",
            "\n",
            "\n",
            "\n",
            "\n",
            " \n",
            " \n",
            "\n",
            "\n",
            "\n",
            "\n",
            "\n",
            "\n",
            "\n",
            "\n",
            "\n",
            "\n",
            "\n",
            "\n",
            "\n",
            "\n",
            "\n",
            "\n",
            " \n",
            " \n",
            " \n",
            " \n",
            " \n",
            " \n",
            "\n",
            "\n",
            "\n",
            "\n",
            "\n",
            "\n",
            "\n",
            "\n",
            " \n",
            " \n",
            " \n",
            " \n",
            " \n",
            " \n",
            " \n",
            " \n",
            " \n",
            " \n",
            " \n",
            "\n",
            "\n",
            "\n",
            "\n",
            "\n",
            "\n",
            "[\n",
            "]\n",
            "\n",
            "\n",
            "[\n",
            "]\n",
            "\n",
            "\n",
            "[\n",
            "]\n",
            "\n",
            "\n",
            "\n",
            "\n",
            "-\n",
            "-\n",
            "\n",
            "\n",
            "-\n",
            "-\n",
            "\n",
            "\n",
            "-\n",
            "-\n",
            "\n",
            "\n",
            "-\n",
            "-\n",
            "\n",
            "\n",
            " \n",
            " \n",
            "\n",
            "\n",
            "\n",
            "\n",
            "-\n",
            "-\n",
            "\n",
            "\n",
            ".\n",
            ".\n",
            "\n",
            "\n",
            "\n",
            "\n",
            "\n",
            "\n",
            "-\n",
            "@\n",
            ".\n",
            "\n",
            "\n",
            "@\n",
            ".\n",
            "\n",
            "\n",
            "@\n",
            ".\n",
            "\n",
            "\n",
            ".\n",
            "@\n",
            ".\n",
            "\n",
            "\n",
            ".\n",
            "@\n",
            ".\n",
            ".\n",
            "\n",
            "\n",
            "\n",
            "\n",
            "\n",
            "\n",
            ":\n",
            "/\n",
            "/\n",
            ".\n",
            "/\n",
            "/\n",
            "\n",
            "\n",
            ".\n",
            "/\n",
            "/\n",
            "\n",
            "\n",
            ":\n",
            "/\n",
            "/\n",
            ".\n",
            "/\n",
            "\n",
            "\n",
            "\n",
            "\n",
            " \n",
            " \n",
            " \n",
            " \n",
            ",\n",
            " \n",
            " \n",
            " \n",
            " \n",
            ".\n",
            "\n",
            "\n",
            " \n",
            " \n",
            " \n",
            " \n",
            " \n",
            " \n",
            " \n",
            " \n",
            " \n",
            " \n",
            " \n",
            " \n",
            " \n",
            ".\n",
            "\n",
            "\n",
            "\n",
            "\n",
            " \n",
            "(\n",
            " \n",
            ")\n",
            " \n",
            "\n",
            "\n",
            " \n",
            "\\\n",
            " \n",
            "/\n",
            "/\n",
            " \n",
            "\n",
            "\n",
            "^\n",
            "^\n",
            "\n",
            "\n",
            ":\n",
            ")\n",
            "\n",
            "\n",
            "\n",
            "\n",
            "[\n",
            "(\n",
            ",\n",
            " \n",
            ")\n",
            ",\n",
            " \n",
            "(\n",
            ",\n",
            " \n",
            ")\n",
            ",\n",
            " \n",
            "(\n",
            ",\n",
            " \n",
            ")\n",
            ",\n",
            " \n",
            "(\n",
            ",\n",
            " \n",
            "-\n",
            "@\n",
            ".\n",
            ")\n",
            "]\n",
            "\n",
            "\n",
            "{\n",
            " \n",
            ":\n",
            " \n",
            ",\n",
            " \n",
            " \n",
            ":\n",
            " \n",
            ",\n",
            " \n",
            " \n",
            ":\n",
            " \n",
            ",\n",
            " \n",
            " \n",
            ":\n",
            " \n",
            "-\n",
            "@\n",
            ".\n",
            "}\n",
            "\n",
            "\n",
            "\n",
            "\n",
            "\n",
            "\n",
            "ㄱ\n",
            "ㄴ\n",
            "ㄷ\n",
            "ㄹ\n",
            "ㅁ\n",
            "ㅂ\n",
            "ㅅ\n",
            "ㅇ\n",
            "ㅈ\n",
            "ㅊ\n",
            "ㅋ\n",
            "ㅌ\n",
            "ㅍ\n",
            "ㅎ\n",
            "\n",
            "\n",
            "\n",
            "\n",
            "-\n",
            "\n",
            "\n",
            "\n",
            "\n",
            "\n",
            "\n",
            "\n",
            "\n",
            " \n",
            " \n",
            " \n",
            " \n",
            " \n",
            " \n",
            " \n",
            " \n",
            "\n",
            "\n"
          ]
        }
      ]
    },
    {
      "cell_type": "code",
      "source": [
        "# 서브패턴\n",
        "\n",
        "# 소괄호를 사용하면 정규식 일부 패턴을 그룹화 할 수 있습니다.\n",
        "# 이 정규식 그룹은 그룹 캡처기능이라고 불리는데\n",
        "# 정규식 그룹은 번호가 매겨진 캡처그룹을 생성하고, 괄호안에 정규식 부분과\n",
        "# 일치하는 문자열을 저장합니다.\n",
        "# 그 캡처 번호를 사용하여 문자열 부분을 불러와 사용할 수 있습니다.\n",
        "\n",
        "# 주의할점은 캡처에 정규식 패턴이 저장된다고 착각할 수 잇지만\n",
        "# 캡처는 캡처는 패턴으로 찾은 문자열을 저장한다.\n",
        " \n",
        "# ?:는 그룹이지만 캡처를 저장하지 않음 \n",
        "\n",
        "# 빈칸에 정규표현식을 적습니다.\n",
        "regex = re.compile('(on|ues|rida)') #그룹 1로 3개 중 매칭되는 패턴\n",
        "\n",
        "# 그룹 안에 매칭이 된 것만 출력이 되는 형태\n",
        "\n",
        "# 정규표현식과 일치하는 부분을 모두 찾아주는 파이썬 코드입니다.\n",
        "import re\n",
        "result = re.findall(regex, searchtarget)\n",
        "print(\"\\n\".join(result))"
      ],
      "metadata": {
        "colab": {
          "base_uri": "https://localhost:8080/"
        },
        "id": "9AnxGU_mPUmk",
        "outputId": "6cc5b408-16eb-4ca4-de19-b78b57d2970e"
      },
      "execution_count": 152,
      "outputs": [
        {
          "output_type": "stream",
          "name": "stdout",
          "text": [
            "on\n",
            "ues\n",
            "rida\n",
            "on\n",
            "on\n",
            "on\n"
          ]
        }
      ]
    },
    {
      "cell_type": "code",
      "source": [
        "# 서브패턴\n",
        "\n",
        "# 빈칸에 정규표현식을 적습니다.\n",
        "regex = re.compile('(Mon|Tues|Fri)day') #그룹 1로 3개 중 매칭되는 패턴\n",
        "\n",
        "# 정규표현식과 일치하는 부분을 모두 찾아주는 파이썬 코드입니다.\n",
        "import re\n",
        "result = re.findall(regex, searchtarget)\n",
        "print(\"\\n\".join(result))"
      ],
      "metadata": {
        "colab": {
          "base_uri": "https://localhost:8080/"
        },
        "id": "7geOwifsRWj5",
        "outputId": "2bbad51b-e8a9-4e3e-afff-01ac426c8e81"
      },
      "execution_count": 154,
      "outputs": [
        {
          "output_type": "stream",
          "name": "stdout",
          "text": [
            "Mon\n",
            "Tues\n",
            "Fri\n"
          ]
        }
      ]
    },
    {
      "cell_type": "code",
      "source": [
        "# 서브패턴\n",
        "\n",
        "# 빈칸에 정규표현식을 적습니다.\n",
        "regex = re.compile('(?:Mon|Tues|Fri)day')  #그룹이 아닌 이름만 찾게됨\n",
        "\n",
        "# 정규표현식과 일치하는 부분을 모두 찾아주는 파이썬 코드입니다.\n",
        "import re\n",
        "result = re.findall(regex, searchtarget)\n",
        "print(\"\\n\".join(result))"
      ],
      "metadata": {
        "colab": {
          "base_uri": "https://localhost:8080/"
        },
        "id": "krcUjtlaRrT_",
        "outputId": "5eeace5a-041d-4812-f168-a487ea6b25d8"
      },
      "execution_count": 156,
      "outputs": [
        {
          "output_type": "stream",
          "name": "stdout",
          "text": [
            "Monday\n",
            "Tuesday\n",
            "Friday\n"
          ]
        }
      ]
    },
    {
      "cell_type": "code",
      "source": [
        "# 서브패턴 \n",
        "\n",
        "import re\n",
        "\n",
        "text = \"tomato potato\"\n",
        "\n",
        "p1 = \"(tom|pot)ato\"    # 그룹으로 묶인건 그 단어 (tom|pot)을 출력\n",
        "p2 = \"(?:tom|pot)ato\"  # 그룹으로 묶이지 않은것은 캡처하지 않겠다고 매칭 tomato와 potato가 출력\n",
        "\n",
        "m1 = re.findall(p1, text)\n",
        "m2 = re.findall(p2, text)\n",
        "\n",
        "print(\"m1 결과 : \", m1)\n",
        "print(\"m2 결과 : \", m2)"
      ],
      "metadata": {
        "colab": {
          "base_uri": "https://localhost:8080/"
        },
        "id": "yrB6n9poR_6i",
        "outputId": "2eb31fef-f125-487c-fa24-a28df02208f2"
      },
      "execution_count": 158,
      "outputs": [
        {
          "output_type": "stream",
          "name": "stdout",
          "text": [
            "m1 결과 :  ['tom', 'pot']\n",
            "m2 결과 :  ['tomato', 'potato']\n"
          ]
        }
      ]
    },
    {
      "cell_type": "code",
      "source": [
        "# 수량자 \n",
        "\n",
        "# 빈칸에 정규표현식을 적습니다.\n",
        "regex = re.compile('[0-9]{3}[-.* ][0-9]{4}[-.* ][0-9]{4}') \n",
        "\n",
        "# 1. [0에서 9까지]{3개}[- 나 . 앞에 있는 문자 0~N개]\n",
        "# 2. [0에서 9까지]{4개}[- 나 . 앞에 있는 문자 0~N개]\n",
        "# 3. [0에서 9까지]{4개}[- 나 .]\n",
        "\n",
        "# 정규표현식과 일치하는 부분을 모두 찾아주는 파이썬 코드입니다.\n",
        "import re\n",
        "result = re.findall(regex, searchtarget)\n",
        "print(\"\\n\".join(result))"
      ],
      "metadata": {
        "colab": {
          "base_uri": "https://localhost:8080/"
        },
        "id": "2zrrDG-TVUVi",
        "outputId": "f99a2133-8a13-4a5a-e37d-2cecf04a038f"
      },
      "execution_count": 162,
      "outputs": [
        {
          "output_type": "stream",
          "name": "stdout",
          "text": [
            "010-9091-5491\n",
            "010-5043-2901\n",
            "010-5050-4040\n",
            "010 2913 3132\n",
            "010.1913.3829\n"
          ]
        }
      ]
    },
    {
      "cell_type": "code",
      "source": [
        "# 수량자 \n",
        "\n",
        "# 빈칸에 정규표현식을 적습니다.\n",
        "regex = re.compile('[0-9]{2,3}[-.* ][0-9]{3,4}[-.* ][0-9]{4,5}') \n",
        "\n",
        "# 1. [0에서 9까지]{3개}[- 나 . 앞에 있는 문자 0~N개]\n",
        "# 2. [0에서 9까지]{4개}[- 나 . 앞에 있는 문자 0~N개]\n",
        "# 3. [0에서 9까지]{4개}[- 나 .]\n",
        "\n",
        "# 정규표현식과 일치하는 부분을 모두 찾아주는 파이썬 코드입니다.\n",
        "import re\n",
        "result = re.findall(regex, searchtarget)\n",
        "print(\"\\n\".join(result))"
      ],
      "metadata": {
        "colab": {
          "base_uri": "https://localhost:8080/"
        },
        "id": "kgK7kbFGVUOi",
        "outputId": "b5d3b6e6-0284-4804-a1ef-2bca8fa247ea"
      },
      "execution_count": 163,
      "outputs": [
        {
          "output_type": "stream",
          "name": "stdout",
          "text": [
            "010-9091-5491\n",
            "010-5043-2901\n",
            "010-5050-40409\n",
            "010 2913 3132\n",
            "064-721-3213\n",
            "010.1913.3829\n"
          ]
        }
      ]
    },
    {
      "cell_type": "code",
      "source": [
        "# 수량자\n",
        "\n",
        "# 빈칸에 정규표현식을 적습니다.\n",
        "regex = re.compile('[0-9a-zA-Z]+@[0-9a-zA-Z]+.[a-zA-Z]+') \n",
        "\n",
        "# 1. [0에서 9까지 + 영문자]{+@}\n",
        "# 2. [0에서 9까지 + 영문자].\n",
        "# 3. [영문자_ 1개 이상]\n",
        "\n",
        "# 정규표현식과 일치하는 부분을 모두 찾아주는 파이썬 코드입니다.\n",
        "import re\n",
        "result = re.findall(regex, searchtarget)\n",
        "print(\"\\n\".join(result))"
      ],
      "metadata": {
        "colab": {
          "base_uri": "https://localhost:8080/"
        },
        "id": "0S8vYu-XacdH",
        "outputId": "9fd3cc30-7d80-4b36-a26b-e6409977ea44"
      },
      "execution_count": 167,
      "outputs": [
        {
          "output_type": "stream",
          "name": "stdout",
          "text": [
            "korea@naver.com\n",
            "paul@naver.com\n",
            "leehojun@gmail.com\n",
            "lee@gmail.com\n",
            "test@go.go\n",
            "lab@naver.com\n",
            "lab@naver.com\n"
          ]
        }
      ]
    },
    {
      "cell_type": "code",
      "source": [
        "# 수량자\n",
        "\n",
        "# 빈칸에 정규표현식을 적습니다.\n",
        "regex = re.compile('\\W') #글자가 아닌것 \n",
        "regex = re.compile('\\D') #숫자가 아닌것 \n",
        "regex = re.compile('\\S') #공백이 아닌것 \n",
        "\n",
        "\n",
        "# 정규표현식과 일치하는 부분을 모두 찾아주는 파이썬 코드입니다.\n",
        "import re\n",
        "result = re.findall(regex, searchtarget)\n",
        "print(\"\\n\".join(result))"
      ],
      "metadata": {
        "colab": {
          "base_uri": "https://localhost:8080/"
        },
        "id": "ptLHaZtdbHZW",
        "outputId": "fb629524-4b51-48d7-fd03-618c626c6ccc"
      },
      "execution_count": 170,
      "outputs": [
        {
          "output_type": "stream",
          "name": "stdout",
          "text": [
            "h\n",
            "e\n",
            "l\n",
            "l\n",
            "o\n",
            "w\n",
            "o\n",
            "r\n",
            "l\n",
            "d\n",
            "h\n",
            "e\n",
            "l\n",
            "l\n",
            "o\n",
            "w\n",
            "o\n",
            "r\n",
            "l\n",
            "d\n",
            "h\n",
            "e\n",
            "l\n",
            "l\n",
            "o\n",
            ",\n",
            "w\n",
            "o\n",
            "r\n",
            "l\n",
            "d\n",
            "H\n",
            "e\n",
            "l\n",
            "l\n",
            "o\n",
            "W\n",
            "o\n",
            "r\n",
            "l\n",
            "d\n",
            "h\n",
            "e\n",
            "l\n",
            "l\n",
            "o\n",
            "w\n",
            "o\n",
            "r\n",
            "l\n",
            "d\n",
            "h\n",
            "e\n",
            "l\n",
            "l\n",
            "o\n",
            "h\n",
            "e\n",
            "l\n",
            "l\n",
            "o\n",
            "h\n",
            "a\n",
            "l\n",
            "l\n",
            "o\n",
            "h\n",
            "o\n",
            "l\n",
            "l\n",
            "o\n",
            "h\n",
            "e\n",
            "a\n",
            "l\n",
            "l\n",
            "o\n",
            "y\n",
            "e\n",
            "l\n",
            "l\n",
            "o\n",
            "w\n",
            "M\n",
            "o\n",
            "n\n",
            "d\n",
            "a\n",
            "y\n",
            "T\n",
            "u\n",
            "e\n",
            "s\n",
            "d\n",
            "a\n",
            "y\n",
            "W\n",
            "e\n",
            "d\n",
            "n\n",
            "e\n",
            "s\n",
            "d\n",
            "a\n",
            "y\n",
            "T\n",
            "h\n",
            "u\n",
            "r\n",
            "s\n",
            "d\n",
            "a\n",
            "y\n",
            "F\n",
            "r\n",
            "i\n",
            "d\n",
            "a\n",
            "y\n",
            "S\n",
            "a\n",
            "t\n",
            "u\n",
            "r\n",
            "d\n",
            "a\n",
            "y\n",
            "S\n",
            "u\n",
            "n\n",
            "d\n",
            "a\n",
            "y\n",
            "a\n",
            "b\n",
            "c\n",
            "d\n",
            "e\n",
            "f\n",
            "g\n",
            "h\n",
            "i\n",
            "j\n",
            "k\n",
            "l\n",
            "m\n",
            "n\n",
            "o\n",
            "p\n",
            "q\n",
            "r\n",
            "s\n",
            "t\n",
            "u\n",
            "v\n",
            "w\n",
            "x\n",
            "y\n",
            "z\n",
            "A\n",
            "B\n",
            "C\n",
            "D\n",
            "E\n",
            "F\n",
            "G\n",
            "H\n",
            "I\n",
            "J\n",
            "K\n",
            "L\n",
            "M\n",
            "N\n",
            "O\n",
            "P\n",
            "Q\n",
            "R\n",
            "S\n",
            "T\n",
            "U\n",
            "V\n",
            "W\n",
            "X\n",
            "Y\n",
            "Z\n",
            "0\n",
            "1\n",
            "2\n",
            "3\n",
            "4\n",
            "5\n",
            "6\n",
            "7\n",
            "8\n",
            "9\n",
            "1\n",
            "0\n",
            "1\n",
            "1\n",
            "1\n",
            "2\n",
            "1\n",
            "3\n",
            "1\n",
            "4\n",
            "1\n",
            "5\n",
            "1\n",
            "6\n",
            "1\n",
            "7\n",
            "1\n",
            "8\n",
            "1\n",
            "9\n",
            "2\n",
            "0\n",
            "a\n",
            "a\n",
            "a\n",
            "b\n",
            "b\n",
            "c\n",
            "a\n",
            "a\n",
            "a\n",
            "b\n",
            "b\n",
            "c\n",
            "a\n",
            "b\n",
            "c\n",
            "a\n",
            "b\n",
            "c\n",
            "a\n",
            "a\n",
            "a\n",
            "b\n",
            "b\n",
            "c\n",
            "a\n",
            "a\n",
            "a\n",
            "b\n",
            "b\n",
            "c\n",
            "a\n",
            "b\n",
            "c\n",
            "a\n",
            "b\n",
            "c\n",
            "a\n",
            "a\n",
            "a\n",
            "1\n",
            "b\n",
            "b\n",
            "2\n",
            "c\n",
            "3\n",
            "a\n",
            "a\n",
            "a\n",
            "4\n",
            "b\n",
            "b\n",
            "5\n",
            "c\n",
            "6\n",
            "[\n",
            "1\n",
            "2\n",
            "3\n",
            "4\n",
            "5\n",
            "6\n",
            "]\n",
            "1\n",
            "2\n",
            "3\n",
            "[\n",
            "4\n",
            "5\n",
            "6\n",
            "]\n",
            "7\n",
            "8\n",
            "9\n",
            "a\n",
            "b\n",
            "c\n",
            "[\n",
            "d\n",
            "e\n",
            "f\n",
            "]\n",
            "g\n",
            "h\n",
            "i\n",
            "j\n",
            "0\n",
            "1\n",
            "0\n",
            "-\n",
            "9\n",
            "0\n",
            "9\n",
            "1\n",
            "-\n",
            "5\n",
            "4\n",
            "9\n",
            "1\n",
            "0\n",
            "1\n",
            "0\n",
            "-\n",
            "5\n",
            "0\n",
            "4\n",
            "3\n",
            "-\n",
            "2\n",
            "9\n",
            "0\n",
            "1\n",
            "0\n",
            "1\n",
            "0\n",
            "-\n",
            "5\n",
            "0\n",
            "5\n",
            "0\n",
            "-\n",
            "4\n",
            "0\n",
            "4\n",
            "0\n",
            "9\n",
            "0\n",
            "1\n",
            "0\n",
            "-\n",
            "4\n",
            "9\n",
            "4\n",
            "9\n",
            "2\n",
            "-\n",
            "3\n",
            "1\n",
            "3\n",
            "1\n",
            "0\n",
            "1\n",
            "0\n",
            "2\n",
            "9\n",
            "1\n",
            "3\n",
            "3\n",
            "1\n",
            "3\n",
            "2\n",
            "0\n",
            "1\n",
            "0\n",
            "1\n",
            "9\n",
            "1\n",
            "3\n",
            "3\n",
            "8\n",
            "2\n",
            "9\n",
            "0\n",
            "6\n",
            "4\n",
            "-\n",
            "7\n",
            "2\n",
            "1\n",
            "-\n",
            "3\n",
            "2\n",
            "1\n",
            "3\n",
            "0\n",
            "1\n",
            "0\n",
            ".\n",
            "1\n",
            "9\n",
            "1\n",
            "3\n",
            ".\n",
            "3\n",
            "8\n",
            "2\n",
            "9\n",
            "p\n",
            "a\n",
            "u\n",
            "l\n",
            "-\n",
            "k\n",
            "o\n",
            "r\n",
            "e\n",
            "a\n",
            "@\n",
            "n\n",
            "a\n",
            "v\n",
            "e\n",
            "r\n",
            ".\n",
            "c\n",
            "o\n",
            "m\n",
            "p\n",
            "a\n",
            "u\n",
            "l\n",
            "@\n",
            "n\n",
            "a\n",
            "v\n",
            "e\n",
            "r\n",
            ".\n",
            "c\n",
            "o\n",
            "m\n",
            "l\n",
            "e\n",
            "e\n",
            "h\n",
            "o\n",
            "j\n",
            "u\n",
            "n\n",
            "@\n",
            "g\n",
            "m\n",
            "a\n",
            "i\n",
            "l\n",
            ".\n",
            "c\n",
            "o\n",
            "m\n",
            "h\n",
            "o\n",
            "j\n",
            "u\n",
            "n\n",
            ".\n",
            "l\n",
            "e\n",
            "e\n",
            "@\n",
            "g\n",
            "m\n",
            "a\n",
            "i\n",
            "l\n",
            ".\n",
            "c\n",
            "o\n",
            "m\n",
            "t\n",
            "e\n",
            "s\n",
            "t\n",
            ".\n",
            "t\n",
            "e\n",
            "s\n",
            "t\n",
            "@\n",
            "g\n",
            "o\n",
            ".\n",
            "g\n",
            "o\n",
            ".\n",
            "g\n",
            "o\n",
            "h\n",
            "t\n",
            "t\n",
            "p\n",
            "s\n",
            ":\n",
            "/\n",
            "/\n",
            "g\n",
            "i\n",
            "t\n",
            "h\n",
            "u\n",
            "b\n",
            ".\n",
            "c\n",
            "o\n",
            "m\n",
            "/\n",
            "L\n",
            "i\n",
            "v\n",
            "e\n",
            "C\n",
            "o\n",
            "r\n",
            "o\n",
            "n\n",
            "a\n",
            "D\n",
            "e\n",
            "t\n",
            "e\n",
            "c\n",
            "t\n",
            "o\n",
            "r\n",
            "/\n",
            "l\n",
            "i\n",
            "v\n",
            "e\n",
            "c\n",
            "o\n",
            "d\n",
            "g\n",
            "i\n",
            "t\n",
            "h\n",
            "u\n",
            "b\n",
            ".\n",
            "c\n",
            "o\n",
            "m\n",
            "/\n",
            "L\n",
            "i\n",
            "v\n",
            "e\n",
            "C\n",
            "o\n",
            "r\n",
            "o\n",
            "n\n",
            "a\n",
            "D\n",
            "e\n",
            "t\n",
            "e\n",
            "c\n",
            "t\n",
            "o\n",
            "r\n",
            "/\n",
            "l\n",
            "i\n",
            "v\n",
            "e\n",
            "c\n",
            "o\n",
            "d\n",
            "h\n",
            "t\n",
            "t\n",
            "p\n",
            "s\n",
            ":\n",
            "/\n",
            "/\n",
            "g\n",
            "i\n",
            "t\n",
            "h\n",
            "u\n",
            "b\n",
            ".\n",
            "c\n",
            "o\n",
            "m\n",
            "/\n",
            "L\n",
            "i\n",
            "v\n",
            "e\n",
            "C\n",
            "o\n",
            "r\n",
            "o\n",
            "n\n",
            "a\n",
            "D\n",
            "e\n",
            "t\n",
            "e\n",
            "c\n",
            "t\n",
            "o\n",
            "r\n",
            "I\n",
            "n\n",
            "e\n",
            "v\n",
            "e\n",
            "r\n",
            "d\n",
            "r\n",
            "e\n",
            "a\n",
            "m\n",
            "e\n",
            "d\n",
            "a\n",
            "b\n",
            "o\n",
            "u\n",
            "t\n",
            "s\n",
            "u\n",
            "c\n",
            "c\n",
            "e\n",
            "s\n",
            "s\n",
            ",\n",
            "I\n",
            "w\n",
            "o\n",
            "r\n",
            "k\n",
            "e\n",
            "d\n",
            "f\n",
            "o\n",
            "r\n",
            "i\n",
            "t\n",
            ".\n",
            "D\n",
            "o\n",
            "n\n",
            "o\n",
            "t\n",
            "b\n",
            "e\n",
            "a\n",
            "f\n",
            "r\n",
            "a\n",
            "i\n",
            "d\n",
            "t\n",
            "o\n",
            "g\n",
            "i\n",
            "v\n",
            "e\n",
            "u\n",
            "p\n",
            "t\n",
            "h\n",
            "e\n",
            "g\n",
            "o\n",
            "o\n",
            "d\n",
            "t\n",
            "o\n",
            "g\n",
            "o\n",
            "f\n",
            "o\n",
            "r\n",
            "t\n",
            "h\n",
            "e\n",
            "g\n",
            "r\n",
            "e\n",
            "a\n",
            "t\n",
            ".\n",
            "h\n",
            "e\n",
            "l\n",
            "l\n",
            "o\n",
            "(\n",
            "h\n",
            "e\n",
            "l\n",
            "l\n",
            "o\n",
            "w\n",
            "o\n",
            "r\n",
            "l\n",
            "d\n",
            ")\n",
            "h\n",
            "e\n",
            "l\n",
            "l\n",
            "o\n",
            "h\n",
            "e\n",
            "l\n",
            "l\n",
            "o\n",
            "\\\n",
            "h\n",
            "e\n",
            "l\n",
            "l\n",
            "o\n",
            "w\n",
            "o\n",
            "r\n",
            "l\n",
            "d\n",
            "/\n",
            "/\n",
            "h\n",
            "e\n",
            "l\n",
            "l\n",
            "o\n",
            "^\n",
            "^\n",
            ":\n",
            ")\n",
            "[\n",
            "(\n",
            "n\n",
            "a\n",
            "m\n",
            "e\n",
            ",\n",
            "l\n",
            "e\n",
            "e\n",
            "h\n",
            "o\n",
            "j\n",
            "u\n",
            "n\n",
            ")\n",
            ",\n",
            "(\n",
            "a\n",
            "g\n",
            "e\n",
            ",\n",
            "1\n",
            "0\n",
            ")\n",
            ",\n",
            "(\n",
            "h\n",
            "e\n",
            "i\n",
            "g\n",
            "h\n",
            "t\n",
            ",\n",
            "1\n",
            "8\n",
            "0\n",
            ")\n",
            ",\n",
            "(\n",
            "e\n",
            "m\n",
            "a\n",
            "i\n",
            "l\n",
            ",\n",
            "p\n",
            "a\n",
            "u\n",
            "l\n",
            "-\n",
            "l\n",
            "a\n",
            "b\n",
            "@\n",
            "n\n",
            "a\n",
            "v\n",
            "e\n",
            "r\n",
            ".\n",
            "c\n",
            "o\n",
            "m\n",
            ")\n",
            "]\n",
            "{\n",
            "n\n",
            "a\n",
            "m\n",
            "e\n",
            ":\n",
            "l\n",
            "e\n",
            "e\n",
            "h\n",
            "o\n",
            "j\n",
            "u\n",
            "n\n",
            ",\n",
            "a\n",
            "g\n",
            "e\n",
            ":\n",
            "1\n",
            "0\n",
            ",\n",
            "h\n",
            "e\n",
            "i\n",
            "g\n",
            "h\n",
            "t\n",
            ":\n",
            "1\n",
            "8\n",
            "0\n",
            ",\n",
            "e\n",
            "m\n",
            "a\n",
            "i\n",
            "l\n",
            ":\n",
            "p\n",
            "a\n",
            "u\n",
            "l\n",
            "-\n",
            "l\n",
            "a\n",
            "b\n",
            "@\n",
            "n\n",
            "a\n",
            "v\n",
            "e\n",
            "r\n",
            ".\n",
            "c\n",
            "o\n",
            "m\n",
            "}\n",
            "가\n",
            "나\n",
            "다\n",
            "라\n",
            "마\n",
            "바\n",
            "사\n",
            "아\n",
            "자\n",
            "차\n",
            "카\n",
            "타\n",
            "파\n",
            "하\n",
            "ㄱ\n",
            "ㄴ\n",
            "ㄷ\n",
            "ㄹ\n",
            "ㅁ\n",
            "ㅂ\n",
            "ㅅ\n",
            "ㅇ\n",
            "ㅈ\n",
            "ㅊ\n",
            "ㅋ\n",
            "ㅌ\n",
            "ㅍ\n",
            "ㅎ\n",
            "안\n",
            "녕\n",
            "하\n",
            "세\n",
            "요\n",
            "안\n",
            "녕\n",
            "-\n",
            "하\n",
            "세\n",
            "요\n",
            "수\n",
            "사\n",
            "수\n",
            "박\n",
            "수\n",
            "상\n",
            "동\n",
            "해\n",
            "물\n",
            "과\n",
            "백\n",
            "두\n",
            "산\n",
            "이\n",
            "마\n",
            "르\n",
            "고\n",
            "닳\n",
            "도\n",
            "록\n",
            "하\n",
            "느\n",
            "님\n",
            "이\n",
            "보\n",
            "호\n",
            "하\n",
            "사\n",
            "우\n",
            "리\n",
            "나\n",
            "라\n",
            "만\n",
            "세\n"
          ]
        }
      ]
    },
    {
      "cell_type": "code",
      "source": [
        "# 이스케이프 문자\n",
        "regex = re.compile('\\[.*]') #대괄호 ([]) 안에 감싸여진 문자열 0~N개 \n",
        "\n",
        "\n",
        "# 정규표현식과 일치하는 부분을 모두 찾아주는 파이썬 코드입니다.\n",
        "import re\n",
        "result = re.findall(regex, searchtarget)\n",
        "print(\"\\n\".join(result))"
      ],
      "metadata": {
        "colab": {
          "base_uri": "https://localhost:8080/"
        },
        "id": "ntXOAi_Bbr39",
        "outputId": "1053fa26-d8de-45dd-dac2-efed7edc43df"
      },
      "execution_count": 174,
      "outputs": [
        {
          "output_type": "stream",
          "name": "stdout",
          "text": [
            "[123456]\n",
            "[456]\n",
            "[def]\n",
            "[(name, leehojun), (age, 10), (height, 180), (email, paul-lab@naver.com)]\n"
          ]
        }
      ]
    },
    {
      "cell_type": "code",
      "source": [
        "# 이스케이프 문자\n",
        "\n",
        "# 빈칸에 정규표현식을 적습니다.\n",
        "regex = re.compile('\\^\\^') #이스케이프 문자가 필요한 경우\n",
        "\n",
        "# 정규표현식과 일치하는 부분을 모두 찾아주는 파이썬 코드입니다.\n",
        "import re\n",
        "result = re.findall(regex, searchtarget)\n",
        "print(\"\\n\".join(result))"
      ],
      "metadata": {
        "colab": {
          "base_uri": "https://localhost:8080/"
        },
        "id": "pRGW6HkHeRBu",
        "outputId": "a740132d-0b70-42bd-c58a-a09763bd1057"
      },
      "execution_count": 177,
      "outputs": [
        {
          "output_type": "stream",
          "name": "stdout",
          "text": [
            "^^\n"
          ]
        }
      ]
    },
    {
      "cell_type": "code",
      "source": [
        "# 이스케이프 문자\n",
        "\n",
        "# 빈칸에 정규표현식을 적습니다.\n",
        "regex = re.compile(':\\)') #이스케이프 문자가 필요한 경우\n",
        "\n",
        "# 정규표현식과 일치하는 부분을 모두 찾아주는 파이썬 코드입니다.\n",
        "import re\n",
        "result = re.findall(regex, searchtarget)\n",
        "print(\"\\n\".join(result))"
      ],
      "metadata": {
        "colab": {
          "base_uri": "https://localhost:8080/"
        },
        "id": "shKNgBAsdXBI",
        "outputId": "ddbdf163-6e7a-4cef-b279-26a3e2c6f562"
      },
      "execution_count": 178,
      "outputs": [
        {
          "output_type": "stream",
          "name": "stdout",
          "text": [
            ":)\n"
          ]
        }
      ]
    },
    {
      "cell_type": "markdown",
      "source": [
        "## 정규표현식 실습하기"
      ],
      "metadata": {
        "id": "3yA9ErZfegEf"
      }
    },
    {
      "cell_type": "code",
      "source": [
        "  # 여러분들이 논문을 쓸때 나중에 참고자료에 대한 인용구를 많이 활용하게 될것입니다.\n",
        "# 이를 쉽게 모으고 싶을때.. 있지 않으신가요?\n",
        "# 논문 보기\n",
        "\n",
        "import re\n",
        "\n",
        "example = '앞서 논문은 이러한 연구를 진행하였습니다(홍길동, 2019). 하지만 그런 것들을 개량하여 다음 논문이 나오게 되었고(임꺽정, 2020), 마지막으로 두가지를 모두 결합한 새로운 연구가 개발되었습니다.(심청이, 2021)'"
      ],
      "metadata": {
        "id": "Sc5S26nHeIuc"
      },
      "execution_count": 179,
      "outputs": []
    },
    {
      "cell_type": "code",
      "source": [
        "print(example)"
      ],
      "metadata": {
        "colab": {
          "base_uri": "https://localhost:8080/"
        },
        "id": "WJfjwVumgGCO",
        "outputId": "806076c2-c74e-41ee-89c6-fc9f32b7f6d4"
      },
      "execution_count": 180,
      "outputs": [
        {
          "output_type": "stream",
          "name": "stdout",
          "text": [
            "앞서 논문은 이러한 연구를 진행하였습니다(홍길동, 2019). 하지만 그런 것들을 개량하여 다음 논문이 나오게 되었고(임꺽정, 2020), 마지막으로 두가지를 모두 결합한 새로운 연구가 개발되었습니다.(심청이, 2021)\n"
          ]
        }
      ]
    },
    {
      "cell_type": "markdown",
      "source": [
        "[문자열 규칙에 r을 붙이는 이유]\n",
        "\n",
        "정규표현식에서 문자열을 사용할 때는 앞에 r을 붙이는 것을 추천\n",
        "만약 문자열이 \\문자가 있다면 파이썬은 그 다음 문자를 그대로 인식하지 않고, 컴퓨터에 명령하기 위한 명령어로 인식 \n",
        "\n",
        "그렇기 때문에 \\와 함께 사용하는 문자를 이스케이프문자라고 합니다.\n",
        "\n",
        "이스케이프 문자를 사용하고 싶지 않다면 \\앞에 \\를 하나 더 붙여서 \\를 일반문자로 인식시키면되고\n",
        "\n",
        "만약에 그렇게 하기 어렵다면 r을 붙이는 방법이 있다. r을 붙이면 그 뒤에 나오는 문자열에 들어 있는 문자를 모두 일반 문자로 인식합니다."
      ],
      "metadata": {
        "id": "5cp7rBZLiMxH"
      }
    },
    {
      "cell_type": "code",
      "source": [
        "# 정규표현식에서 .는 모든 문자를 의미하죠? \n",
        "# 그래서 필요한 문자 외에 다른 문자들도 집어삼켜버립니다.\n",
        "\n",
        "# 만약에 이런글을 썼다고 해보죠\n",
        "import re\n",
        "example = '저희 첫째아들은 2020년에 태어났구요. 저희 둘째 아들은 23년에 태어났는데 셋째는 26년에 가질 예정이에요'\n",
        "\n",
        "re.findall(r'\\d.+년', example)"
      ],
      "metadata": {
        "colab": {
          "base_uri": "https://localhost:8080/"
        },
        "id": "5ev5u40PgHf5",
        "outputId": "32fec0af-dd1d-45a7-cc48-34b3f52aabf3"
      },
      "execution_count": 182,
      "outputs": [
        {
          "output_type": "execute_result",
          "data": {
            "text/plain": [
              "['2020년에 태어났구요. 저희 둘째 아들은 23년에 태어났는데 셋째는 26년']"
            ]
          },
          "metadata": {},
          "execution_count": 182
        }
      ]
    },
    {
      "cell_type": "code",
      "source": [
        "# split\n",
        "\n",
        "sentense = '나는 집에 갔씁니다. 그리고 밥은 먹었어요. 또 청소를 했어요'\n",
        "re.split(r'[.]',sentense)"
      ],
      "metadata": {
        "colab": {
          "base_uri": "https://localhost:8080/"
        },
        "id": "YJBUs5xiiPSO",
        "outputId": "ae4f3d12-86cc-4b33-e9e0-083a04687c2d"
      },
      "execution_count": 185,
      "outputs": [
        {
          "output_type": "execute_result",
          "data": {
            "text/plain": [
              "['나는 집에 갔씁니다', ' 그리고 밥은 먹었어요', ' 또 청소를 했어요']"
            ]
          },
          "metadata": {},
          "execution_count": 185
        }
      ]
    },
    {
      "cell_type": "code",
      "source": [
        "# 이런 파일이 있을수 있어요\n",
        "# , ;\n",
        "\n",
        "data = 'a:3;b:4;c:5'\n",
        "for i in re.split(r';',data):\n",
        "  print(i)"
      ],
      "metadata": {
        "colab": {
          "base_uri": "https://localhost:8080/"
        },
        "id": "nI__xVz7iyjt",
        "outputId": "633f643a-8904-4156-95c7-bebfc8610bbe"
      },
      "execution_count": 186,
      "outputs": [
        {
          "output_type": "stream",
          "name": "stdout",
          "text": [
            "a:3\n",
            "b:4\n",
            "c:5\n"
          ]
        }
      ]
    },
    {
      "cell_type": "code",
      "source": [
        "sentence = '나는 동물 키우는것을 좋아합니다. 그 중 강아지를 키우는데 이름은 꽃님이에요. 날씨가 화창한 날이면 꽃님이와 산책가고 싶어져요'"
      ],
      "metadata": {
        "id": "hPinBcdJjGyV"
      },
      "execution_count": 189,
      "outputs": []
    },
    {
      "cell_type": "code",
      "source": [
        "print(sentence)"
      ],
      "metadata": {
        "colab": {
          "base_uri": "https://localhost:8080/"
        },
        "id": "KQnOPriAjQSX",
        "outputId": "8080f999-756b-402e-b9ac-7e50ffc1d2a6"
      },
      "execution_count": 190,
      "outputs": [
        {
          "output_type": "stream",
          "name": "stdout",
          "text": [
            "나는 동물 키우는것을 좋아합니다. 그 중 강아지를 키우는데 이름은 꽃님이에요. 날씨가 화창한 날이면 꽃님이와 산책가고 싶어져요\n"
          ]
        }
      ]
    },
    {
      "cell_type": "code",
      "source": [
        "re.sub(r'꽃님이', '또리', sentence)"
      ],
      "metadata": {
        "colab": {
          "base_uri": "https://localhost:8080/",
          "height": 35
        },
        "id": "duh9UUu9jgsT",
        "outputId": "8913105a-51d9-426a-9c8a-449adfc148df"
      },
      "execution_count": 191,
      "outputs": [
        {
          "output_type": "execute_result",
          "data": {
            "text/plain": [
              "'나는 동물 키우는것을 좋아합니다. 그 중 강아지를 키우는데 이름은 또리에요. 날씨가 화창한 날이면 또리와 산책가고 싶어져요'"
            ],
            "application/vnd.google.colaboratory.intrinsic+json": {
              "type": "string"
            }
          },
          "metadata": {},
          "execution_count": 191
        }
      ]
    },
    {
      "cell_type": "code",
      "source": [
        "# 실제로 내가 띄워놓았던 공백을 제외하고는 모든 공백이 처리된것을 볼 수 있어요\n",
        "print(re.sub('\\n', '', sentence))"
      ],
      "metadata": {
        "colab": {
          "base_uri": "https://localhost:8080/"
        },
        "id": "I959Lnstjh-F",
        "outputId": "6ef98a19-e93a-4f21-cb8c-be634f676a94"
      },
      "execution_count": 192,
      "outputs": [
        {
          "output_type": "stream",
          "name": "stdout",
          "text": [
            "나는 동물 키우는것을 좋아합니다. 그 중 강아지를 키우는데 이름은 꽃님이에요. 날씨가 화창한 날이면 꽃님이와 산책가고 싶어져요\n"
          ]
        }
      ]
    },
    {
      "cell_type": "code",
      "source": [],
      "metadata": {
        "id": "zhU3C1acjrtd"
      },
      "execution_count": null,
      "outputs": []
    }
  ]
}