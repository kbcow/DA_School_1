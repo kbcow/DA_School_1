{
  "nbformat": 4,
  "nbformat_minor": 0,
  "metadata": {
    "colab": {
      "provenance": [],
      "toc_visible": true
    },
    "kernelspec": {
      "name": "python3",
      "display_name": "Python 3"
    },
    "language_info": {
      "name": "python"
    }
  },
  "cells": [
    {
      "cell_type": "markdown",
      "source": [
        "## 각도기\n"
      ],
      "metadata": {
        "id": "IsAzIkN221-4"
      }
    },
    {
      "cell_type": "code",
      "execution_count": null,
      "metadata": {
        "colab": {
          "base_uri": "https://localhost:8080/"
        },
        "id": "ELyI5NLK2ws0",
        "outputId": "574fe7da-44fd-4863-fe45-9c0f8ce22483"
      },
      "outputs": [
        {
          "output_type": "execute_result",
          "data": {
            "text/plain": [
              "2"
            ]
          },
          "metadata": {},
          "execution_count": 11
        }
      ],
      "source": [
        "def solution(angle):\n",
        "    if angle >0 and angle <90 :\n",
        "        return 1\n",
        "    \n",
        "    elif angle ==90 :\n",
        "        return 2\n",
        "    \n",
        "    elif angle >90 and angle <180:\n",
        "        return 3\n",
        "    \n",
        "    elif angle == 180:\n",
        "        return 4"
      ]
    },
    {
      "cell_type": "markdown",
      "source": [
        "## 짝수의 합"
      ],
      "metadata": {
        "id": "av4J7vhW5Crn"
      }
    },
    {
      "cell_type": "code",
      "source": [
        "def solution(n):\n",
        "    sum = 0\n",
        "    for x in range(0, n+1,2):\n",
        "        sum +=x\n",
        "    return sum"
      ],
      "metadata": {
        "id": "n4xrIvry4y--"
      },
      "execution_count": null,
      "outputs": []
    },
    {
      "cell_type": "markdown",
      "source": [
        "## 배열의 평균값"
      ],
      "metadata": {
        "id": "zj5sw-Jr-kM-"
      }
    },
    {
      "cell_type": "code",
      "source": [
        "def solution(numbers):\n",
        "    return sum(numbers)/len(numbers)"
      ],
      "metadata": {
        "colab": {
          "base_uri": "https://localhost:8080/"
        },
        "id": "bkqxvmKc-mOL",
        "outputId": "14c148bb-e38c-4b16-908c-e4f7712d846b"
      },
      "execution_count": 3,
      "outputs": [
        {
          "output_type": "execute_result",
          "data": {
            "text/plain": [
              "94.0"
            ]
          },
          "metadata": {},
          "execution_count": 3
        }
      ]
    },
    {
      "cell_type": "markdown",
      "source": [
        "## 양꼬치"
      ],
      "metadata": {
        "id": "5IrBEq9bAgbL"
      }
    },
    {
      "cell_type": "code",
      "source": [
        "import math \n",
        "\n",
        "def solution(n  , k):   #n 양꼬치 k음료수\n",
        "    a = n*12000\n",
        "    b = k*2000\n",
        "    c = a+b\n",
        "    \n",
        "    if n // 10 >=1 :\n",
        "        c-= math.floor(n//10)*2000\n",
        "        return c\n",
        "    else:\n",
        "        return c"
      ],
      "metadata": {
        "colab": {
          "base_uri": "https://localhost:8080/"
        },
        "id": "YNZRCIUNAk5_",
        "outputId": "26dd4422-64d2-4693-962c-95227f211d0c"
      },
      "execution_count": 43,
      "outputs": [
        {
          "output_type": "execute_result",
          "data": {
            "text/plain": [
              "124000"
            ]
          },
          "metadata": {},
          "execution_count": 43
        }
      ]
    },
    {
      "cell_type": "markdown",
      "source": [
        "## 아이스 아메리카노"
      ],
      "metadata": {
        "id": "UbPiNdrhG8Fl"
      }
    },
    {
      "cell_type": "code",
      "source": [
        "def solution(money):\n",
        "    i = list()\n",
        "    aa = money//5500\n",
        "    money -= aa*5500\n",
        "    i.extend([aa,money])\n",
        "    return i"
      ],
      "metadata": {
        "colab": {
          "base_uri": "https://localhost:8080/"
        },
        "id": "ycrxl8xoEBab",
        "outputId": "0e0a4281-d97a-449d-ef07-a1b506826f29"
      },
      "execution_count": 62,
      "outputs": [
        {
          "output_type": "execute_result",
          "data": {
            "text/plain": [
              "[1, 0]"
            ]
          },
          "metadata": {},
          "execution_count": 62
        }
      ]
    }
  ]
}