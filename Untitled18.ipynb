{
  "nbformat": 4,
  "nbformat_minor": 0,
  "metadata": {
    "colab": {
      "provenance": []
    },
    "kernelspec": {
      "name": "python3",
      "display_name": "Python 3"
    },
    "language_info": {
      "name": "python"
    }
  },
  "cells": [
    {
      "cell_type": "markdown",
      "source": [
        "조건에 맞게 수열 변환하기 3"
      ],
      "metadata": {
        "id": "AIiwyM6E5R-S"
      }
    },
    {
      "cell_type": "code",
      "source": [
        "# k가 홀수라면 arr의 모든 원소에 k를 곱함\n",
        "# k가 짝수라면 arr의 모든 원소에 k를 더합니다.\n",
        "\n",
        "def solution(arr,k):\n",
        "  if k%2==0: \n",
        "    return [i+ k for i in arr]\n",
        "  else :\n",
        "    return [i*k for i in arr]\n",
        "solution([1, 2, 3, 100, 99, 98],2)"
      ],
      "metadata": {
        "colab": {
          "base_uri": "https://localhost:8080/"
        },
        "id": "HA8Aa_Hq5TgC",
        "outputId": "5ae939fc-3ffa-41f5-acb8-a01c92fda050"
      },
      "execution_count": 5,
      "outputs": [
        {
          "output_type": "execute_result",
          "data": {
            "text/plain": [
              "[2, 4, 6, 200, 198, 196]"
            ]
          },
          "metadata": {},
          "execution_count": 5
        }
      ]
    },
    {
      "cell_type": "markdown",
      "source": [
        "# a와 b 출력하기"
      ],
      "metadata": {
        "id": "JZ9aVGfe7WzU"
      }
    },
    {
      "cell_type": "code",
      "source": [
        "x= input().split()\n",
        "\n",
        "a,b = map(int,x)\n",
        "print(f'a= {a}\\nb= {b}')"
      ],
      "metadata": {
        "colab": {
          "base_uri": "https://localhost:8080/"
        },
        "id": "CEet8bC18QMX",
        "outputId": "8f0e6fbd-f3e7-4c04-bdaa-fd8436065d81"
      },
      "execution_count": 32,
      "outputs": [
        {
          "output_type": "stream",
          "name": "stdout",
          "text": [
            "4 5\n",
            "a= 4\n",
            "b= 5\n"
          ]
        }
      ]
    },
    {
      "cell_type": "code",
      "source": [],
      "metadata": {
        "id": "PeEvuxUT9RKU"
      },
      "execution_count": null,
      "outputs": []
    },
    {
      "cell_type": "markdown",
      "source": [
        "## map"
      ],
      "metadata": {
        "id": "WLZA_jbK7Z3X"
      }
    },
    {
      "cell_type": "code",
      "source": [
        "a= [1.2,2.5,3.7,4.6]\n",
        "for i in range(len(a)):\n",
        "  a[i] = int(a[i])\n",
        "\n",
        "a"
      ],
      "metadata": {
        "colab": {
          "base_uri": "https://localhost:8080/"
        },
        "id": "zn4GyRQG6NJz",
        "outputId": "19563ad0-375e-43fb-bdaf-3f8fc88c97f8"
      },
      "execution_count": 14,
      "outputs": [
        {
          "output_type": "execute_result",
          "data": {
            "text/plain": [
              "[1, 2, 3, 4]"
            ]
          },
          "metadata": {},
          "execution_count": 14
        }
      ]
    },
    {
      "cell_type": "code",
      "source": [
        "a= [1.2,2.5,3.7,4.6] \n",
        "a= list(map(int,a))\n",
        "a"
      ],
      "metadata": {
        "colab": {
          "base_uri": "https://localhost:8080/"
        },
        "id": "ejE4i3j27qvU",
        "outputId": "a07c934b-c465-4521-e7a2-1056ac49de3c"
      },
      "execution_count": 16,
      "outputs": [
        {
          "output_type": "execute_result",
          "data": {
            "text/plain": [
              "[1, 2, 3, 4]"
            ]
          },
          "metadata": {},
          "execution_count": 16
        }
      ]
    },
    {
      "cell_type": "code",
      "source": [
        "a = list(map(str,range(10)))\n",
        "\n",
        "a"
      ],
      "metadata": {
        "colab": {
          "base_uri": "https://localhost:8080/"
        },
        "id": "-pWxvrkB7xAi",
        "outputId": "1f4cee54-4d43-42c8-bfe7-6839e9ea3140"
      },
      "execution_count": 19,
      "outputs": [
        {
          "output_type": "execute_result",
          "data": {
            "text/plain": [
              "['0', '1', '2', '3', '4', '5', '6', '7', '8', '9']"
            ]
          },
          "metadata": {},
          "execution_count": 19
        }
      ]
    },
    {
      "cell_type": "code",
      "source": [
        "a =input().split()\n",
        "a"
      ],
      "metadata": {
        "colab": {
          "base_uri": "https://localhost:8080/"
        },
        "id": "2TAYrCzd7z51",
        "outputId": "91e24b5b-cff0-45a5-8f1d-4fa32191cbab"
      },
      "execution_count": 20,
      "outputs": [
        {
          "name": "stdout",
          "output_type": "stream",
          "text": [
            "10 20\n"
          ]
        },
        {
          "output_type": "execute_result",
          "data": {
            "text/plain": [
              "['10', '20']"
            ]
          },
          "metadata": {},
          "execution_count": 20
        }
      ]
    },
    {
      "cell_type": "code",
      "source": [
        "a, b =[10,20]\n",
        "a\n",
        "b"
      ],
      "metadata": {
        "colab": {
          "base_uri": "https://localhost:8080/"
        },
        "id": "hghNUA8I78gC",
        "outputId": "d073982c-5ca4-4bc6-89a3-90c0719e75ac"
      },
      "execution_count": 23,
      "outputs": [
        {
          "output_type": "execute_result",
          "data": {
            "text/plain": [
              "20"
            ]
          },
          "metadata": {},
          "execution_count": 23
        }
      ]
    },
    {
      "cell_type": "code",
      "source": [
        "x = input().split()\n",
        "m = map(int,x)\n",
        "m\n",
        "a,b = m\n",
        "print(a,b)"
      ],
      "metadata": {
        "colab": {
          "base_uri": "https://localhost:8080/"
        },
        "id": "aAADDJ2W8AXx",
        "outputId": "5ac34fb7-138d-47c1-9133-2f5d13bd6fed"
      },
      "execution_count": 27,
      "outputs": [
        {
          "output_type": "stream",
          "name": "stdout",
          "text": [
            "10 20\n",
            "10 20\n"
          ]
        }
      ]
    },
    {
      "cell_type": "markdown",
      "source": [
        "# n 번째 원소까지"
      ],
      "metadata": {
        "id": "wW7ok4D69xJH"
      }
    },
    {
      "cell_type": "code",
      "source": [
        "def solution(num_list, n):\n",
        "      return [i for i in num_list][:n]"
      ],
      "metadata": {
        "colab": {
          "base_uri": "https://localhost:8080/"
        },
        "id": "N-PA9w8Y9yC5",
        "outputId": "01f07646-aab8-4806-d91a-7919dfaea9ab"
      },
      "execution_count": 45,
      "outputs": [
        {
          "output_type": "execute_result",
          "data": {
            "text/plain": [
              "[5, 2, 1]"
            ]
          },
          "metadata": {},
          "execution_count": 45
        }
      ]
    },
    {
      "cell_type": "markdown",
      "source": [
        "# 0 떼기"
      ],
      "metadata": {
        "id": "cqsbA8qL_fo1"
      }
    },
    {
      "cell_type": "code",
      "source": [
        "def solution(n_str):\n",
        "    answer = str(int(n_str))\n",
        "    return answer"
      ],
      "metadata": {
        "id": "5EoI5I1N9ySB"
      },
      "execution_count": 98,
      "outputs": []
    },
    {
      "cell_type": "markdown",
      "source": [
        "## lstrip()"
      ],
      "metadata": {
        "id": "Izz-KeF0EKvg"
      }
    },
    {
      "cell_type": "code",
      "source": [
        "a= \"0010\"\n",
        "a.lstrip('0')"
      ],
      "metadata": {
        "colab": {
          "base_uri": "https://localhost:8080/",
          "height": 35
        },
        "id": "o1wOMIsxDxnT",
        "outputId": "349d920e-1f48-4cbd-854d-3e78963e30e6"
      },
      "execution_count": 101,
      "outputs": [
        {
          "output_type": "execute_result",
          "data": {
            "text/plain": [
              "'10'"
            ],
            "application/vnd.google.colaboratory.intrinsic+json": {
              "type": "string"
            }
          },
          "metadata": {},
          "execution_count": 101
        }
      ]
    },
    {
      "cell_type": "markdown",
      "source": [
        "# 나머지가 1이 되는 수 찾기"
      ],
      "metadata": {
        "id": "ATGTEbPzESsC"
      }
    },
    {
      "cell_type": "code",
      "source": [
        "def solution(n):\n",
        "\n",
        "    return [i for i in range(1,n) if n% i ==1 ][0]\n"
      ],
      "metadata": {
        "colab": {
          "base_uri": "https://localhost:8080/"
        },
        "id": "_4VW5SJG9yWg",
        "outputId": "c508842c-5e6f-4740-8b47-3e699655cb6e"
      },
      "execution_count": 113,
      "outputs": [
        {
          "output_type": "execute_result",
          "data": {
            "text/plain": [
              "3"
            ]
          },
          "metadata": {},
          "execution_count": 113
        }
      ]
    },
    {
      "cell_type": "markdown",
      "source": [
        "# 약수의 합"
      ],
      "metadata": {
        "id": "CTcNoYAWLGHV"
      }
    },
    {
      "cell_type": "code",
      "source": [
        "def solution(n):\n",
        "    result = 0\n",
        "    for i in range(1,n+1):\n",
        "      if n%i==0:\n",
        "\n",
        "        result +=i\n",
        "    return result"
      ],
      "metadata": {
        "colab": {
          "base_uri": "https://localhost:8080/"
        },
        "id": "TUFd5ZuZ9yYm",
        "outputId": "c1a312ce-477d-4ed3-ca60-f9f4d5380f83"
      },
      "execution_count": 119,
      "outputs": [
        {
          "output_type": "execute_result",
          "data": {
            "text/plain": [
              "28"
            ]
          },
          "metadata": {},
          "execution_count": 119
        }
      ]
    },
    {
      "cell_type": "markdown",
      "source": [
        "# 평균 구하기"
      ],
      "metadata": {
        "id": "0L_Eb3q1Mpd6"
      }
    },
    {
      "cell_type": "code",
      "source": [
        "def solution(arr):\n",
        "    \n",
        "    return sum(arr)/len(arr)"
      ],
      "metadata": {
        "colab": {
          "base_uri": "https://localhost:8080/"
        },
        "id": "6U6eZBnw9yah",
        "outputId": "a227903a-fd2a-4cfd-faae-82e89570f1f1"
      },
      "execution_count": 121,
      "outputs": [
        {
          "output_type": "execute_result",
          "data": {
            "text/plain": [
              "2.5"
            ]
          },
          "metadata": {},
          "execution_count": 121
        }
      ]
    },
    {
      "cell_type": "markdown",
      "source": [
        "# 서울에서 김서방 찾기"
      ],
      "metadata": {
        "id": "bglY69y9NKPX"
      }
    },
    {
      "cell_type": "code",
      "source": [
        "def solution(seoul):\n",
        "    return (f'김서방은 {seoul.index(\"Kim\")}에 있다')"
      ],
      "metadata": {
        "id": "rcY9eFffNLlg"
      },
      "execution_count": 167,
      "outputs": []
    },
    {
      "cell_type": "markdown",
      "source": [
        "# 핸드폰 번호 가리기"
      ],
      "metadata": {
        "id": "li8b2mZtR8R8"
      }
    },
    {
      "cell_type": "code",
      "source": [
        "def solution(phone_number):\n",
        "    return '*'*(len(phone_number)-4)+phone_number[-4:]"
      ],
      "metadata": {
        "colab": {
          "base_uri": "https://localhost:8080/",
          "height": 35
        },
        "id": "s4W1q5pQR9nu",
        "outputId": "cf50ed89-4dd6-4dc1-c7ee-ecf0da6b28a0"
      },
      "execution_count": 254,
      "outputs": [
        {
          "output_type": "execute_result",
          "data": {
            "text/plain": [
              "'*********6454'"
            ],
            "application/vnd.google.colaboratory.intrinsic+json": {
              "type": "string"
            }
          },
          "metadata": {},
          "execution_count": 254
        }
      ]
    },
    {
      "cell_type": "code",
      "source": [
        "phone_number=\"1033334444\"\n",
        "phone_number.index(phone_number[-4:])"
      ],
      "metadata": {
        "colab": {
          "base_uri": "https://localhost:8080/"
        },
        "id": "ueckUCoEuTl2",
        "outputId": "5af5279d-19b2-40b4-a8ef-e073da11220b"
      },
      "execution_count": 203,
      "outputs": [
        {
          "output_type": "execute_result",
          "data": {
            "text/plain": [
              "7"
            ]
          },
          "metadata": {},
          "execution_count": 203
        }
      ]
    }
  ]
}