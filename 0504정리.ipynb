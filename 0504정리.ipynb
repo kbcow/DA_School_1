{
  "nbformat": 4,
  "nbformat_minor": 0,
  "metadata": {
    "colab": {
      "provenance": []
    },
    "kernelspec": {
      "name": "python3",
      "display_name": "Python 3"
    },
    "language_info": {
      "name": "python"
    }
  },
  "cells": [
    {
      "cell_type": "markdown",
      "source": [
        "# 복습"
      ],
      "metadata": {
        "id": "XOpPpQiNDAur"
      }
    },
    {
      "cell_type": "code",
      "execution_count": 2,
      "metadata": {
        "colab": {
          "base_uri": "https://localhost:8080/"
        },
        "id": "GSf35lNuFnn-",
        "outputId": "0a11e1e5-f459-4b0a-e441-8b542297b5fd"
      },
      "outputs": [
        {
          "output_type": "stream",
          "name": "stdout",
          "text": [
            "월세를 입력해주세요:500000\n",
            "관리비를 입력해주세요:60000\n",
            "560000\n"
          ]
        }
      ],
      "source": [
        "월세 = int(input('월세를 입력해주세요:'))\n",
        "관리비 = int(input('관리비를 입력해주세요:'))\n",
        "\n",
        "print(월세 + 관리비)"
      ]
    },
    {
      "cell_type": "code",
      "source": [
        "orders = ['짜장','짬뽕','탕수욕'] #'list 안에 있는 짜장' 같은 것들을 요소라고 함 \n",
        "\n",
        "print(orders[0]) #순서는 index라고함 ex)orders[0] "
      ],
      "metadata": {
        "colab": {
          "base_uri": "https://localhost:8080/"
        },
        "id": "keQlmAvzG5-P",
        "outputId": "f3f33770-2e33-474d-9d1c-b0ffa6932b74"
      },
      "execution_count": 6,
      "outputs": [
        {
          "output_type": "stream",
          "name": "stdout",
          "text": [
            "짜장\n"
          ]
        }
      ]
    },
    {
      "cell_type": "code",
      "source": [
        "#list에 값 추가하기\n",
        "\n",
        "orders = ['짜장','짬뽕','탕수욕']\n",
        "orders.append('냉면')            #append 이어붙여준다\n",
        "\n",
        "print(orders)"
      ],
      "metadata": {
        "colab": {
          "base_uri": "https://localhost:8080/"
        },
        "id": "2of0FjG8H9s3",
        "outputId": "77b33554-e5f8-47df-a198-d90390f25d16"
      },
      "execution_count": 8,
      "outputs": [
        {
          "output_type": "stream",
          "name": "stdout",
          "text": [
            "['짜장', '짬뽕', '탕수욕', '냉면']\n"
          ]
        }
      ]
    },
    {
      "cell_type": "code",
      "source": [
        "#list에 값 추가하기\n",
        "\n",
        "orders = ['짜장','짬뽕','탕수욕']\n",
        "orders.insert(3,'양장피')            #insert index 에 값을 추가한다.\n",
        "\n",
        "print(orders)"
      ],
      "metadata": {
        "colab": {
          "base_uri": "https://localhost:8080/"
        },
        "id": "Pns3r-oTGurD",
        "outputId": "a4d5c780-554c-475a-9cd3-33f2113c1b7f"
      },
      "execution_count": 10,
      "outputs": [
        {
          "output_type": "stream",
          "name": "stdout",
          "text": [
            "['짜장', '짬뽕', '탕수욕', '양장피']\n"
          ]
        }
      ]
    },
    {
      "cell_type": "code",
      "source": [
        "#list에 값 제거하기\n",
        "\n",
        "orders = ['짜장','짬뽕','탕수욕']\n",
        "del orders[0]            #del index 에 값을 제거한다.\n",
        "\n",
        "print(orders)"
      ],
      "metadata": {
        "colab": {
          "base_uri": "https://localhost:8080/"
        },
        "id": "qnWy-AANJXkf",
        "outputId": "b5da55d0-24cb-4e10-c3ce-6de6c1ff5495"
      },
      "execution_count": 12,
      "outputs": [
        {
          "output_type": "stream",
          "name": "stdout",
          "text": [
            "['짬뽕', '탕수욕']\n"
          ]
        }
      ]
    },
    {
      "cell_type": "code",
      "source": [
        "#list에 값 제거하기\n",
        "\n",
        "orders = ['짜장','짬뽕','탕수욕']\n",
        "orders.remove('짜장')            #remove 값을 제거한다.\n",
        "\n",
        "print(orders)"
      ],
      "metadata": {
        "colab": {
          "base_uri": "https://localhost:8080/"
        },
        "id": "SZX0jVSqJkQg",
        "outputId": "42f4d85a-ac95-4537-8205-c5d0acd7732b"
      },
      "execution_count": 14,
      "outputs": [
        {
          "output_type": "stream",
          "name": "stdout",
          "text": [
            "['짬뽕', '탕수욕']\n"
          ]
        }
      ]
    },
    {
      "cell_type": "code",
      "source": [
        "#list에 값 제거하기\n",
        "\n",
        "orders = ['짜장','짬뽕','탕수욕']\n",
        "del orders[0]\n",
        "orders.remove('짬뽕')            #remove 값을 제거한다.\n",
        "\n",
        "print(orders)"
      ],
      "metadata": {
        "colab": {
          "base_uri": "https://localhost:8080/"
        },
        "id": "nu8skUi3KAAW",
        "outputId": "a4d0de8d-0df6-4db7-c14b-cd70ebff4cbb"
      },
      "execution_count": 17,
      "outputs": [
        {
          "output_type": "stream",
          "name": "stdout",
          "text": [
            "['탕수욕']\n"
          ]
        }
      ]
    },
    {
      "cell_type": "code",
      "source": [
        "#list에 값 제거하기\n",
        "\n",
        "orders = ['짜장','짬뽕','탕수욕']\n",
        "orders.remove('짜장')            #remove 값을 제거한다.\n",
        "\n",
        "print(orders)"
      ],
      "metadata": {
        "colab": {
          "base_uri": "https://localhost:8080/"
        },
        "id": "IuFM4UdpKOWs",
        "outputId": "7186d0fd-edb0-4b52-e863-23cf4193ba49"
      },
      "execution_count": 18,
      "outputs": [
        {
          "output_type": "stream",
          "name": "stdout",
          "text": [
            "['짬뽕', '탕수욕']\n"
          ]
        }
      ]
    },
    {
      "cell_type": "code",
      "source": [
        "# #len\n",
        "\n",
        "# orders = ['짜장','짬뽕','탕수욕']\n",
        "# print(len(orders))\n",
        "\n",
        "name = '안녕하세요 김병우입니다'\n",
        "print(len(name))"
      ],
      "metadata": {
        "colab": {
          "base_uri": "https://localhost:8080/"
        },
        "id": "9G-FZr9TKxI1",
        "outputId": "a1f9dd1d-85db-468e-ba9c-751b92ea6c5b"
      },
      "execution_count": 21,
      "outputs": [
        {
          "output_type": "stream",
          "name": "stdout",
          "text": [
            "12\n"
          ]
        }
      ]
    },
    {
      "cell_type": "code",
      "source": [
        "num = [20,40,50,10,30]\n",
        "\n",
        "print(num)\n",
        "\n",
        "print(sum(num)/len(num))\n",
        "max(num) , min(num)"
      ],
      "metadata": {
        "colab": {
          "base_uri": "https://localhost:8080/"
        },
        "id": "IX8b--RTMw1u",
        "outputId": "ed144788-9abf-459f-e851-e35f0ea2eb4e"
      },
      "execution_count": 27,
      "outputs": [
        {
          "output_type": "stream",
          "name": "stdout",
          "text": [
            "[20, 40, 50, 10, 30]\n",
            "30.0\n"
          ]
        },
        {
          "output_type": "execute_result",
          "data": {
            "text/plain": [
              "(50, 10)"
            ]
          },
          "metadata": {},
          "execution_count": 27
        }
      ]
    },
    {
      "cell_type": "code",
      "source": [
        "#딕셔너리\n",
        "\n",
        "menu = {'짜장':4000, '짬뽕':5000, '탕수육':9000}\n",
        "\n",
        "menu['탕수육'] =800\n",
        "print(menu['탕수육'])"
      ],
      "metadata": {
        "colab": {
          "base_uri": "https://localhost:8080/"
        },
        "id": "m1Xt0L3mObXd",
        "outputId": "8c31a87d-858f-43e7-9872-c9871db45077"
      },
      "execution_count": 34,
      "outputs": [
        {
          "output_type": "stream",
          "name": "stdout",
          "text": [
            "800\n"
          ]
        }
      ]
    },
    {
      "cell_type": "code",
      "source": [
        "#딕셔너리 키, 값 추가하기\n",
        "\n",
        "\n",
        "menu = {'짜장':4000, '짬뽕':5000, '탕수육':9000}\n",
        "\n",
        "menu['마라탕'] =1800\n",
        "print(menu['마라탕'])\n"
      ],
      "metadata": {
        "colab": {
          "base_uri": "https://localhost:8080/"
        },
        "id": "NGmhjJwsR5vr",
        "outputId": "ae5599f9-48ad-4c48-ace2-445a5ff8e506"
      },
      "execution_count": 36,
      "outputs": [
        {
          "output_type": "stream",
          "name": "stdout",
          "text": [
            "1800\n"
          ]
        }
      ]
    },
    {
      "cell_type": "code",
      "source": [
        "#딕셔너리 키, 값 삭제하기\n",
        "\n",
        "menu = {'짜장':4000, '짬뽕':5000, '탕수육':9000}\n",
        "\n",
        "\n",
        "del menu['짜장']\n",
        "print(menu)\n"
      ],
      "metadata": {
        "colab": {
          "base_uri": "https://localhost:8080/"
        },
        "id": "eQ1amSKgSdBo",
        "outputId": "78936195-4dcd-4723-d930-8a25478496bb"
      },
      "execution_count": 38,
      "outputs": [
        {
          "output_type": "stream",
          "name": "stdout",
          "text": [
            "{'짬뽕': 5000, '탕수육': 9000}\n"
          ]
        }
      ]
    },
    {
      "cell_type": "code",
      "source": [
        "\n",
        "menu = {'짜장':4000, '짬뽕':5000, '탕수육':9000}\n",
        "\n",
        "menu['냉면'] =6000\n",
        "\n",
        "print(menu['짬뽕'])\n",
        "\n",
        "menu['탕수육'] = 8500\n",
        "\n",
        "del menu['짜장']\n",
        "\n",
        "print(menu)"
      ],
      "metadata": {
        "colab": {
          "base_uri": "https://localhost:8080/"
        },
        "id": "AFCoTuVtSmzo",
        "outputId": "95cc4cc6-294e-4a23-e938-2e87f97ee23f"
      },
      "execution_count": 44,
      "outputs": [
        {
          "output_type": "stream",
          "name": "stdout",
          "text": [
            "5000\n",
            "{'짬뽕': 5000, '탕수육': 8500, '냉면': 6000}\n"
          ]
        }
      ]
    },
    {
      "cell_type": "code",
      "source": [
        "myGrade = int(input('학번을 입력하세요'))\n",
        "yourGrade = int(input('학번을 입력하세요'))\n",
        "\n",
        "print(myGrade != yourGrade)"
      ],
      "metadata": {
        "colab": {
          "base_uri": "https://localhost:8080/"
        },
        "id": "w0z5jabLT8Lv",
        "outputId": "c77fee63-3106-4072-ccda-d793cf3b8cff"
      },
      "execution_count": 49,
      "outputs": [
        {
          "output_type": "stream",
          "name": "stdout",
          "text": [
            "학번을 입력하세요10\n",
            "학번을 입력하세요10\n",
            "False\n"
          ]
        }
      ]
    },
    {
      "cell_type": "code",
      "source": [
        "myGrade = int(input('학번을 입력하세요'))\n",
        "yourGrade = int(input('학번을 입력하세요'))\n",
        "\n",
        "if myGrade != yourGrade :\n",
        "  print('앗 동기네요')\n",
        "  print('반갑습니다.')\n",
        "print('누구세요')\n",
        "  "
      ],
      "metadata": {
        "colab": {
          "base_uri": "https://localhost:8080/"
        },
        "id": "u9BcPX-UUhwG",
        "outputId": "c96c8a03-add1-4c15-8380-afce08cff790"
      },
      "execution_count": 52,
      "outputs": [
        {
          "output_type": "stream",
          "name": "stdout",
          "text": [
            "학번을 입력하세요10\n",
            "학번을 입력하세요10\n",
            "누구세요\n"
          ]
        }
      ]
    },
    {
      "cell_type": "code",
      "source": [
        "myGrade = int(input('학번을 입력하세요'))\n",
        "yourGrade = int(input('학번을 입력하세요'))\n",
        "\n",
        "if myGrade == yourGrade :\n",
        "  print('앗 동기네요')\n",
        "else:\n",
        "  print('앗 동기가 아니네요')"
      ],
      "metadata": {
        "id": "Jea5aLeLUf8W"
      },
      "execution_count": null,
      "outputs": []
    },
    {
      "cell_type": "code",
      "source": [
        "myGrade = int(input('학번을 입력하세요'))\n",
        "yourGrade = int(input('학번을 입력하세요'))\n",
        "\n",
        "if myGrade == yourGrade :\n",
        "  print('앗 동기네요')\n",
        "elif myGrade > yourGrade:\n",
        "  print('안녕하세요 선배님')\n",
        "elif myGrade < yourGrade:\n",
        "  print('안녕하세요 후배님')\n",
        "else:\n",
        "  print('누구세요?')"
      ],
      "metadata": {
        "colab": {
          "base_uri": "https://localhost:8080/"
        },
        "id": "-PqMp60xVmob",
        "outputId": "1d1ed7cb-dfee-4971-91e9-0aa2bcd5a089"
      },
      "execution_count": 53,
      "outputs": [
        {
          "output_type": "stream",
          "name": "stdout",
          "text": [
            "학번을 입력하세요15\n",
            "학번을 입력하세요5\n",
            "안녕하세요 선배님\n"
          ]
        }
      ]
    },
    {
      "cell_type": "code",
      "source": [
        "orders = ['짜장','짬뽕','탕수육']\n",
        "\n",
        "food = input('먹고싶은 메뉴를 입력해주세요 :')\n",
        "\n",
        "if food in orders :\n",
        "  print('주문 가능')\n",
        "else:\n",
        "  print('주문 불가능')"
      ],
      "metadata": {
        "colab": {
          "base_uri": "https://localhost:8080/"
        },
        "id": "1priLN-cWMxL",
        "outputId": "068b1698-e5de-4055-ee73-41cfb0189aac"
      },
      "execution_count": 55,
      "outputs": [
        {
          "output_type": "stream",
          "name": "stdout",
          "text": [
            "먹고싶은 메뉴를 입력해주세요 :냉면\n",
            "주문 불가능\n"
          ]
        }
      ]
    },
    {
      "cell_type": "code",
      "source": [
        "menu = {'짜장':4000, '짬뽕':5000, '탕수육':9000}\n",
        "\n",
        "food = input('먹고싶은 메뉴를 입력해주세요 :')\n",
        "\n",
        "if food in menu:\n",
        "  print(f'주문 가능 {menu[food]}원 입니다')\n",
        "else:\n",
        "  print('주문 불가능')"
      ],
      "metadata": {
        "colab": {
          "base_uri": "https://localhost:8080/"
        },
        "id": "6WMBwI6nWdr_",
        "outputId": "4f7752b9-ad35-47dd-afa5-4c42ccc727ed"
      },
      "execution_count": 56,
      "outputs": [
        {
          "output_type": "stream",
          "name": "stdout",
          "text": [
            "먹고싶은 메뉴를 입력해주세요 :짜장\n",
            "주문 가능 4000원 입니다\n"
          ]
        }
      ]
    },
    {
      "cell_type": "code",
      "source": [
        "menu = {'짜장':4000, '짬뽕':5000, '탕수육':9000}\n",
        "menu['냉면'] = 5500\n",
        "food = input('먹고싶은 메뉴를 입력해주세요 :')\n",
        "\n",
        "if food in menu:\n",
        "  print(f'주문 가능 {menu[food]}원 입니다')\n",
        "else:\n",
        "  print('주문 불가능')"
      ],
      "metadata": {
        "colab": {
          "base_uri": "https://localhost:8080/"
        },
        "id": "3-oPcrvpZWGM",
        "outputId": "61b5e13a-fb3f-4a2d-cfd9-8cf9d5abd850"
      },
      "execution_count": 57,
      "outputs": [
        {
          "output_type": "stream",
          "name": "stdout",
          "text": [
            "먹고싶은 메뉴를 입력해주세요 :냉면\n",
            "주문 가능 5500원 입니다\n"
          ]
        }
      ]
    },
    {
      "cell_type": "code",
      "source": [
        "i = 5\n",
        "\n",
        "while i >=0:\n",
        "  print(i)\n",
        "  i-=1\n",
        "  "
      ],
      "metadata": {
        "colab": {
          "base_uri": "https://localhost:8080/"
        },
        "id": "-pqN9RyoZWD7",
        "outputId": "490158f2-9170-466b-96fd-3876a004c14f"
      },
      "execution_count": 64,
      "outputs": [
        {
          "output_type": "stream",
          "name": "stdout",
          "text": [
            "5\n",
            "4\n",
            "3\n",
            "2\n",
            "1\n",
            "0\n"
          ]
        }
      ]
    },
    {
      "cell_type": "code",
      "source": [
        "# continue\n",
        "\n",
        "i = 0\n",
        "while i <10:\n",
        "  i+= 1\n",
        "\n",
        "  if i %2==0:\n",
        "    continue\n",
        "  print(i)"
      ],
      "metadata": {
        "colab": {
          "base_uri": "https://localhost:8080/"
        },
        "id": "kDHWJWDnZWBv",
        "outputId": "9d1bf730-0461-4a2a-dfef-f9693e3e96b4"
      },
      "execution_count": 66,
      "outputs": [
        {
          "output_type": "stream",
          "name": "stdout",
          "text": [
            "1\n",
            "3\n",
            "5\n",
            "7\n",
            "9\n"
          ]
        }
      ]
    },
    {
      "cell_type": "code",
      "source": [
        "#for문\n",
        "result = 0\n",
        "for x in range(1,101):\n",
        "  result+=x\n",
        "print(result)"
      ],
      "metadata": {
        "colab": {
          "base_uri": "https://localhost:8080/"
        },
        "id": "Z_LJH98ZZV_b",
        "outputId": "f762ed96-28db-444a-94bb-f8c86f80e25e"
      },
      "execution_count": 71,
      "outputs": [
        {
          "output_type": "stream",
          "name": "stdout",
          "text": [
            "5050\n"
          ]
        }
      ]
    },
    {
      "cell_type": "code",
      "source": [
        "for x in range(5): \n",
        "  print('*',end='')\n"
      ],
      "metadata": {
        "colab": {
          "base_uri": "https://localhost:8080/"
        },
        "id": "GDq9dUKXZV9U",
        "outputId": "704b9b8a-9a8c-412f-9e7b-9d9b31e33bf9"
      },
      "execution_count": 81,
      "outputs": [
        {
          "output_type": "stream",
          "name": "stdout",
          "text": [
            "*****"
          ]
        }
      ]
    },
    {
      "cell_type": "code",
      "source": [
        "# for i in range(5):\n",
        "#     for x in range(4):\n",
        "#         print(\"*\", end=\"\")\n",
        "#     print(\"*\")\n",
        "\n",
        "\n",
        "for i in range(5):\n",
        "  for y in range(4):\n",
        "    print('*',end='')\n",
        "  print('여기')"
      ],
      "metadata": {
        "colab": {
          "base_uri": "https://localhost:8080/"
        },
        "id": "rQElSDBLlkUr",
        "outputId": "f8eb3bc8-3870-404a-97ec-e33e0e9ee908"
      },
      "execution_count": 153,
      "outputs": [
        {
          "output_type": "stream",
          "name": "stdout",
          "text": [
            "여기\n",
            "여기\n",
            "여기\n",
            "여기\n",
            "여기\n"
          ]
        }
      ]
    },
    {
      "cell_type": "code",
      "source": [
        "y='*'\n",
        "  \n",
        "for x in range(5): \n",
        "  y+='*'\n",
        "  print(y)"
      ],
      "metadata": {
        "colab": {
          "base_uri": "https://localhost:8080/"
        },
        "id": "b1snx-A4ZV7R",
        "outputId": "be66ae68-6b49-4451-edf5-f7c66a68eaad"
      },
      "execution_count": 90,
      "outputs": [
        {
          "output_type": "stream",
          "name": "stdout",
          "text": [
            "**\n",
            "***\n",
            "****\n",
            "*****\n",
            "******\n"
          ]
        }
      ]
    },
    {
      "cell_type": "code",
      "source": [
        "x = int(input('숫자를 입력해 주세요: '))\n",
        "\n",
        "for i in range(x):\n",
        "  print(x)\n",
        "  x-=1\n",
        "  "
      ],
      "metadata": {
        "colab": {
          "base_uri": "https://localhost:8080/"
        },
        "id": "gvfHxLF8ZV40",
        "outputId": "5b5b0548-7a00-4fe0-c348-10052aa6c317"
      },
      "execution_count": 120,
      "outputs": [
        {
          "output_type": "stream",
          "name": "stdout",
          "text": [
            "숫자를 입력해 주세요: 5\n",
            "5\n",
            "4\n",
            "3\n",
            "2\n",
            "1\n"
          ]
        }
      ]
    },
    {
      "cell_type": "code",
      "source": [
        "x = int(input('숫자를 입력해 주세요: '))\n",
        "\n",
        "for i in range(x):\n",
        "  print(x)\n",
        "  x-=1\n",
        "  "
      ],
      "metadata": {
        "id": "lkVhLt4VoUGC"
      },
      "execution_count": null,
      "outputs": []
    },
    {
      "cell_type": "code",
      "source": [
        "x = int(input('숫자를 입력해 주세요: '))\n",
        "\n",
        "for i in range(x):\n",
        "  i +=1\n",
        "  print(i,end=' ')\n",
        "  if (i)%10 ==0:\n",
        "    print()\n",
        "\n",
        "\n",
        "\n"
      ],
      "metadata": {
        "colab": {
          "base_uri": "https://localhost:8080/"
        },
        "id": "iC_pKE7eZVcd",
        "outputId": "d61d07ed-d509-40cf-cbc3-83969dc54425"
      },
      "execution_count": 167,
      "outputs": [
        {
          "output_type": "stream",
          "name": "stdout",
          "text": [
            "숫자를 입력해 주세요: 20\n",
            "1 2 3 4 5 6 7 8 9 10 \n",
            "11 12 13 14 15 16 17 18 19 20 \n"
          ]
        }
      ]
    },
    {
      "cell_type": "code",
      "source": [
        "#random\n",
        "import random\n",
        "\n",
        "randomNumber = random.sample(range(1,51),3)\n",
        "print(randomNumber)"
      ],
      "metadata": {
        "colab": {
          "base_uri": "https://localhost:8080/"
        },
        "id": "iou9nF6w9hO5",
        "outputId": "bc9020d7-af17-426f-a901-e7c9a171d935"
      },
      "execution_count": 173,
      "outputs": [
        {
          "output_type": "stream",
          "name": "stdout",
          "text": [
            "[28, 48, 25]\n"
          ]
        }
      ]
    },
    {
      "cell_type": "code",
      "source": [
        "#로또 문제\n",
        "import random\n",
        "\n",
        "choice = int(input('로또를 몇개 살 것입니까? :'))\n",
        "\n",
        "\n",
        "\n",
        "for i in range(choice+1):\n",
        "  number = random.sample(range(1,46),6)\n",
        "  number.sort()\n",
        "  print(number)"
      ],
      "metadata": {
        "colab": {
          "base_uri": "https://localhost:8080/"
        },
        "id": "HTu3kXH--OiV",
        "outputId": "cf6829cc-71b4-4810-b596-8e4756604320"
      },
      "execution_count": 182,
      "outputs": [
        {
          "output_type": "stream",
          "name": "stdout",
          "text": [
            "로또를 몇개 살 것입니까? :6\n",
            "[1, 11, 30, 31, 39, 43]\n",
            "[2, 16, 28, 29, 31, 43]\n",
            "[5, 14, 25, 26, 29, 38]\n",
            "[1, 2, 15, 24, 30, 42]\n",
            "[11, 16, 17, 18, 24, 40]\n",
            "[1, 8, 14, 16, 19, 42]\n",
            "[8, 10, 11, 20, 25, 38]\n"
          ]
        }
      ]
    },
    {
      "cell_type": "markdown",
      "source": [
        "# 클래스"
      ],
      "metadata": {
        "id": "nTioWJAmC-c4"
      }
    },
    {
      "cell_type": "code",
      "source": [
        "from random import *\n",
        "#일반 유닛\n",
        "class Unit:\n",
        "  def __init__(self, name, hp,speed):             #__init__생성자 \n",
        "    self.name = name                                #self.~ = 멤버 변수\n",
        "    self.hp= hp\n",
        "    self.speed = speed\n",
        "    print(f'{name} 유닛이 생성되었습니다')\n",
        "  \n",
        "  def move(self, location):\n",
        "    print('[지상 유닛 이동]')\n",
        "    print(f'{self.name} : {location} 방향으로 이동합니다. [속도 {self.speed}]')\n",
        "\n",
        "  def damaged(self, damage):\n",
        "    print(f'{self.name} : {damage} 데미지를 입었습니다.')\n",
        "    self.hp-= damage\n",
        "    print(f'{self.name} :현재 체력은 {self.hp}입니다.')\n",
        "    \n",
        "    if self.hp <= 0:\n",
        "      print(f'{self.name} : 파괴 되었습니다.')\n",
        "\n",
        "#공격 유닛\n",
        "class AttackUnit(Unit):\n",
        "  def __init__(self, name ,hp ,speed, damage):\n",
        "    Unit.__init__(self,name,hp,speed)\n",
        "    self.damage = damage\n",
        "  \n",
        "  def attack(self, location):\n",
        "    print(f'{self.name} : {location} 방향으로 적군을 공격합니다 [공격력{self.damage}]')\n",
        "\n",
        "#마린\n",
        "class Marine(AttackUnit):\n",
        "  def __init__(self):\n",
        "    AttackUnit.__init__(self,'마린',40,1,5) \n",
        "\n",
        "    #스팀팩\n",
        "  def stimpack(self):\n",
        "    if self.hp > 10 :\n",
        "      self.hp-= 10\n",
        "      print(f'{self.name} : 스팀팩을 사용 합니다 (hp 10 감소)')\n",
        "    else:\n",
        "      print(f'{self.name} : 체력이 부족하여 스팀팩을 사용하지 못합니다.')\n",
        "\n",
        "#탱크\n",
        "class Tank(AttackUnit):\n",
        "  # 시즈모드\n",
        "  seize_developed = False #시즈모드 개발 여부\n",
        "  def __init__(self):\n",
        "    AttackUnit.__init__(self,'탱크',150,1,35) \n",
        "    self.seize_mode =False\n",
        "  \n",
        "  def set_seize_mode(self):\n",
        "    if Tank.seize_developed ==False:\n",
        "      return\n",
        "\n",
        "    # 현재 시즈모드가 아닐 때  -> 시즈모드\n",
        "    if self.seize_mode ==False:\n",
        "      print(f'{self.name} : 시즈모드로 전환합니다.')\n",
        "      self.damage *= 2\n",
        "      self.seize_mode =True\n",
        "    #현재 시즈모드일 때 ->시즈모드 해제\n",
        "    else:\n",
        "      print(f'{self.name} : 시즈모드로 해제합니다.')\n",
        "      self.damage /= 2\n",
        "      self.seize_mode =False\n",
        "\n",
        "#날수 있는 기능을 가진 클래스\n",
        "class Flyable:\n",
        "  def __init__(self, flying_speed):\n",
        "    self.flying_speed = flying_speed\n",
        "\n",
        "  def fly(self, name ,location):\n",
        "    print(f'{name} : {location} 방향으로 날아갑니다. [속도{self.flying_speed}]')\n",
        "\n",
        "#공중 공격 유닛 클래스\n",
        "class FlyableAttackUnit(AttackUnit, Flyable):\n",
        "  def __init__(self, name ,hp, damage, flying_speed):\n",
        "    AttackUnit.__init__(self, name, hp,0,damage) #지상 스피드 0\n",
        "    Flyable.__init__(self, flying_speed)\n",
        "\n",
        "  def move(self,location):\n",
        "    print('[공중 유닛 이동]')\n",
        "    self.fly(self.name,location)\n",
        "\n",
        "#레이스 \n",
        "class Wraith(FlyableAttackUnit):\n",
        "  def __init__(self):\n",
        "    FlyableAttackUnit.__init__(self,'레이스',80,20,5)\n",
        "    self.clocked = False # 클로킹 모드 (해제상태)\n",
        "\n",
        "  def clocking(self):\n",
        "    if self.clocked ==True: #클로킹모드 ->해제\n",
        "      print(f'{self.name} : 클로킹 모드 해제합니다.')\n",
        "      self.clocked =False\n",
        "    else: \n",
        "      print(f'{self.name} : 클로킹 설정합니다.')\n",
        "      self.clocked =True\n",
        "\n",
        "def game_start():\n",
        "  print('[알림] 새로운 게임을 시작합니다.')\n",
        "def game_over():\n",
        "  print('Player :gg.')\n",
        "  print('[Player] 님이 게임에서 퇴장하셨습니다.')\n",
        "\n",
        "\n",
        "#게임 진행\n",
        "game_start()\n",
        "\n",
        "# 마린 3기 생성\n",
        "m1 = Marine()\n",
        "m2 = Marine()\n",
        "m3 = Marine()\n",
        "\n",
        "t1 =Tank()\n",
        "t2 =Tank()\n",
        "t3 =Tank()\n",
        "\n",
        "w1 = Wraith()\n",
        "\n",
        "#유닛 일괄 관리\n",
        "attack_units = []\n",
        "attack_units.append(m1)\n",
        "attack_units.append(m2)\n",
        "attack_units.append(m3)\n",
        "attack_units.append(t1)\n",
        "attack_units.append(t2)\n",
        "attack_units.append(t3)\n",
        "attack_units.append(w1)\n",
        "\n",
        "#전군 이동\n",
        "for unit in attack_units:\n",
        "  unit.move('1시')\n",
        "\n",
        "# 탱크 시즈모드 개발\n",
        "Tank.seize_developed =True\n",
        "print('[알림] 탱크 시즈 모드 개발이 완료되었습니다.')\n",
        "\n",
        "# 공격 모드 준비(마린 : 스팀팩,탱크 : 시즈모드 , 레이스 :클로킹)\n",
        "for unit in attack_units:\n",
        "  if isinstance(unit, Marine):\n",
        "    unit.stimpack()\n",
        "  elif isinstance(unit, Tank):\n",
        "    unit.set_seize_mode()\n",
        "  elif isinstance(unit, Wraith):\n",
        "    unit.clocking()\n",
        "\n",
        "# 전군 공격\n",
        "for unit in attack_units:\n",
        "  unit.attack('1시')\n",
        "\n",
        "# 전군 피해\n",
        "for unit in attack_units:\n",
        "  unit.damaged(randint(5,21)) #공격은 랜덤으로 받음 \n",
        "\n",
        "# 게임 종료 \n",
        "game_over()"
      ],
      "metadata": {
        "colab": {
          "base_uri": "https://localhost:8080/"
        },
        "id": "CsAon0xgTSJT",
        "outputId": "f9563e0e-a365-4965-f79d-dcfc077e8cfa"
      },
      "execution_count": 271,
      "outputs": [
        {
          "output_type": "stream",
          "name": "stdout",
          "text": [
            "[알림] 새로운 게임을 시작합니다.\n",
            "마린 유닛이 생성되었습니다\n",
            "마린 유닛이 생성되었습니다\n",
            "마린 유닛이 생성되었습니다\n",
            "탱크 유닛이 생성되었습니다\n",
            "탱크 유닛이 생성되었습니다\n",
            "탱크 유닛이 생성되었습니다\n",
            "레이스 유닛이 생성되었습니다\n",
            "[지상 유닛 이동]\n",
            "마린 : 1시 방향으로 이동합니다. [속도 1]\n",
            "[지상 유닛 이동]\n",
            "마린 : 1시 방향으로 이동합니다. [속도 1]\n",
            "[지상 유닛 이동]\n",
            "마린 : 1시 방향으로 이동합니다. [속도 1]\n",
            "[지상 유닛 이동]\n",
            "탱크 : 1시 방향으로 이동합니다. [속도 1]\n",
            "[지상 유닛 이동]\n",
            "탱크 : 1시 방향으로 이동합니다. [속도 1]\n",
            "[지상 유닛 이동]\n",
            "탱크 : 1시 방향으로 이동합니다. [속도 1]\n",
            "[공중 유닛 이동]\n",
            "레이스 : 1시 방향으로 날아갑니다. [속도5]\n",
            "[알림] 탱크 시즈 모드 개발이 완료되었습니다.\n",
            "마린 : 스팀팩을 사용 합니다 (hp 10 감소)\n",
            "마린 : 스팀팩을 사용 합니다 (hp 10 감소)\n",
            "마린 : 스팀팩을 사용 합니다 (hp 10 감소)\n",
            "탱크 : 시즈모드로 전환합니다.\n",
            "탱크 : 시즈모드로 전환합니다.\n",
            "탱크 : 시즈모드로 전환합니다.\n",
            "레이스 : 클로킹 설정합니다.\n",
            "마린 : 1시 방향으로 적군을 공격합니다 [공격력5]\n",
            "마린 : 1시 방향으로 적군을 공격합니다 [공격력5]\n",
            "마린 : 1시 방향으로 적군을 공격합니다 [공격력5]\n",
            "탱크 : 1시 방향으로 적군을 공격합니다 [공격력70]\n",
            "탱크 : 1시 방향으로 적군을 공격합니다 [공격력70]\n",
            "탱크 : 1시 방향으로 적군을 공격합니다 [공격력70]\n",
            "레이스 : 1시 방향으로 적군을 공격합니다 [공격력20]\n",
            "마린 : 21 데미지를 입었습니다.\n",
            "마린 :현재 체력은 9입니다.\n",
            "마린 : 6 데미지를 입었습니다.\n",
            "마린 :현재 체력은 24입니다.\n",
            "마린 : 21 데미지를 입었습니다.\n",
            "마린 :현재 체력은 9입니다.\n",
            "탱크 : 12 데미지를 입었습니다.\n",
            "탱크 :현재 체력은 138입니다.\n",
            "탱크 : 17 데미지를 입었습니다.\n",
            "탱크 :현재 체력은 133입니다.\n",
            "탱크 : 17 데미지를 입었습니다.\n",
            "탱크 :현재 체력은 133입니다.\n",
            "레이스 : 12 데미지를 입었습니다.\n",
            "레이스 :현재 체력은 68입니다.\n",
            "Player :gg.\n",
            "[Player] 님이 게임에서 퇴장하셨습니다.\n"
          ]
        }
      ]
    },
    {
      "cell_type": "code",
      "source": [
        "# 출력예제\n",
        "# 총 3대의 매물이 있습니다.\n",
        "# 강남 아파트 매매 10억 2010년\n",
        "# 마포 오피스텔 전세 5억 2007년\n",
        "# 송파 빌라 월세 500/50 2000년\n",
        "\n",
        "class House:\n",
        "  # 매물 초기화\n",
        "  def __init__(self, location, house_type, deal_type, price, completion_year):\n",
        "    self.location = location\n",
        "    self.house_type =house_type\n",
        "    self.deal_type =deal_type\n",
        "    self.price =price\n",
        "    self.completion_year = completion_year\n",
        "  def show_detail(self):\n",
        "    print(self.location, self.house_type, self.deal_type, self.price, self.completion_year)\n",
        "\n",
        "house = []\n",
        "\n",
        "Gangnam = House('강남','아파트','매매','5억','2010년')\n",
        "Mapo = House('마포','오피스텔','전세','5억','2007년')\n",
        "songpa = House('송파','빌라','월세','500/50','200년')\n",
        "\n",
        "house.append(Gangnam)\n",
        "house.append(Mapo)\n",
        "house.append(songpa)\n",
        "\n",
        "print(f'{len(house)}대의 매물이 있습니다.')\n",
        "for a in house:\n",
        "  \n",
        "  a.show_detail()\n"
      ],
      "metadata": {
        "colab": {
          "base_uri": "https://localhost:8080/"
        },
        "id": "eUVxFtSL8DoZ",
        "outputId": "074642e1-7f00-44d3-b685-baf5ae1100f6"
      },
      "execution_count": 280,
      "outputs": [
        {
          "output_type": "stream",
          "name": "stdout",
          "text": [
            "3대의 매물이 있습니다.\n",
            "강남 아파트 매매 5억 2010년\n",
            "마포 오피스텔 전세 5억 2007년\n",
            "송파 빌라 월세 500/50 200년\n"
          ]
        }
      ]
    },
    {
      "cell_type": "code",
      "source": [
        "class Unit:\n",
        "  def __init__(self):\n",
        "    print('Unit 생성자')\n",
        "\n",
        "class Flyable:\n",
        "  def __init__(self):\n",
        "    print('Flyable 생성자')\n",
        "\n",
        "class FlyableUnit(Unit,Flyable):\n",
        "  def __init__(self):\n",
        "    # super().__init__() \n",
        "    Unit.__init__(self)\n",
        "    Flyable.__init__(self)\n",
        "\n",
        "dropship =FlyableUnit()"
      ],
      "metadata": {
        "colab": {
          "base_uri": "https://localhost:8080/"
        },
        "id": "j6vPcSEdlp4p",
        "outputId": "047b3926-e8b2-4461-96f7-92011ab38133"
      },
      "execution_count": 252,
      "outputs": [
        {
          "output_type": "stream",
          "name": "stdout",
          "text": [
            "Unit 생성자\n",
            "Flyable 생성자\n"
          ]
        }
      ]
    },
    {
      "cell_type": "code",
      "source": [
        "\n",
        "\n",
        "class 대리인(object):\n",
        "  이름 = '라이캣의 대리인'\n",
        "  대리인_목록=[]\n",
        "  훈장 = [\n",
        "      '백상아리를 잡은 고양이',\n",
        "      '성실한 납세자',\n",
        "      '해골섬 낚시꾼',\n",
        "      '청년 고용 착한 기업',\n",
        "      '회사를 설립한 자',\n",
        "      '혈통을 인정을 받은 자',\n",
        "      '천민을 위한 병원을 세운 자'\n",
        "  ]\n",
        "  기술 = {\n",
        "      '회사운영' :99,\n",
        "      '낚시':96,\n",
        "      '통발':93,\n",
        "      '큰그물':95,\n",
        "      '재무':34\n",
        "  }\n",
        "  def 계산하기(self, x):\n",
        "    print(int(x)*5000, '원 입니다.')\n",
        "\n",
        "  def 이름_변경하기(self, name):\n",
        "    self.이름 = name\n",
        "  def 포장하기(self):\n",
        "    print('포장이 완료되었습니다.')\n",
        "\n",
        "대리인1 = 대리인()      #인스턴스 / 클래스\n",
        "대리인.대리인_목록.append('대리인1')\n",
        "대리인2 = 대리인()\n",
        "대리인.대리인_목록.append('대리인2')\n",
        "\n",
        "print(대리인1.훈장)\n",
        "print(대리인2.이름)\n",
        "\n",
        "\n",
        "print(대리인1.이름)\n",
        "print(대리인2.이름)\n"
      ],
      "metadata": {
        "colab": {
          "base_uri": "https://localhost:8080/"
        },
        "id": "2BqQUUFfC6Ac",
        "outputId": "a3bcc117-7c05-4767-8df8-22db896a3fe5"
      },
      "execution_count": 199,
      "outputs": [
        {
          "output_type": "stream",
          "name": "stdout",
          "text": [
            "['백상아리를 잡은 고양이', '성실한 납세자', '해골섬 낚시꾼', '청년 고용 착한 기업', '회사를 설립한 자', '혈통을 인정을 받은 자', '천민을 위한 병원을 세운 자']\n",
            "라이캣의 대리인\n",
            "라이캣의 대리인\n",
            "라이캣의 대리인\n"
          ]
        }
      ]
    },
    {
      "cell_type": "code",
      "source": [
        "class 대리인(object):\n",
        "  이름 = '라이캣의 대리인'\n",
        "  대리인_목록=[]\n",
        "  훈장 = [\n",
        "      '백상아리를 잡은 고양이',\n",
        "      '성실한 납세자',\n",
        "      '해골섬 낚시꾼',\n",
        "      '청년 고용 착한 기업',\n",
        "      '회사를 설립한 자',\n",
        "      '혈통을 인정을 받은 자',\n",
        "      '천민을 위한 병원을 세운 자'\n",
        "  ]\n",
        "  기술 = {\n",
        "      '회사운영' :99,\n",
        "      '낚시':96,\n",
        "      '통발':93,\n",
        "      '큰그물':95,\n",
        "      '재무':34\n",
        "  }\n",
        "\n",
        "  def __init__(self, name):\n",
        "    self.이름 = name\n",
        "    self.대리인_목록.append(name)\n",
        "  def 계산하기(self, x):\n",
        "    print(int(x)*5000, '원 입니다.')\n",
        "\n",
        "  def 포장하기(self):\n",
        "    print('포장이 완료되었습니다.')\n",
        "\n",
        "\n",
        "\n",
        "대리인1.이름_변경하기('라이캣_분신_하나')\n",
        "대리인2.이름_변경하기('라이캣_분신_둘')\n",
        "\n",
        "print(대리인1.이름)\n",
        "print(대리인2.이름)\n",
        "print(대리인1.대리인_목록)\n",
        "print(대리인2.대리인_목록)\n",
        "\n"
      ],
      "metadata": {
        "colab": {
          "base_uri": "https://localhost:8080/"
        },
        "id": "FZF5PtJbKbya",
        "outputId": "ea08cd21-701d-45e5-a2bc-9570380f8f0e"
      },
      "execution_count": 197,
      "outputs": [
        {
          "output_type": "stream",
          "name": "stdout",
          "text": [
            "라이캣_분신_하나\n",
            "라이캣_분신_둘\n",
            "['대리인1', '대리인2']\n",
            "['대리인1', '대리인2']\n"
          ]
        }
      ]
    },
    {
      "cell_type": "code",
      "source": [
        "class 배터리_영구_증가(object):\n",
        "  pass\n",
        "class 효율_극대화(object):\n",
        "  pass\n",
        "\n",
        "class 대리인(object):\n",
        "  이름 = '라이캣의 대리인'\n",
        "  대리인_목록=[]\n",
        "\n",
        "\n",
        "  def __init__(self, name):\n",
        "    self.이름 = name\n",
        "    self.대리인_목록.append(name)\n",
        "  def 계산하기(self, x):\n",
        "    print(int(x)*5000, '원 입니다.')\n",
        "\n",
        "  def 포장하기(self):\n",
        "    print('포장이 완료되었습니다.')\n",
        "\n",
        "class 진화된_대리인(대리인,배터리_영구_증가 ,효율_극대화):\n",
        "  추가_서로협의하기 =True\n",
        "  \n",
        "  def 추가된_기능_청소기능(self):\n",
        "    print('청소기능이 추가되었습니다.')"
      ],
      "metadata": {
        "id": "hHLIN3MFEYry"
      },
      "execution_count": 204,
      "outputs": []
    },
    {
      "cell_type": "code",
      "source": [
        "class 신규_로봇(object):\n",
        "\n",
        "  로봇의_기능 = ['포장하기','배달하기']\n",
        "  def __init__(self,name):\n",
        "    self.name = name\n",
        "  def __getattr__(self, item):\n",
        "    print(item + '속성은 존재하지 않습니다.') \n",
        "  def __str__(self):\n",
        "    return 'hello world'\n",
        "  def start(self):\n",
        "    print('로봇이 동작합니다.')\n",
        "\n",
        "로봇1 = 신규_로봇('로봇 하나')\n",
        "print(로봇1)\n",
        "# print(로봇1.name)\n",
        "# print(로봇1.청소하기)\n",
        "print(type(로봇1))\n",
        "print(dir(로봇1))"
      ],
      "metadata": {
        "colab": {
          "base_uri": "https://localhost:8080/"
        },
        "id": "knrE97HIDjp2",
        "outputId": "14c5e69c-6df4-4414-84bd-40dcb1639faf"
      },
      "execution_count": 209,
      "outputs": [
        {
          "output_type": "stream",
          "name": "stdout",
          "text": [
            "hello world\n",
            "<class '__main__.신규_로봇'>\n",
            "['__class__', '__delattr__', '__dict__', '__dir__', '__doc__', '__eq__', '__format__', '__ge__', '__getattr__', '__getattribute__', '__gt__', '__hash__', '__init__', '__init_subclass__', '__le__', '__lt__', '__module__', '__ne__', '__new__', '__reduce__', '__reduce_ex__', '__repr__', '__setattr__', '__sizeof__', '__str__', '__subclasshook__', '__weakref__', 'name', 'start', '로봇의_기능']\n"
          ]
        }
      ]
    },
    {
      "cell_type": "code",
      "source": [
        "class 대리인(object):\n",
        "  def __init__(self,name):\n",
        "    self.이름 = name +'대리인'\n",
        "  def __str__(self):\n",
        "    return self.이름\n",
        "\n",
        "대리인_그룹 = []\n",
        "\n",
        "for name in range(10):\n",
        "  대리인_그룹.append(대리인(str(name)))\n",
        "\n",
        "print(대리인_그룹[0])"
      ],
      "metadata": {
        "colab": {
          "base_uri": "https://localhost:8080/"
        },
        "id": "QOQALZeqPlD0",
        "outputId": "2e049332-5d95-440a-b040-3e2fb039bdbd"
      },
      "execution_count": 216,
      "outputs": [
        {
          "output_type": "stream",
          "name": "stdout",
          "text": [
            "0대리인\n"
          ]
        }
      ]
    },
    {
      "cell_type": "code",
      "source": [],
      "metadata": {
        "id": "nHaTNhhOTQca"
      },
      "execution_count": null,
      "outputs": []
    }
  ]
}