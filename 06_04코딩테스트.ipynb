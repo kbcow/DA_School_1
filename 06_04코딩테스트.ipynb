{
  "nbformat": 4,
  "nbformat_minor": 0,
  "metadata": {
    "colab": {
      "provenance": []
    },
    "kernelspec": {
      "name": "python3",
      "display_name": "Python 3"
    },
    "language_info": {
      "name": "python"
    }
  },
  "cells": [
    {
      "cell_type": "markdown",
      "source": [
        "# 옷가게 할인 받기\n",
        "- 10만원 이상 사면 5퍼센트\n",
        "- 30만원 이상 사면 10퍼센트\n",
        "- 50만원 이상 사면 20퍼센트 \n"
      ],
      "metadata": {
        "id": "KY88ouBF65xI"
      }
    },
    {
      "cell_type": "code",
      "execution_count": 29,
      "metadata": {
        "colab": {
          "base_uri": "https://localhost:8080/"
        },
        "id": "GEuuP-iR27u-",
        "outputId": "3341c2cd-b137-4db2-ea2f-06277cff11b0"
      },
      "outputs": [
        {
          "output_type": "execute_result",
          "data": {
            "text/plain": [
              "5000"
            ]
          },
          "metadata": {},
          "execution_count": 29
        }
      ],
      "source": [
        "def solution(price):\n",
        "      if price <100000 :\n",
        "        return price\n",
        "\n",
        "      if price >= 100000 and price<300000:\n",
        "        price-= price*0.05\n",
        "        return int(price)\n",
        "\n",
        "      if price >= 300000 and price <500000:\n",
        "        price-= price*0.1\n",
        "        return int(price)\n",
        "\n",
        "      if price >= 500000:\n",
        "        price-= price*0.2\n",
        "        return int(price)\n"
      ]
    },
    {
      "cell_type": "markdown",
      "source": [
        "# 배열 두배 만들기"
      ],
      "metadata": {
        "id": "Q4erM1fs-tIi"
      }
    },
    {
      "cell_type": "code",
      "source": [
        "def solution(numbers):\n",
        "    result =[]\n",
        "    for i in numbers:\n",
        "        result.append(i*2)\n",
        "    return result"
      ],
      "metadata": {
        "colab": {
          "base_uri": "https://localhost:8080/"
        },
        "id": "y_MZIuf5-mw2",
        "outputId": "4093a6ec-b7c2-4675-8314-b6a975981e1b"
      },
      "execution_count": 39,
      "outputs": [
        {
          "output_type": "execute_result",
          "data": {
            "text/plain": [
              "[2, 4, 6, 8, 10, 12]"
            ]
          },
          "metadata": {},
          "execution_count": 39
        }
      ]
    },
    {
      "cell_type": "markdown",
      "source": [
        "# 자릿수 더하기"
      ],
      "metadata": {
        "id": "h_BQt8-I_uHK"
      }
    },
    {
      "cell_type": "code",
      "source": [
        "def solution(n):\n",
        "    c= []\n",
        "    for i in str(n):\n",
        "        c.append(int(i))\n",
        "    \n",
        "    return sum(c)"
      ],
      "metadata": {
        "colab": {
          "base_uri": "https://localhost:8080/",
          "height": 136
        },
        "id": "dPcdYAV33I9L",
        "outputId": "79374108-123b-4f65-da1d-e2fc32fd1c2c"
      },
      "execution_count": 94,
      "outputs": [
        {
          "output_type": "error",
          "ename": "SyntaxError",
          "evalue": "ignored",
          "traceback": [
            "\u001b[0;36m  File \u001b[0;32m\"<ipython-input-94-84bbacd328fc>\"\u001b[0;36m, line \u001b[0;32m2\u001b[0m\n\u001b[0;31m    \u001b[0m\n\u001b[0m    ^\u001b[0m\n\u001b[0;31mSyntaxError\u001b[0m\u001b[0;31m:\u001b[0m incomplete input\n"
          ]
        }
      ]
    },
    {
      "cell_type": "markdown",
      "source": [
        "# 문자 반복 출력하기 "
      ],
      "metadata": {
        "id": "R1aYCPX-F4J7"
      }
    },
    {
      "cell_type": "code",
      "source": [
        "def solution(my_string, n):\n",
        "    c=''\n",
        "    for i in my_string:\n",
        "        c+=i*n\n",
        "    return c\n"
      ],
      "metadata": {
        "colab": {
          "base_uri": "https://localhost:8080/",
          "height": 35
        },
        "id": "csOCAP7K4YDA",
        "outputId": "9ca268b6-645f-4abf-f3d8-f1edc6c4de1a"
      },
      "execution_count": 166,
      "outputs": [
        {
          "output_type": "execute_result",
          "data": {
            "text/plain": [
              "'hhheeellllllooo'"
            ],
            "application/vnd.google.colaboratory.intrinsic+json": {
              "type": "string"
            }
          },
          "metadata": {},
          "execution_count": 166
        }
      ]
    },
    {
      "cell_type": "markdown",
      "source": [
        "# 짝수는 싫어요"
      ],
      "metadata": {
        "id": "a4rYP_m2JuwI"
      }
    },
    {
      "cell_type": "code",
      "source": [
        "def solution(n):\n",
        "    answer = []\n",
        "    for i in range(1,n+1)\n",
        "    if i%2 !=0:\n",
        "        answer.append(i)\n",
        "    return answer"
      ],
      "metadata": {
        "colab": {
          "base_uri": "https://localhost:8080/"
        },
        "id": "h6yi-D24JwAj",
        "outputId": "3ad30bb1-744a-4dcf-d458-b7aaff4b9eef"
      },
      "execution_count": 195,
      "outputs": [
        {
          "output_type": "execute_result",
          "data": {
            "text/plain": [
              "2"
            ]
          },
          "metadata": {},
          "execution_count": 195
        }
      ]
    },
    {
      "cell_type": "markdown",
      "source": [
        "# 제곱수 판별하기"
      ],
      "metadata": {
        "id": "swmWnoCwMDWe"
      }
    },
    {
      "cell_type": "code",
      "source": [
        "def solution(n):\n",
        "  a =math.sqrt(n)\n",
        "  if a == int(math.sqrt(n)):\n",
        "   return 1\n",
        "  else:\n",
        "    return 2\n"
      ],
      "metadata": {
        "colab": {
          "base_uri": "https://localhost:8080/"
        },
        "id": "_b-_N4UfKikE",
        "outputId": "ec40b7e5-3e18-41c0-efb5-501a546f5973"
      },
      "execution_count": 193,
      "outputs": [
        {
          "output_type": "execute_result",
          "data": {
            "text/plain": [
              "19.8997487421324"
            ]
          },
          "metadata": {},
          "execution_count": 193
        }
      ]
    },
    {
      "cell_type": "markdown",
      "source": [
        "# 개미 군단 (실패)"
      ],
      "metadata": {
        "id": "ufjcijeiOqgG"
      }
    },
    {
      "cell_type": "code",
      "source": [
        "# 장군개미 5 공격력\n",
        "# 병정개미 3 공격력\n",
        "# 일개미 1 공격력\n",
        "# ex) hp 23 여치 = 일개미 23 || 장군개미4 +병정개미'\n",
        "\n",
        "hp =23\n",
        "high_ant = 5\n",
        "mid_ant= 3\n",
        "low_ant= 1\n",
        "count =0\n",
        "if hp >=5:\n",
        "  a=hp//high_ant \n",
        "  count +=a\n",
        "  print(count)\n",
        "  if a >=3:\n",
        "    b= a//mid_ant\n",
        "    count +=b\n",
        "    print(count)\n",
        "    print(b)\n",
        "    if b >=1:\n",
        "     count +=b//low_ant     \n",
        "elif hp>=3 and hp<5:\n",
        "  c =hp//mid_ant\n",
        "  count +=c\n",
        "  if c>=1:\n",
        "    count+= c//low_ant\n",
        "\n",
        "elif hp>=1 and hp<3:\n",
        "  count +=hp//low_ant"
      ],
      "metadata": {
        "colab": {
          "base_uri": "https://localhost:8080/"
        },
        "id": "8jntUBTsM149",
        "outputId": "aa27a0a7-9e54-41ad-c949-49fd6b2801ac"
      },
      "execution_count": 222,
      "outputs": [
        {
          "output_type": "stream",
          "name": "stdout",
          "text": [
            "4\n",
            "5\n",
            "1\n"
          ]
        }
      ]
    },
    {
      "cell_type": "markdown",
      "source": [
        "# 세균 증식"
      ],
      "metadata": {
        "id": "nmEeRHgOUeb4"
      }
    },
    {
      "cell_type": "code",
      "source": [
        "# 1시간에 두배\n",
        "# 7(n)*2(고정값)**15(t)\n",
        "\n",
        "def solution(n,t):\n",
        "  return n*2**t"
      ],
      "metadata": {
        "id": "tscKuqcgR-MW"
      },
      "execution_count": 230,
      "outputs": []
    },
    {
      "cell_type": "code",
      "source": [
        "2<<10"
      ],
      "metadata": {
        "colab": {
          "base_uri": "https://localhost:8080/"
        },
        "id": "ZO9OOqXbVWtM",
        "outputId": "962720e9-31f9-4837-c73e-c3f58c8aeb40"
      },
      "execution_count": 233,
      "outputs": [
        {
          "output_type": "execute_result",
          "data": {
            "text/plain": [
              "2048"
            ]
          },
          "metadata": {},
          "execution_count": 233
        }
      ]
    },
    {
      "cell_type": "markdown",
      "source": [
        "# 가위바위보"
      ],
      "metadata": {
        "id": "-Wc1H2zLV2GL"
      }
    },
    {
      "cell_type": "code",
      "source": [
        "def solution(rsp):\n",
        "  d=''\n",
        "  for i in range(len(rsp)):\n",
        "    print(rsp[i])\n",
        "    if rsp[i] =='2':\n",
        "      d+='0'\n",
        "    elif rsp[i] == '0':\n",
        "      d+='5'\n",
        "    elif rsp[i] == '5':\n",
        "      d+='2'\n",
        "  return d"
      ],
      "metadata": {
        "id": "9OWa9UHMXE8O"
      },
      "execution_count": 249,
      "outputs": []
    },
    {
      "cell_type": "markdown",
      "source": [
        "# 암호 해독"
      ],
      "metadata": {
        "id": "ULFO4tMSZbHW"
      }
    },
    {
      "cell_type": "code",
      "source": [
        "def solution(cipher, code):\n",
        "  d=''\n",
        "  for i in range(code-1,len(cipher),code):\n",
        "      d+=cipher[i]\n",
        "  return d"
      ],
      "metadata": {
        "id": "D7Sik8ClZaBr"
      },
      "execution_count": 290,
      "outputs": []
    },
    {
      "cell_type": "markdown",
      "source": [
        "# 대문자와 소문자 (swapcase)"
      ],
      "metadata": {
        "id": "qCG_Kld2c-4s"
      }
    },
    {
      "cell_type": "code",
      "source": [
        "def solution(my_string):\n",
        "  d=''\n",
        "  for i in my_string:\n",
        "    if i.isupper()==True:\n",
        "      d+=i.lower()\n",
        "    else:\n",
        "      d+=i.upper()\n",
        "  return d"
      ],
      "metadata": {
        "colab": {
          "base_uri": "https://localhost:8080/",
          "height": 35
        },
        "id": "pp2ZjM-LcykB",
        "outputId": "bdab9d11-2afc-464e-b98c-a63ca1e8788d"
      },
      "execution_count": 301,
      "outputs": [
        {
          "output_type": "execute_result",
          "data": {
            "text/plain": [
              "'CCCccc'"
            ],
            "application/vnd.google.colaboratory.intrinsic+json": {
              "type": "string"
            }
          },
          "metadata": {},
          "execution_count": 301
        }
      ]
    },
    {
      "cell_type": "markdown",
      "source": [
        "## swapcase"
      ],
      "metadata": {
        "id": "qLX1v_WKfJgL"
      }
    },
    {
      "cell_type": "code",
      "source": [
        "string = 'Welcome To My Blog'\n",
        "\n",
        "string.swapcase()"
      ],
      "metadata": {
        "colab": {
          "base_uri": "https://localhost:8080/",
          "height": 35
        },
        "id": "ZtZ4bkmFfSja",
        "outputId": "187043c6-658f-4a87-ebbd-7a3da29a06d4"
      },
      "execution_count": 303,
      "outputs": [
        {
          "output_type": "execute_result",
          "data": {
            "text/plain": [
              "'wELCOME tO mY bLOG'"
            ],
            "application/vnd.google.colaboratory.intrinsic+json": {
              "type": "string"
            }
          },
          "metadata": {},
          "execution_count": 303
        }
      ]
    },
    {
      "cell_type": "code",
      "source": [
        "def solution(my_string):\n",
        "  return my_string.swapcase()\n",
        "solution('CCCccc')"
      ],
      "metadata": {
        "colab": {
          "base_uri": "https://localhost:8080/",
          "height": 35
        },
        "id": "G1ESfP_sfkcY",
        "outputId": "260d7576-0c4b-4137-a692-2854550c2239"
      },
      "execution_count": 304,
      "outputs": [
        {
          "output_type": "execute_result",
          "data": {
            "text/plain": [
              "'cccCCC'"
            ],
            "application/vnd.google.colaboratory.intrinsic+json": {
              "type": "string"
            }
          },
          "metadata": {},
          "execution_count": 304
        }
      ]
    },
    {
      "cell_type": "markdown",
      "source": [
        "# 최댓값 만들기 (2)"
      ],
      "metadata": {
        "id": "9xkoM5JcfxDy"
      }
    },
    {
      "cell_type": "code",
      "source": [
        "def solution(numbers):\n",
        "  numbers.sort()\n",
        "  if numbers[1]<0 and numbers[0]*numbers[1] >numbers[-1]*numbers[-2]:\n",
        "    return numbers[0]*numbers[1]\n",
        "  else:\n",
        "    return numbers[-1]*numbers[-2]"
      ],
      "metadata": {
        "colab": {
          "base_uri": "https://localhost:8080/"
        },
        "id": "iuTGAsZLfy4p",
        "outputId": "a3d6b2d5-649a-4813-e1aa-759d529c36b7"
      },
      "execution_count": 324,
      "outputs": [
        {
          "output_type": "execute_result",
          "data": {
            "text/plain": [
              "19344831211642758102767772475987826070"
            ]
          },
          "metadata": {},
          "execution_count": 324
        }
      ]
    },
    {
      "cell_type": "code",
      "source": [
        "def solution(numbers):\n",
        "  numbers.sort()\n",
        "  return max(numbers[0]*numbers[1],numbers[-1]*numbers[-2])"
      ],
      "metadata": {
        "colab": {
          "base_uri": "https://localhost:8080/"
        },
        "id": "Ohl6nqf_fzVU",
        "outputId": "93ab6581-7218-44ca-dfc9-9797d4e21ad2"
      },
      "execution_count": 325,
      "outputs": [
        {
          "output_type": "execute_result",
          "data": {
            "text/plain": [
              "5"
            ]
          },
          "metadata": {},
          "execution_count": 325
        }
      ]
    },
    {
      "cell_type": "markdown",
      "source": [
        "# n의 배수 고르기"
      ],
      "metadata": {
        "id": "-Qa_Q5kpjiCq"
      }
    },
    {
      "cell_type": "code",
      "source": [
        "def solution(n,numlist):\n",
        "\n",
        "  d=[]\n",
        "  for i in numlist:\n",
        "    if i%n ==0:\n",
        "      d.append(i)\n",
        "  return d\n",
        "  \n"
      ],
      "metadata": {
        "colab": {
          "base_uri": "https://localhost:8080/"
        },
        "id": "wZlCS5GMjf7I",
        "outputId": "e0c942dc-934a-4bb7-97bc-3afc3ab041c0"
      },
      "execution_count": 329,
      "outputs": [
        {
          "output_type": "execute_result",
          "data": {
            "text/plain": [
              "[3, 6, 9]"
            ]
          },
          "metadata": {},
          "execution_count": 329
        }
      ]
    },
    {
      "cell_type": "markdown",
      "source": [
        "# 문자열 정리하기(1) (isdigit)"
      ],
      "metadata": {
        "id": "dfZ5EBRelHUd"
      }
    },
    {
      "cell_type": "code",
      "source": [
        "def solution(my_string):\n",
        "    b=['0','1','2','3','4','5','6','7','8','9']\n",
        "    c=[]\n",
        "    d= list(my_string)\n",
        "    d.sort()\n",
        "    for i in d:\n",
        "        if i in b:\n",
        "            c.append(int(i))\n",
        "    return c"
      ],
      "metadata": {
        "id": "WAnJ1HiRfzaP"
      },
      "execution_count": 375,
      "outputs": []
    },
    {
      "cell_type": "markdown",
      "source": [
        "## isdigit"
      ],
      "metadata": {
        "id": "dCKAYCkPp43b"
      }
    },
    {
      "cell_type": "code",
      "source": [
        "a= '123'\n",
        "a2='010-1234-5678'\n",
        "a3='전화번호010'\n",
        "a4 = 'phone 010'\n",
        "\n",
        "print(a.isdigit())\n",
        "print(a2.isdigit())\n",
        "print(a3.isdigit())\n",
        "print(a4.isdigit())"
      ],
      "metadata": {
        "colab": {
          "base_uri": "https://localhost:8080/"
        },
        "id": "UHAFxb1Jfzeh",
        "outputId": "d67fa944-80eb-41c2-8a7f-81a7fe6b0716"
      },
      "execution_count": 374,
      "outputs": [
        {
          "output_type": "stream",
          "name": "stdout",
          "text": [
            "True\n",
            "False\n",
            "False\n",
            "False\n"
          ]
        }
      ]
    },
    {
      "cell_type": "markdown",
      "source": [
        "# for문 한줄에 작성"
      ],
      "metadata": {
        "id": "cWlNGCYJrAxD"
      }
    },
    {
      "cell_type": "code",
      "source": [
        "# [결과 for 반복문]\n",
        "temp = [i for i in range(7)]\n",
        "print(temp)\n"
      ],
      "metadata": {
        "colab": {
          "base_uri": "https://localhost:8080/"
        },
        "id": "JvxoEJPSfzgq",
        "outputId": "061a0239-348f-418b-bfc0-a0f443c14ad2"
      },
      "execution_count": 379,
      "outputs": [
        {
          "output_type": "stream",
          "name": "stdout",
          "text": [
            "[0, 1, 2, 3, 4, 5, 6]\n"
          ]
        }
      ]
    },
    {
      "cell_type": "code",
      "source": [
        "temp = [i*j for i in range(1,3) for j in range(1,4)]\n",
        "print(temp)"
      ],
      "metadata": {
        "colab": {
          "base_uri": "https://localhost:8080/"
        },
        "id": "kFPezmM8rPjF",
        "outputId": "fce5fcea-fafb-4fa3-87b5-a00d86067bfd"
      },
      "execution_count": 380,
      "outputs": [
        {
          "output_type": "stream",
          "name": "stdout",
          "text": [
            "[1, 2, 3, 2, 4, 6]\n"
          ]
        }
      ]
    },
    {
      "cell_type": "code",
      "source": [
        "for i in range(1,3):\n",
        "  for j in range(1,4):\n",
        "    print(i*j)"
      ],
      "metadata": {
        "colab": {
          "base_uri": "https://localhost:8080/"
        },
        "id": "LX2fJ1wBfzim",
        "outputId": "aacd9cdb-9c9a-4bbf-af0f-f51850b6f6ea"
      },
      "execution_count": 386,
      "outputs": [
        {
          "output_type": "stream",
          "name": "stdout",
          "text": [
            "1\n",
            "2\n",
            "3\n",
            "2\n",
            "4\n",
            "6\n"
          ]
        }
      ]
    },
    {
      "cell_type": "code",
      "source": [
        "# +if 조건문\n",
        "temp = [i*j if i%2 ==1 else 'pass' for i in range(1,5) for j in range(1,4)]\n",
        "temp"
      ],
      "metadata": {
        "colab": {
          "base_uri": "https://localhost:8080/"
        },
        "id": "J6WzQgSbr269",
        "outputId": "d116adca-b19a-4c84-f2b9-c573e2d2cc91"
      },
      "execution_count": 390,
      "outputs": [
        {
          "output_type": "execute_result",
          "data": {
            "text/plain": [
              "[1, 2, 3, 'pass', 'pass', 'pass', 3, 6, 9, 'pass', 'pass', 'pass']"
            ]
          },
          "metadata": {},
          "execution_count": 390
        }
      ]
    }
  ]
}