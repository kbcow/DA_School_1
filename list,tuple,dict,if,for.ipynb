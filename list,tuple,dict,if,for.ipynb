{
  "nbformat": 4,
  "nbformat_minor": 0,
  "metadata": {
    "colab": {
      "provenance": []
    },
    "kernelspec": {
      "name": "python3",
      "display_name": "Python 3"
    },
    "language_info": {
      "name": "python"
    }
  },
  "cells": [
    {
      "cell_type": "markdown",
      "source": [
        "## list \n",
        "\n",
        "1. 순서가 있다.\n",
        "2. 수정이 가능합니다\n",
        "3. 순회가 가능합니다.\n",
        "4. 값의 중복을 허락합니다.\n"
      ],
      "metadata": {
        "id": "uW8IYF6GKUm2"
      }
    },
    {
      "cell_type": "code",
      "execution_count": 3,
      "metadata": {
        "colab": {
          "base_uri": "https://localhost:8080/"
        },
        "id": "h6Rts5pG7Yva",
        "outputId": "dbe3b501-38d2-415d-85b4-7f274790d3e2"
      },
      "outputs": [
        {
          "output_type": "stream",
          "name": "stdout",
          "text": [
            "<class 'list'>\n",
            "['__add__', '__class__', '__class_getitem__', '__contains__', '__delattr__', '__delitem__', '__dir__', '__doc__', '__eq__', '__format__', '__ge__', '__getattribute__', '__getitem__', '__gt__', '__hash__', '__iadd__', '__imul__', '__init__', '__init_subclass__', '__iter__', '__le__', '__len__', '__lt__', '__mul__', '__ne__', '__new__', '__reduce__', '__reduce_ex__', '__repr__', '__reversed__', '__rmul__', '__setattr__', '__setitem__', '__sizeof__', '__str__', '__subclasshook__', 'append', 'clear', 'copy', 'count', 'extend', 'index', 'insert', 'pop', 'remove', 'reverse', 'sort']\n"
          ]
        }
      ],
      "source": [
        "# list , tuple ,dict, set\n",
        "\n",
        "# 1.list\n",
        "\n",
        "훈장 = []\n",
        "기술 = ['고기잡이', '고기팔기']\n",
        "print(type(기술))\n",
        "print(dir(기술))\n"
      ]
    },
    {
      "cell_type": "code",
      "source": [
        "잡은물고기= ['광어', '고등어','오징어','오징어','광어',\n",
        "             '광어', '고등어',' 고등어', '백상아리','금붕어']\n",
        "\n",
        "\n",
        "print(잡은물고기[0])\n",
        "print(잡은물고기[0:3])\n",
        "print(잡은물고기[0:7:2])\n",
        "잡은물고기[-1] ='백상아리'\n"
      ],
      "metadata": {
        "colab": {
          "base_uri": "https://localhost:8080/"
        },
        "id": "h7drBv-V7ubv",
        "outputId": "7b7127a3-c63f-4ad8-f7c7-327bdba1b98f"
      },
      "execution_count": 14,
      "outputs": [
        {
          "output_type": "stream",
          "name": "stdout",
          "text": [
            "광어\n",
            "['광어', '고등어', '오징어']\n",
            "['광어', '오징어', '광어', '고등어']\n"
          ]
        }
      ]
    },
    {
      "cell_type": "code",
      "source": [
        "잡은물고기.count('백상아리')\n",
        "잡은물고기.append('백상아리')\n",
        "# 잡은물고기.clear\n",
        "# 잡은물고기.copy\n",
        "# 잡은물고기.count\n",
        "# 잡은물고기.extend\n"
      ],
      "metadata": {
        "id": "7EoprGWKNgUl"
      },
      "execution_count": 17,
      "outputs": []
    },
    {
      "cell_type": "code",
      "source": [
        "잡은물고기.extend(['광어','광어','고등어'])\n",
        "\n",
        "잡은물고기"
      ],
      "metadata": {
        "colab": {
          "base_uri": "https://localhost:8080/"
        },
        "id": "qi9ddhmBMkFW",
        "outputId": "232d7465-7e69-4a79-8474-54979db84904"
      },
      "execution_count": 19,
      "outputs": [
        {
          "output_type": "execute_result",
          "data": {
            "text/plain": [
              "['광어',\n",
              " '고등어',\n",
              " '오징어',\n",
              " '오징어',\n",
              " '광어',\n",
              " '광어',\n",
              " '고등어',\n",
              " ' 고등어',\n",
              " '백상아리',\n",
              " '백상아리',\n",
              " '백상아리',\n",
              " '광어',\n",
              " '광어',\n",
              " '고등어']"
            ]
          },
          "metadata": {},
          "execution_count": 19
        }
      ]
    },
    {
      "cell_type": "code",
      "source": [
        "잡은물고기.index('백상아리')\n",
        "잡은물고기.insert(3, 'qortkddkfl')\n",
        "잡은물고기\n",
        "잡은물고기.pop()\n",
        "#pop안에 index가능"
      ],
      "metadata": {
        "colab": {
          "base_uri": "https://localhost:8080/"
        },
        "id": "0sKh6pacOT_Y",
        "outputId": "8a000458-4d93-4d4b-a2ba-265941af45a5"
      },
      "execution_count": 22,
      "outputs": [
        {
          "output_type": "execute_result",
          "data": {
            "text/plain": [
              "['광어',\n",
              " '고등어',\n",
              " '오징어',\n",
              " 'qortkddkfl',\n",
              " 'qortkddkfl',\n",
              " '오징어',\n",
              " '광어',\n",
              " '광어',\n",
              " '고등어',\n",
              " ' 고등어',\n",
              " '백상아리',\n",
              " '백상아리',\n",
              " '백상아리',\n",
              " '광어',\n",
              " '광어',\n",
              " '고등어']"
            ]
          },
          "metadata": {},
          "execution_count": 22
        }
      ]
    },
    {
      "cell_type": "code",
      "source": [
        "잡은물고기.remove('백상아리')\n",
        "잡은물고기\n",
        "\n"
      ],
      "metadata": {
        "colab": {
          "base_uri": "https://localhost:8080/"
        },
        "id": "NriIOI2hMb12",
        "outputId": "9220737f-b045-41fa-cd1a-d06746fe3575"
      },
      "execution_count": 25,
      "outputs": [
        {
          "output_type": "execute_result",
          "data": {
            "text/plain": [
              "['광어',\n",
              " '고등어',\n",
              " '오징어',\n",
              " '오징어',\n",
              " '광어',\n",
              " '광어',\n",
              " '고등어',\n",
              " ' 고등어',\n",
              " '백상아리',\n",
              " '백상아리',\n",
              " '광어',\n",
              " '광어',\n",
              " '고등어']"
            ]
          },
          "metadata": {},
          "execution_count": 25
        }
      ]
    },
    {
      "cell_type": "code",
      "source": [
        "잡은물고기.reverse()\n",
        "잡은물고기"
      ],
      "metadata": {
        "colab": {
          "base_uri": "https://localhost:8080/"
        },
        "id": "H280xcg8MXcP",
        "outputId": "accbbe19-7d1e-4cfb-8e3d-3de614dc5999"
      },
      "execution_count": 27,
      "outputs": [
        {
          "output_type": "execute_result",
          "data": {
            "text/plain": [
              "['광어',\n",
              " '고등어',\n",
              " '오징어',\n",
              " '오징어',\n",
              " '광어',\n",
              " '광어',\n",
              " '고등어',\n",
              " ' 고등어',\n",
              " '백상아리',\n",
              " '백상아리',\n",
              " '광어',\n",
              " '광어',\n",
              " '고등어']"
            ]
          },
          "metadata": {},
          "execution_count": 27
        }
      ]
    },
    {
      "cell_type": "code",
      "source": [
        "잡은물고기.sort()\n",
        "잡은물고기"
      ],
      "metadata": {
        "colab": {
          "base_uri": "https://localhost:8080/"
        },
        "id": "WlOxi-zwDKWM",
        "outputId": "0ee91363-fb5d-47bf-bff1-fadcbec48dc7"
      },
      "execution_count": 29,
      "outputs": [
        {
          "output_type": "execute_result",
          "data": {
            "text/plain": [
              "[' 고등어',\n",
              " '고등어',\n",
              " '고등어',\n",
              " '고등어',\n",
              " '광어',\n",
              " '광어',\n",
              " '광어',\n",
              " '광어',\n",
              " '광어',\n",
              " '백상아리',\n",
              " '백상아리',\n",
              " '오징어',\n",
              " '오징어']"
            ]
          },
          "metadata": {},
          "execution_count": 29
        }
      ]
    },
    {
      "cell_type": "markdown",
      "source": [
        "## 2.tuple\n",
        "\n",
        "1. 순사가 있습니다\n",
        "2. 값의 변화를 줄 수 없습니다."
      ],
      "metadata": {
        "id": "dwyfVl2cPNEf"
      }
    },
    {
      "cell_type": "code",
      "source": [
        "잡은물고기_튜플 =[' 고등어',\n",
        " '고등어',\n",
        " '고등어',\n",
        " '고등어',\n",
        " '광어',\n",
        " '광어',\n",
        " '광어',\n",
        " '광어',\n",
        " '광어',\n",
        " '백상아리',\n",
        " '백상아리',\n",
        " '오징어',\n",
        " '오징어']\n",
        "\n",
        "print(type(잡은물고기_튜플))\n",
        "print(dir(잡은물고기_튜플))\n",
        "\n"
      ],
      "metadata": {
        "colab": {
          "base_uri": "https://localhost:8080/"
        },
        "id": "4Q0flPEcPMC6",
        "outputId": "ceb21688-e835-48fb-85dc-92525c247a24"
      },
      "execution_count": 30,
      "outputs": [
        {
          "output_type": "stream",
          "name": "stdout",
          "text": [
            "<class 'list'>\n",
            "['__add__', '__class__', '__class_getitem__', '__contains__', '__delattr__', '__delitem__', '__dir__', '__doc__', '__eq__', '__format__', '__ge__', '__getattribute__', '__getitem__', '__gt__', '__hash__', '__iadd__', '__imul__', '__init__', '__init_subclass__', '__iter__', '__le__', '__len__', '__lt__', '__mul__', '__ne__', '__new__', '__reduce__', '__reduce_ex__', '__repr__', '__reversed__', '__rmul__', '__setattr__', '__setitem__', '__sizeof__', '__str__', '__subclasshook__', 'append', 'clear', 'copy', 'count', 'extend', 'index', 'insert', 'pop', 'remove', 'reverse', 'sort']\n"
          ]
        }
      ]
    },
    {
      "cell_type": "markdown",
      "source": [
        "## 3. 딕셔너리\n",
        "\n",
        "1. 순서가 없습니다\n",
        "2. 키 값의 중복을 허락하지 않습니다.\n",
        "3. 값의 중복은 가능합니다.\n",
        "4. 순회는 가능합니다."
      ],
      "metadata": {
        "id": "lTMenrPbPtBV"
      }
    },
    {
      "cell_type": "code",
      "source": [
        "# Dictionary의 구조\n",
        "# dic = {'key' : 'value'}\n",
        "\n",
        "잡은물고기_딕셔너리 = {'광어' :4, '고등어' :4, '오징어' : 2, '백상아리': 3}\n",
        "\n"
      ],
      "metadata": {
        "id": "AyYw2PmQPz9N"
      },
      "execution_count": 31,
      "outputs": []
    },
    {
      "cell_type": "code",
      "source": [
        "잡은물고기_딕셔너리['광어']\n",
        "del 잡은물고기_딕셔너리['고등어']\n",
        "\n",
        "잡은물고기_딕셔너리\n"
      ],
      "metadata": {
        "colab": {
          "base_uri": "https://localhost:8080/",
          "height": 229
        },
        "id": "MLk29L99Q9zd",
        "outputId": "90a02fc9-442c-41bd-f9f1-43a2132bd593"
      },
      "execution_count": 35,
      "outputs": [
        {
          "output_type": "error",
          "ename": "KeyError",
          "evalue": "ignored",
          "traceback": [
            "\u001b[0;31m---------------------------------------------------------------------------\u001b[0m",
            "\u001b[0;31mKeyError\u001b[0m                                  Traceback (most recent call last)",
            "\u001b[0;32m<ipython-input-35-6ba85bb6cbf8>\u001b[0m in \u001b[0;36m<cell line: 2>\u001b[0;34m()\u001b[0m\n\u001b[1;32m      1\u001b[0m \u001b[0m잡은물고기_딕셔너리\u001b[0m\u001b[0;34m[\u001b[0m\u001b[0;34m'광어'\u001b[0m\u001b[0;34m]\u001b[0m\u001b[0;34m\u001b[0m\u001b[0;34m\u001b[0m\u001b[0m\n\u001b[0;32m----> 2\u001b[0;31m \u001b[0;32mdel\u001b[0m \u001b[0m잡은물고기_딕셔너리\u001b[0m\u001b[0;34m[\u001b[0m\u001b[0;34m'고등어'\u001b[0m\u001b[0;34m]\u001b[0m\u001b[0;34m\u001b[0m\u001b[0;34m\u001b[0m\u001b[0m\n\u001b[0m\u001b[1;32m      3\u001b[0m \u001b[0;34m\u001b[0m\u001b[0m\n\u001b[1;32m      4\u001b[0m \u001b[0m잡은물고기_딕셔너리\u001b[0m\u001b[0;34m\u001b[0m\u001b[0;34m\u001b[0m\u001b[0m\n",
            "\u001b[0;31mKeyError\u001b[0m: '고등어'"
          ]
        }
      ]
    },
    {
      "cell_type": "code",
      "source": [
        "print(type(잡은물고기_딕셔너리))\n",
        "print(dir(잡은물고기_딕셔너리))"
      ],
      "metadata": {
        "colab": {
          "base_uri": "https://localhost:8080/"
        },
        "id": "IdnVjPS6RTlY",
        "outputId": "cc816ec5-c7ef-4603-a69c-99eb247bcba5"
      },
      "execution_count": 37,
      "outputs": [
        {
          "output_type": "stream",
          "name": "stdout",
          "text": [
            "<class 'dict'>\n",
            "['__class__', '__class_getitem__', '__contains__', '__delattr__', '__delitem__', '__dir__', '__doc__', '__eq__', '__format__', '__ge__', '__getattribute__', '__getitem__', '__gt__', '__hash__', '__init__', '__init_subclass__', '__ior__', '__iter__', '__le__', '__len__', '__lt__', '__ne__', '__new__', '__or__', '__reduce__', '__reduce_ex__', '__repr__', '__reversed__', '__ror__', '__setattr__', '__setitem__', '__sizeof__', '__str__', '__subclasshook__', 'clear', 'copy', 'fromkeys', 'get', 'items', 'keys', 'pop', 'popitem', 'setdefault', 'update', 'values']\n"
          ]
        }
      ]
    },
    {
      "cell_type": "code",
      "source": [
        "잡은물고기_딕셔너리.items()"
      ],
      "metadata": {
        "colab": {
          "base_uri": "https://localhost:8080/"
        },
        "id": "AgHogoHvRa6e",
        "outputId": "2918b179-b533-4943-e95b-3dcb1f0e9430"
      },
      "execution_count": 39,
      "outputs": [
        {
          "output_type": "execute_result",
          "data": {
            "text/plain": [
              "dict_items([('광어', 4), ('오징어', 2), ('백상아리', 3)])"
            ]
          },
          "metadata": {},
          "execution_count": 39
        }
      ]
    },
    {
      "cell_type": "code",
      "source": [
        "잡은물고기_딕셔너리.values()"
      ],
      "metadata": {
        "colab": {
          "base_uri": "https://localhost:8080/"
        },
        "id": "C7DnX7hKRpoP",
        "outputId": "d630b343-f022-43a4-f67d-87abbae8ea22"
      },
      "execution_count": 40,
      "outputs": [
        {
          "output_type": "execute_result",
          "data": {
            "text/plain": [
              "dict_values([4, 2, 3])"
            ]
          },
          "metadata": {},
          "execution_count": 40
        }
      ]
    },
    {
      "cell_type": "code",
      "source": [
        "잡은물고기_딕셔너리.keys()"
      ],
      "metadata": {
        "colab": {
          "base_uri": "https://localhost:8080/"
        },
        "id": "tTksqSkNRrEO",
        "outputId": "6d94865b-95ee-49f2-f53e-357eaf48b27a"
      },
      "execution_count": 41,
      "outputs": [
        {
          "output_type": "execute_result",
          "data": {
            "text/plain": [
              "dict_keys(['광어', '오징어', '백상아리'])"
            ]
          },
          "metadata": {},
          "execution_count": 41
        }
      ]
    },
    {
      "cell_type": "code",
      "source": [
        "잡은물고기_딕셔너리_복사 = 잡은물고기_딕셔너리.copy()\n",
        "잡은물고기_딕셔너리_복사['백상아리'] = 10\n",
        "잡은물고기_딕셔너리_복사"
      ],
      "metadata": {
        "colab": {
          "base_uri": "https://localhost:8080/"
        },
        "id": "XOVnoGIjRsq3",
        "outputId": "d0d4c6a4-2483-4330-984a-e069d2965e8b"
      },
      "execution_count": 46,
      "outputs": [
        {
          "output_type": "execute_result",
          "data": {
            "text/plain": [
              "{'광어': 4, '오징어': 2, '백상아리': 10}"
            ]
          },
          "metadata": {},
          "execution_count": 46
        }
      ]
    },
    {
      "cell_type": "code",
      "source": [
        "잡은물고기_딕셔너리"
      ],
      "metadata": {
        "colab": {
          "base_uri": "https://localhost:8080/"
        },
        "id": "Ki2OL_s8R8YX",
        "outputId": "91ca62a8-86e7-4938-cf7b-e01f1bf25cd4"
      },
      "execution_count": 47,
      "outputs": [
        {
          "output_type": "execute_result",
          "data": {
            "text/plain": [
              "{'광어': 4, '오징어': 2, '백상아리': 5}"
            ]
          },
          "metadata": {},
          "execution_count": 47
        }
      ]
    },
    {
      "cell_type": "markdown",
      "source": [
        "## 4. set\n",
        "\n",
        "1. 순서가 없습니다.\n",
        "2. 값의 중복을 허락하지 않습니다.\n",
        "3. 차집합, 교집합, 합집합 등의 연산이 가능합니다."
      ],
      "metadata": {
        "id": "21SF_A7tSPQY"
      }
    },
    {
      "cell_type": "code",
      "source": [
        "잡은물고기"
      ],
      "metadata": {
        "colab": {
          "base_uri": "https://localhost:8080/"
        },
        "id": "M6nKgvX3R9Cv",
        "outputId": "b1d14d83-9a8d-4c0d-93a7-730d8bd4c833"
      },
      "execution_count": 49,
      "outputs": [
        {
          "output_type": "execute_result",
          "data": {
            "text/plain": [
              "[' 고등어',\n",
              " '고등어',\n",
              " '고등어',\n",
              " '고등어',\n",
              " '광어',\n",
              " '광어',\n",
              " '광어',\n",
              " '광어',\n",
              " '광어',\n",
              " '백상아리',\n",
              " '백상아리',\n",
              " '오징어',\n",
              " '오징어']"
            ]
          },
          "metadata": {},
          "execution_count": 49
        }
      ]
    },
    {
      "cell_type": "code",
      "source": [
        "test =set(잡은물고기)\n",
        "test"
      ],
      "metadata": {
        "colab": {
          "base_uri": "https://localhost:8080/"
        },
        "id": "mnOMidXXSdY8",
        "outputId": "d8b21f81-61ce-498b-f95d-687ad54408e3"
      },
      "execution_count": 59,
      "outputs": [
        {
          "output_type": "execute_result",
          "data": {
            "text/plain": [
              "{' 고등어', '고등어', '광어', '백상아리', '오징어'}"
            ]
          },
          "metadata": {},
          "execution_count": 59
        }
      ]
    },
    {
      "cell_type": "code",
      "source": [
        "잡은물고기_집합 = {' 고등어', '광어', '대왕오징어'}\n",
        "잡은물고기_집합"
      ],
      "metadata": {
        "colab": {
          "base_uri": "https://localhost:8080/"
        },
        "id": "klLviv3CSfFO",
        "outputId": "d37ea511-1049-447e-de00-7ddb4993274a"
      },
      "execution_count": 54,
      "outputs": [
        {
          "output_type": "execute_result",
          "data": {
            "text/plain": [
              "{' 고등어', '광어', '대왕오징어'}"
            ]
          },
          "metadata": {},
          "execution_count": 54
        }
      ]
    },
    {
      "cell_type": "code",
      "source": [
        "# print(type(잡은물고기_집합))\n",
        "# print(dir(잡은물고기_집합))\n",
        "test.difference(잡은물고기_집합)\n",
        "test.intersection(잡은물고기_집합)\n",
        "test.union(잡은물고기_집합)"
      ],
      "metadata": {
        "colab": {
          "base_uri": "https://localhost:8080/"
        },
        "id": "VafL_a9hVCzF",
        "outputId": "cf089cfd-8c1a-4696-cc04-48e3341c488b"
      },
      "execution_count": 63,
      "outputs": [
        {
          "output_type": "execute_result",
          "data": {
            "text/plain": [
              "{' 고등어', '고등어', '광어', '대왕오징어', '백상아리', '오징어'}"
            ]
          },
          "metadata": {},
          "execution_count": 63
        }
      ]
    },
    {
      "cell_type": "code",
      "source": [
        "set('aaabbbbbccc')\n"
      ],
      "metadata": {
        "colab": {
          "base_uri": "https://localhost:8080/"
        },
        "id": "mFfw3oiVVtT7",
        "outputId": "178ede7b-9661-4265-8248-000c11c2f7f1"
      },
      "execution_count": 66,
      "outputs": [
        {
          "output_type": "execute_result",
          "data": {
            "text/plain": [
              "{'a', 'b', 'c'}"
            ]
          },
          "metadata": {},
          "execution_count": 66
        }
      ]
    },
    {
      "cell_type": "markdown",
      "source": [
        "## 형변환\n",
        "* 기존 type에서 다른 type으로 변환"
      ],
      "metadata": {
        "id": "dGJa7AZFWH1A"
      }
    },
    {
      "cell_type": "code",
      "source": [
        "'10'+'10'"
      ],
      "metadata": {
        "colab": {
          "base_uri": "https://localhost:8080/",
          "height": 35
        },
        "id": "yfhKXAGGWGq_",
        "outputId": "a4323b17-cd85-414f-c4f3-4d5e5e11ae79"
      },
      "execution_count": 68,
      "outputs": [
        {
          "output_type": "execute_result",
          "data": {
            "text/plain": [
              "'1010'"
            ],
            "application/vnd.google.colaboratory.intrinsic+json": {
              "type": "string"
            }
          },
          "metadata": {},
          "execution_count": 68
        }
      ]
    },
    {
      "cell_type": "code",
      "source": [
        "int('10')+int('10')"
      ],
      "metadata": {
        "colab": {
          "base_uri": "https://localhost:8080/"
        },
        "id": "Q57hvjkHWQH0",
        "outputId": "6b731e80-c68e-4912-cc2a-16b07e2dd31f"
      },
      "execution_count": 69,
      "outputs": [
        {
          "output_type": "execute_result",
          "data": {
            "text/plain": [
              "20"
            ]
          },
          "metadata": {},
          "execution_count": 69
        }
      ]
    },
    {
      "cell_type": "code",
      "source": [
        "오늘잡은물고기수='371'\n",
        "\n",
        "오늘잡은물고기수 = int(오늘잡은물고기수) + 10\n",
        "오늘잡은물고기수"
      ],
      "metadata": {
        "colab": {
          "base_uri": "https://localhost:8080/"
        },
        "id": "81iauIfUWTOf",
        "outputId": "72fa6bd5-2fdf-4ecb-a1fb-3a705e28e490"
      },
      "execution_count": 72,
      "outputs": [
        {
          "output_type": "execute_result",
          "data": {
            "text/plain": [
              "381"
            ]
          },
          "metadata": {},
          "execution_count": 72
        }
      ]
    },
    {
      "cell_type": "code",
      "source": [
        "int('kimbyungwoo')"
      ],
      "metadata": {
        "colab": {
          "base_uri": "https://localhost:8080/",
          "height": 174
        },
        "id": "vtq9nkg0WdC2",
        "outputId": "bed6ceb7-2788-4281-a262-3092359d74ee"
      },
      "execution_count": 73,
      "outputs": [
        {
          "output_type": "error",
          "ename": "ValueError",
          "evalue": "ignored",
          "traceback": [
            "\u001b[0;31m---------------------------------------------------------------------------\u001b[0m",
            "\u001b[0;31mValueError\u001b[0m                                Traceback (most recent call last)",
            "\u001b[0;32m<ipython-input-73-e72dc8e6ed3f>\u001b[0m in \u001b[0;36m<cell line: 1>\u001b[0;34m()\u001b[0m\n\u001b[0;32m----> 1\u001b[0;31m \u001b[0mint\u001b[0m\u001b[0;34m(\u001b[0m\u001b[0;34m'kimbyungwoo'\u001b[0m\u001b[0;34m)\u001b[0m\u001b[0;34m\u001b[0m\u001b[0;34m\u001b[0m\u001b[0m\n\u001b[0m",
            "\u001b[0;31mValueError\u001b[0m: invalid literal for int() with base 10: 'kimbyungwoo'"
          ]
        }
      ]
    },
    {
      "cell_type": "code",
      "source": [
        "s = '98710%'\n",
        "\n",
        "print(s[:-1] *2)\n",
        "print(int(s[:-1]) *2)"
      ],
      "metadata": {
        "colab": {
          "base_uri": "https://localhost:8080/"
        },
        "id": "WsUGZfW-WfqO",
        "outputId": "264d3d3b-6296-4dcf-cc8a-312b7338f06d"
      },
      "execution_count": 79,
      "outputs": [
        {
          "output_type": "stream",
          "name": "stdout",
          "text": [
            "9871098710\n",
            "197420\n"
          ]
        }
      ]
    },
    {
      "cell_type": "code",
      "source": [
        "print(f'bool[1,2,3] : {bool([1,2,3])}')\n",
        "print(f'bool[1,2,3] : {bool([])}')\n",
        "\n",
        "\n"
      ],
      "metadata": {
        "colab": {
          "base_uri": "https://localhost:8080/"
        },
        "id": "646fTKp7XI9U",
        "outputId": "f17a3055-19c4-4cf4-a536-1c8e6c510f3c"
      },
      "execution_count": 84,
      "outputs": [
        {
          "output_type": "stream",
          "name": "stdout",
          "text": [
            "bool[1,2,3] : True\n",
            "bool[1,2,3] : False\n"
          ]
        },
        {
          "output_type": "execute_result",
          "data": {
            "text/plain": [
              "[97, 90, 80, None]"
            ]
          },
          "metadata": {},
          "execution_count": 84
        }
      ]
    },
    {
      "cell_type": "code",
      "source": [
        "tuple[1,2,3]"
      ],
      "metadata": {
        "colab": {
          "base_uri": "https://localhost:8080/"
        },
        "id": "B6wke3NUX9Uf",
        "outputId": "8fdfaf6a-026b-4ef1-fcc3-c16cbe753ca3"
      },
      "execution_count": 86,
      "outputs": [
        {
          "output_type": "execute_result",
          "data": {
            "text/plain": [
              "tuple[1, 2, 3]"
            ]
          },
          "metadata": {},
          "execution_count": 86
        }
      ]
    },
    {
      "cell_type": "code",
      "source": [
        "t= (1,2,3)\n",
        "\n",
        "list(t)"
      ],
      "metadata": {
        "colab": {
          "base_uri": "https://localhost:8080/"
        },
        "id": "-ftdWKYMYAZ5",
        "outputId": "eb506572-88d7-4062-8e68-fb5a5b358507"
      },
      "execution_count": 89,
      "outputs": [
        {
          "output_type": "execute_result",
          "data": {
            "text/plain": [
              "[1, 2, 3]"
            ]
          },
          "metadata": {},
          "execution_count": 89
        }
      ]
    },
    {
      "cell_type": "code",
      "source": [
        "dict([('key1','value1'),('key2','value2'),('key3','value3')])"
      ],
      "metadata": {
        "colab": {
          "base_uri": "https://localhost:8080/"
        },
        "id": "l8vIeUzHYMYF",
        "outputId": "8f879f84-0f97-4e73-fbc4-a814e51921c8"
      },
      "execution_count": 92,
      "outputs": [
        {
          "output_type": "execute_result",
          "data": {
            "text/plain": [
              "{'key1': 'value1', 'key2': 'value2', 'key3': 'value3'}"
            ]
          },
          "metadata": {},
          "execution_count": 92
        }
      ]
    },
    {
      "cell_type": "code",
      "source": [
        "x = int(input('좋아하는 숫자를 입력하세요 : '))\n",
        "\n",
        "x + x"
      ],
      "metadata": {
        "colab": {
          "base_uri": "https://localhost:8080/"
        },
        "id": "kX17vSJSZpJc",
        "outputId": "f53faaaf-1d49-40ab-dd0c-f7e723c65779"
      },
      "execution_count": 94,
      "outputs": [
        {
          "name": "stdout",
          "output_type": "stream",
          "text": [
            "좋아하는 숫자를 입력하세요 : 10\n"
          ]
        },
        {
          "output_type": "execute_result",
          "data": {
            "text/plain": [
              "20"
            ]
          },
          "metadata": {},
          "execution_count": 94
        }
      ]
    },
    {
      "cell_type": "code",
      "source": [
        "print('hello', end ='!!')\n",
        "print('hello', end ='!!')\n",
        "print('hello', end ='!!')\n",
        "print('hello', end ='!!')\n",
        "print('hello', end ='!!')"
      ],
      "metadata": {
        "colab": {
          "base_uri": "https://localhost:8080/"
        },
        "id": "NJHiI0kPZ4OO",
        "outputId": "907ba7a8-669b-4799-c450-c00bad24b4c6"
      },
      "execution_count": 95,
      "outputs": [
        {
          "output_type": "stream",
          "name": "stdout",
          "text": [
            "hello!!hello!!hello!!hello!!hello!!"
          ]
        }
      ]
    },
    {
      "cell_type": "markdown",
      "source": [
        "# 문제 : 캣의 고객 관리"
      ],
      "metadata": {
        "id": "akiDHlv0a9li"
      }
    },
    {
      "cell_type": "code",
      "source": [
        "회원명 = input('회원명 입력하세요 : ')\n",
        "회원 = ['A캣', 'B캣', 'C캣']\n",
        "\n",
        "def 회원등록():\n",
        "  회원.append(회원명)\n",
        "  print(회원)\n",
        "  print('회원으로 등록 되었습니다')\n",
        "\n",
        "if 회원명 in 회원:\n",
        "  print('이미 등록된 회원입니다.')\n",
        "\n",
        "else :\n",
        "  회원등록()"
      ],
      "metadata": {
        "colab": {
          "base_uri": "https://localhost:8080/"
        },
        "id": "t5DU_PQSbBnF",
        "outputId": "cfbca5c8-7c36-4c41-f883-c96e06f581bc"
      },
      "execution_count": 108,
      "outputs": [
        {
          "output_type": "stream",
          "name": "stdout",
          "text": [
            "회원명 입력하세요 : ㅇㄴㅁㅇㅁㄴ\n",
            "['A캣', 'B캣', 'C캣', 'ㅇㄴㅁㅇㅁㄴ']\n",
            "회원으로 등록 되었습니다\n"
          ]
        }
      ]
    },
    {
      "cell_type": "code",
      "source": [
        "구매가격 = input('가격을 입력하세요 :')\n",
        "회원명 = input('회원명을 입력하세요 :')\n",
        "\n",
        "회원 = ['씨-캣','자바캣','파이캣','썬캣','애옹']\n",
        "\n",
        "if 회원명 in 회원:\n",
        "  point = int(구매가격)/10\n",
        "\n",
        "  print('회원입니다.')\n",
        "  print(f'{구매가격} 노드 중 {point} 노드가 적립됩니다.')\n",
        "\n",
        "else:\n",
        "  print('회원이 아닙니다. 회원가입을 해주시기 바랍니다')"
      ],
      "metadata": {
        "colab": {
          "base_uri": "https://localhost:8080/"
        },
        "id": "YWSVn5vcd9wd",
        "outputId": "b1c7cfda-18e9-471d-c2e4-de8cff7e1432"
      },
      "execution_count": 114,
      "outputs": [
        {
          "output_type": "stream",
          "name": "stdout",
          "text": [
            "가격을 입력하세요 :15000\n",
            "회원명을 입력하세요 :ㄴㅁㅇㅁㄴㄴ\n",
            "회원이 아닙니다. 회원가입을 해주시기 바랍니다\n"
          ]
        }
      ]
    },
    {
      "cell_type": "code",
      "source": [
        "구매가격 = input('가격을 입력하세요 :')\n",
        "회원명 = input('회원명을 입력하세요 :')\n",
        "#회원 = {회원명: 적립금}\n",
        "회원 = {'씨-캣':5000,'자바캣':3500,'파이캣':15000,'썬캣':7000}\n",
        "\n",
        "if 회원[회원명] >= int(구매가격):\n",
        "  print(f'적립금을 사용할 수 있습니다. 현재 적립금액은 {회원[회원명]} 입니다.')\n",
        "  minus = int(input('사용할 적립금 노드를 입력하세요 :'))\n",
        "  print(f'{minus}노드를 사용 하였습니다. 남은 적릭금은 {회원[회원명]-minus }노드 입니다.')\n",
        "\n",
        "else:\n",
        "  print(f'현재 적립금이 {회원[회원명]}노드이므로 아직 적립금을 사용 할 수 없습니다. 결재금\\\n",
        "  액은 {구매가격}노드이고, 적립포인트는 {int(구매가격)/10}노드, 합산 포인트는\\\n",
        "  {int(구매가격)/10+회원[회원명]}입니다.')\n",
        "\n"
      ],
      "metadata": {
        "colab": {
          "base_uri": "https://localhost:8080/"
        },
        "id": "xWZ1bjeSgP5y",
        "outputId": "f9578d0a-2559-4452-fbbb-943b278d7485"
      },
      "execution_count": 14,
      "outputs": [
        {
          "output_type": "stream",
          "name": "stdout",
          "text": [
            "가격을 입력하세요 :10000\n",
            "회원명을 입력하세요 :썬캣\n",
            "현재 적립금이 7000노드이므로 아직 적립금을 사용 할 수 없습니다. 결재금  액은 10000노드이고, 적립포인트는 1000.0노드, 합산 포인트는  8000.0입니다.\n"
          ]
        }
      ]
    },
    {
      "cell_type": "code",
      "source": [
        "회원['씨-캣']"
      ],
      "metadata": {
        "colab": {
          "base_uri": "https://localhost:8080/"
        },
        "id": "XVmB_2pvgNw8",
        "outputId": "85402a8d-b7a9-4282-9998-5613d14e19d2"
      },
      "execution_count": 10,
      "outputs": [
        {
          "output_type": "execute_result",
          "data": {
            "text/plain": [
              "5000"
            ]
          },
          "metadata": {},
          "execution_count": 10
        }
      ]
    },
    {
      "cell_type": "code",
      "source": [
        "def 배수(n):\n",
        "  def 적립(value):\n",
        "    return (value*0.1) *n\n",
        "  return 적립\n",
        "\n",
        "Feb = 배수(2)\n",
        "Mar = 배수(3)\n",
        "\n",
        "print('2월 적립금 이벤트 :',Feb(5000) )\n",
        "print('3월 적립금 이벤트 :', Mar(15000))"
      ],
      "metadata": {
        "colab": {
          "base_uri": "https://localhost:8080/"
        },
        "id": "j4SVkNxxZ-Ll",
        "outputId": "ba5e8589-a33d-423f-cc68-cbfeac298df4"
      },
      "execution_count": 15,
      "outputs": [
        {
          "output_type": "stream",
          "name": "stdout",
          "text": [
            "2월 적립금 이벤트 : 1000.0\n",
            "3월 적립금 이벤트 : 4500.0\n"
          ]
        }
      ]
    },
    {
      "cell_type": "markdown",
      "source": [
        "## 5편 라이캣의 EXIT"
      ],
      "metadata": {
        "id": "KSJzk_bHhIfR"
      }
    },
    {
      "cell_type": "code",
      "source": [
        "for x in (1,2,3,4,5):\n",
        "  print(f'고등어 포장{x}번째 입니다.')"
      ],
      "metadata": {
        "colab": {
          "base_uri": "https://localhost:8080/"
        },
        "id": "ZrLt-e7NhL7n",
        "outputId": "f4bda53d-bb89-41e5-d97a-00164b7ee42f"
      },
      "execution_count": 16,
      "outputs": [
        {
          "output_type": "stream",
          "name": "stdout",
          "text": [
            "고등어 포장1번째 입니다.\n",
            "고등어 포장2번째 입니다.\n",
            "고등어 포장3번째 입니다.\n",
            "고등어 포장4번째 입니다.\n",
            "고등어 포장5번째 입니다.\n"
          ]
        }
      ]
    },
    {
      "cell_type": "code",
      "source": [
        "for x in [1,2,3,4,5]:\n",
        "  print(f'고등어 포장{x}번째 입니다.')"
      ],
      "metadata": {
        "colab": {
          "base_uri": "https://localhost:8080/"
        },
        "id": "R1KWd-plhSd1",
        "outputId": "1dfda07c-12c9-494b-f3fa-a5c50024e272"
      },
      "execution_count": 17,
      "outputs": [
        {
          "output_type": "stream",
          "name": "stdout",
          "text": [
            "고등어 포장1번째 입니다.\n",
            "고등어 포장2번째 입니다.\n",
            "고등어 포장3번째 입니다.\n",
            "고등어 포장4번째 입니다.\n",
            "고등어 포장5번째 입니다.\n"
          ]
        }
      ]
    },
    {
      "cell_type": "code",
      "source": [
        "for x in '12345':\n",
        "  print(f'고등어 포장{x}번째 입니다.')"
      ],
      "metadata": {
        "colab": {
          "base_uri": "https://localhost:8080/"
        },
        "id": "hHf_81LGhyxa",
        "outputId": "127c55d3-b5a0-4b74-8b04-f19bfd3f4ec3"
      },
      "execution_count": 20,
      "outputs": [
        {
          "output_type": "stream",
          "name": "stdout",
          "text": [
            "고등어 포장1번째 입니다.\n",
            "고등어 포장2번째 입니다.\n",
            "고등어 포장3번째 입니다.\n",
            "고등어 포장4번째 입니다.\n",
            "고등어 포장5번째 입니다.\n"
          ]
        }
      ]
    },
    {
      "cell_type": "code",
      "source": [
        "#for 문의 구조\n",
        "\n",
        "for (변수명) in (순회 가능한 객체):\n",
        "  수행할 문장1\n",
        "  수행할 문장2"
      ],
      "metadata": {
        "colab": {
          "base_uri": "https://localhost:8080/",
          "height": 137
        },
        "id": "ORNzcFgGh6yy",
        "outputId": "20557f48-fc32-4860-cb40-58d0ff8776ba"
      },
      "execution_count": 21,
      "outputs": [
        {
          "output_type": "error",
          "ename": "SyntaxError",
          "evalue": "ignored",
          "traceback": [
            "\u001b[0;36m  File \u001b[0;32m\"<ipython-input-21-8250bda49713>\"\u001b[0;36m, line \u001b[0;32m3\u001b[0m\n\u001b[0;31m    for (변수명) in (순회 가능한 객체):\u001b[0m\n\u001b[0m                  ^\u001b[0m\n\u001b[0;31mSyntaxError\u001b[0m\u001b[0;31m:\u001b[0m invalid syntax. Perhaps you forgot a comma?\n"
          ]
        }
      ]
    },
    {
      "cell_type": "code",
      "source": [
        "왕국 = '위니브 월드'\n",
        "for a in 왕국:\n",
        "  print(a)\n",
        "  print('--------------------')"
      ],
      "metadata": {
        "colab": {
          "base_uri": "https://localhost:8080/"
        },
        "id": "Ctz5DICEiUSa",
        "outputId": "5d1d0f52-97a9-4323-9adc-eff8a98cb5a3"
      },
      "execution_count": 22,
      "outputs": [
        {
          "output_type": "stream",
          "name": "stdout",
          "text": [
            "위\n",
            "--------------------\n",
            "니\n",
            "--------------------\n",
            "브\n",
            "--------------------\n",
            " \n",
            "--------------------\n",
            "월\n",
            "--------------------\n",
            "드\n",
            "--------------------\n"
          ]
        }
      ]
    },
    {
      "cell_type": "code",
      "source": [
        "왕국 = '위니브 월드'\n",
        "for a in 왕국:\n",
        "  print(a)\n",
        "print('--------------------')"
      ],
      "metadata": {
        "colab": {
          "base_uri": "https://localhost:8080/"
        },
        "id": "gsF5aAYaic0i",
        "outputId": "98824626-8e79-4897-d87a-fa72faffc8fb"
      },
      "execution_count": 23,
      "outputs": [
        {
          "output_type": "stream",
          "name": "stdout",
          "text": [
            "위\n",
            "니\n",
            "브\n",
            " \n",
            "월\n",
            "드\n",
            "--------------------\n"
          ]
        }
      ]
    },
    {
      "cell_type": "code",
      "source": [
        "기술 = ['고기잡기','고기팔기', '낚시_Lv1', '통발_Lv1','큰그물_Lv1']\n",
        "\n",
        "for a in 기술:\n",
        "  print(a)\n",
        "  print(a[:a.find('_')])"
      ],
      "metadata": {
        "colab": {
          "base_uri": "https://localhost:8080/"
        },
        "id": "OAcjiwJ4ifHC",
        "outputId": "343e6e87-17e2-4fee-baf7-bd46b3b75229"
      },
      "execution_count": 33,
      "outputs": [
        {
          "output_type": "stream",
          "name": "stdout",
          "text": [
            "고기잡기\n",
            "고기잡\n",
            "고기팔기\n",
            "고기팔\n",
            "낚시_Lv1\n",
            "낚시\n",
            "통발_Lv1\n",
            "통발\n",
            "큰그물_Lv1\n",
            "큰그물\n"
          ]
        }
      ]
    },
    {
      "cell_type": "code",
      "source": [
        "캣의_상태창 = {\n",
        "    '이름': '캣',\n",
        "    '설명' : '위니브 월드에서 가장 급성장하는 생선회사 대표 캣',\n",
        "    '나이' : '19',\n",
        "    '키'   : '45.9cm',\n",
        "    '몸무게' : 1.6\n",
        "}\n",
        "\n",
        "for a in 캣의_상태창:\n",
        "  print(a, 캣의_상태창[a])"
      ],
      "metadata": {
        "colab": {
          "base_uri": "https://localhost:8080/"
        },
        "id": "GKAjlIaxlKjO",
        "outputId": "eca22abb-a356-40d8-fa19-fc1c41cb6b81"
      },
      "execution_count": 38,
      "outputs": [
        {
          "output_type": "stream",
          "name": "stdout",
          "text": [
            "이름 캣\n",
            "설명 위니브 월드에서 가장 급성장하는 생선회사 대표 캣\n",
            "나이 19\n",
            "키 45.9cm\n",
            "몸무게 1.6\n"
          ]
        }
      ]
    },
    {
      "cell_type": "code",
      "source": [
        "print(캣의_상태창.items())"
      ],
      "metadata": {
        "colab": {
          "base_uri": "https://localhost:8080/"
        },
        "id": "S-2uZxGcmZpw",
        "outputId": "08eeb8eb-5ee8-468f-de85-c0bfb6813579"
      },
      "execution_count": 40,
      "outputs": [
        {
          "output_type": "stream",
          "name": "stdout",
          "text": [
            "dict_items([('이름', '캣'), ('설명', '위니브 월드에서 가장 급성장하는 생선회사 대표 캣'), ('나이', '19'), ('키', '45.9cm'), ('몸무게', 1.6)])\n"
          ]
        }
      ]
    },
    {
      "cell_type": "code",
      "source": [
        "for a,b in 캣의_상태창.items():\n",
        "  print(f'{a}:{b} ')"
      ],
      "metadata": {
        "colab": {
          "base_uri": "https://localhost:8080/"
        },
        "id": "m0mF3lPbmScP",
        "outputId": "9ca1b534-26ea-4143-ce20-1d266c3a9c49"
      },
      "execution_count": 41,
      "outputs": [
        {
          "output_type": "stream",
          "name": "stdout",
          "text": [
            "이름:캣 \n",
            "설명:위니브 월드에서 가장 급성장하는 생선회사 대표 캣 \n",
            "나이:19 \n",
            "키:45.9cm \n",
            "몸무게:1.6 \n"
          ]
        }
      ]
    },
    {
      "cell_type": "code",
      "source": [
        "for a in 캣의_상태창.items():\n",
        "  print(f'{a[0]} : {a[1]} ')"
      ],
      "metadata": {
        "colab": {
          "base_uri": "https://localhost:8080/"
        },
        "id": "Yb71R-X1mugx",
        "outputId": "7753f550-bbda-48be-d3bc-0d84460b0ba9"
      },
      "execution_count": 46,
      "outputs": [
        {
          "output_type": "stream",
          "name": "stdout",
          "text": [
            "이름 : 캣 \n",
            "설명 : 위니브 월드에서 가장 급성장하는 생선회사 대표 캣 \n",
            "나이 : 19 \n",
            "키 : 45.9cm \n",
            "몸무게 : 1.6 \n"
          ]
        }
      ]
    },
    {
      "cell_type": "code",
      "source": [
        "# range(start,stop,step)\n",
        "print(type(range(2,10,2)))\n",
        "print(list(range(10)))\n",
        "print(list(range(5,0,-1)))\n",
        "print(list(range(2,10)))\n",
        "\n"
      ],
      "metadata": {
        "colab": {
          "base_uri": "https://localhost:8080/"
        },
        "id": "r_-bHu1UmzMr",
        "outputId": "b500dd5d-6d3d-4ca9-ea42-2825b70687b2"
      },
      "execution_count": 50,
      "outputs": [
        {
          "output_type": "stream",
          "name": "stdout",
          "text": [
            "<class 'range'>\n",
            "[0, 1, 2, 3, 4, 5, 6, 7, 8, 9]\n",
            "[5, 4, 3, 2, 1]\n",
            "[2, 3, 4, 5, 6, 7, 8, 9]\n"
          ]
        }
      ]
    },
    {
      "cell_type": "code",
      "source": [
        "#for ,else\n",
        "\n",
        "\n",
        "for i in range(5):\n",
        "  print(f'{i}마리의 물고기를 잡을 수 있습니다.')\n",
        "  if i == 10:\n",
        "    print('만선입니다')\n",
        "    break\n",
        "else:\n",
        "  print('아직 여유가 좀 있지만, 물고기가 더 없는 것 같으니 이정도로 만족하고 돌아갑시다.')\n",
        "print('수고하셨습니다.')"
      ],
      "metadata": {
        "colab": {
          "base_uri": "https://localhost:8080/"
        },
        "id": "9duTPQYmmxBS",
        "outputId": "ba824a3c-0874-4556-b424-d95e733c53c1"
      },
      "execution_count": 54,
      "outputs": [
        {
          "output_type": "stream",
          "name": "stdout",
          "text": [
            "0마리의 물고기를 잡을 수 있습니다.\n",
            "1마리의 물고기를 잡을 수 있습니다.\n",
            "2마리의 물고기를 잡을 수 있습니다.\n",
            "3마리의 물고기를 잡을 수 있습니다.\n",
            "4마리의 물고기를 잡을 수 있습니다.\n",
            "아직 여유가 좀 있지만, 물고기가 더 없는 것 같으니 이정도로 만족하고 돌아갑시다.\n",
            "수고하셨습니다.\n"
          ]
        }
      ]
    },
    {
      "cell_type": "code",
      "source": [
        "##list comprehension\n",
        "\n",
        "l =[]\n",
        "\n",
        "for i in range(1,101):\n",
        "  l.append(i)\n",
        "\n",
        "l\n",
        "\n",
        "ll = [i for i in range(1,101)]\n",
        "ll"
      ],
      "metadata": {
        "id": "1d0AAbDOv7uv"
      },
      "execution_count": null,
      "outputs": []
    },
    {
      "cell_type": "code",
      "source": [
        "for i in range(2,10):\n",
        "  for j in range(1,10):\n",
        "    print(f'{i} X {j} = {i*j}')"
      ],
      "metadata": {
        "id": "V6Io3chPwfUn"
      },
      "execution_count": null,
      "outputs": []
    },
    {
      "cell_type": "code",
      "source": [
        "l = [f'{i} X {j} = {i*j}'for i in range(2,10) for j in range(1,10)]\n",
        "l"
      ],
      "metadata": {
        "id": "agtfZwCzwzOI"
      },
      "execution_count": null,
      "outputs": []
    },
    {
      "cell_type": "code",
      "source": [
        " skil = [\n",
        "        ('고기잡이' , 100,'SS'),\n",
        "        ('고기팔기' , 120,'SSS'),\n",
        "        ('낚시' , 5,'c'),\n",
        "        ('통발' , 5,'c'),\n",
        "        ('큰그물' , 5,'c') ]\n",
        "\n",
        "for skilName,skilLevel,skilGrade  in skil:\n",
        "  print(skilName,skilLevel,skilGrade)\n"
      ],
      "metadata": {
        "colab": {
          "base_uri": "https://localhost:8080/"
        },
        "id": "dpNAlox1xLdP",
        "outputId": "65acac27-a8e4-47d1-a488-e8805f8b539a"
      },
      "execution_count": 69,
      "outputs": [
        {
          "output_type": "stream",
          "name": "stdout",
          "text": [
            "고기잡이 100 SS\n",
            "고기팔기 120 SSS\n",
            "낚시 5 c\n",
            "통발 5 c\n",
            "큰그물 5 c\n"
          ]
        }
      ]
    },
    {
      "cell_type": "code",
      "source": [
        "# enumerate\n",
        "\n",
        "skil = [\n",
        "        ('고기잡이' , 100,'SS'),\n",
        "        ('고기팔기' , 120,'SSS'),\n",
        "        ('낚시' , 5,'c'),\n",
        "        ('통발' , 5,'c'),\n",
        "        ('큰그물' , 5,'c') ]\n",
        "\n",
        "for i,(skilName,skilLevel,skilGrade)  in enumerate(skil):\n",
        "  print(i,skilName,skilLevel,skilGrade)\n"
      ],
      "metadata": {
        "colab": {
          "base_uri": "https://localhost:8080/"
        },
        "id": "BfJT222pyM2f",
        "outputId": "2a51a4de-e54d-494d-9bc0-e9de1dab247d"
      },
      "execution_count": 72,
      "outputs": [
        {
          "output_type": "stream",
          "name": "stdout",
          "text": [
            "0 고기잡이 100 SS\n",
            "1 고기팔기 120 SSS\n",
            "2 낚시 5 c\n",
            "3 통발 5 c\n",
            "4 큰그물 5 c\n"
          ]
        }
      ]
    },
    {
      "cell_type": "code",
      "source": [],
      "metadata": {
        "id": "yizPBriIxKF-"
      },
      "execution_count": null,
      "outputs": []
    }
  ]
}