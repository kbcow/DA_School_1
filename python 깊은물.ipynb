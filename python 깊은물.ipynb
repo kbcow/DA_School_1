{
 "cells": [
  {
   "cell_type": "markdown",
   "id": "8ad1cfe4",
   "metadata": {},
   "source": [
    "## f'스트링 이중 중괄호"
   ]
  },
  {
   "cell_type": "code",
   "execution_count": 10,
   "id": "c6316338",
   "metadata": {},
   "outputs": [
    {
     "name": "stdout",
     "output_type": "stream",
     "text": [
      "        10\n",
      "10        \n"
     ]
    }
   ],
   "source": [
    "숫자 = 10\n",
    "자릿수 = 10\n",
    "print(f'{숫자:>{자릿수}}')\n",
    "print(f'{숫자:<{자릿수}}')"
   ]
  },
  {
   "cell_type": "code",
   "execution_count": 13,
   "id": "060a9c45",
   "metadata": {},
   "outputs": [
    {
     "name": "stdout",
     "output_type": "stream",
     "text": [
      "0000000010\n"
     ]
    }
   ],
   "source": [
    "print(f'{숫자:0{자릿수}}')"
   ]
  },
  {
   "cell_type": "code",
   "execution_count": 21,
   "id": "a1504a8a",
   "metadata": {},
   "outputs": [
    {
     "name": "stdout",
     "output_type": "stream",
     "text": [
      "3.142\n"
     ]
    }
   ],
   "source": [
    "원주율 = 3.141592\n",
    "소수점 = 3\n",
    "print(f'{원주율:.{소수점}f}')"
   ]
  },
  {
   "cell_type": "markdown",
   "id": "b61fb005",
   "metadata": {},
   "source": [
    "## 왈러스 연산자"
   ]
  },
  {
   "cell_type": "code",
   "execution_count": 43,
   "id": "15015b67",
   "metadata": {},
   "outputs": [
    {
     "data": {
      "text/plain": [
       "11"
      ]
     },
     "execution_count": 43,
     "metadata": {},
     "output_type": "execute_result"
    }
   ],
   "source": [
    "value = 10\n",
    "(value := value+1) #왈러스\n",
    "\n",
    "# value +=1\n",
    "# value"
   ]
  },
  {
   "cell_type": "code",
   "execution_count": 23,
   "id": "7b67b198",
   "metadata": {},
   "outputs": [
    {
     "data": {
      "text/plain": [
       "12"
      ]
     },
     "execution_count": 23,
     "metadata": {},
     "output_type": "execute_result"
    }
   ],
   "source": [
    "(value := value+1)"
   ]
  },
  {
   "cell_type": "code",
   "execution_count": 24,
   "id": "144ff35e",
   "metadata": {},
   "outputs": [
    {
     "name": "stdout",
     "output_type": "stream",
     "text": [
      "1\n",
      "2\n",
      "3\n",
      "4\n",
      "5\n",
      "6\n",
      "7\n",
      "8\n",
      "9\n"
     ]
    }
   ],
   "source": [
    "count = 0 \n",
    "while (count :=count +1)<10:\n",
    "    print(count)\n",
    "    \n"
   ]
  },
  {
   "cell_type": "code",
   "execution_count": 25,
   "id": "b47f6b5e",
   "metadata": {},
   "outputs": [
    {
     "data": {
      "text/plain": [
       "5050"
      ]
     },
     "execution_count": 25,
     "metadata": {},
     "output_type": "execute_result"
    }
   ],
   "source": [
    "count = 0 \n",
    "result = 0\n",
    "while (count:=count+1)<101:\n",
    "    result += count\n",
    "result\n"
   ]
  },
  {
   "cell_type": "code",
   "execution_count": 27,
   "id": "3f97c707",
   "metadata": {},
   "outputs": [
    {
     "name": "stdout",
     "output_type": "stream",
     "text": [
      "5050\n"
     ]
    }
   ],
   "source": [
    "def 시그마(n):\n",
    "    count = 0 \n",
    "    result =0\n",
    "    while (count:=count +1)<n+1:\n",
    "        result +=count\n",
    "    return result\n",
    "합 = 시그마(100)\n",
    "if 합:\n",
    "    print(합)\n",
    "else:\n",
    "    print('1부터 정수형태로 입력이 가능합니다.')"
   ]
  },
  {
   "cell_type": "code",
   "execution_count": 28,
   "id": "12c67f0c",
   "metadata": {},
   "outputs": [
    {
     "name": "stdout",
     "output_type": "stream",
     "text": [
      "5050\n"
     ]
    }
   ],
   "source": [
    "def 시그마(n):\n",
    "    count = 0 \n",
    "    result =0\n",
    "    while (count:=count +1)<n+1:\n",
    "        result +=count\n",
    "    return result\n",
    "\n",
    "if 합 := 시그마(100):\n",
    "    print(합)\n",
    "else:\n",
    "    print('1부터 정수형태로 입력이 가능합니다.')"
   ]
  },
  {
   "cell_type": "code",
   "execution_count": 35,
   "id": "b268dd17",
   "metadata": {},
   "outputs": [
    {
     "name": "stdout",
     "output_type": "stream",
     "text": [
      "5050이 출력되었습니다.\n",
      "6050\n"
     ]
    }
   ],
   "source": [
    "def 시그마(n):\n",
    "    count = 0 \n",
    "    result =0\n",
    "    while (count:=count +1)<n+1:\n",
    "        result +=count\n",
    "    return result\n",
    "\n",
    "if (합 := 시그마(100)) ==5050:\n",
    "    print('5050이 출력되었습니다.')\n",
    "else:\n",
    "    print('1부터 정수형태로 입력이 가능합니다.')\n",
    "    \n",
    "print(합 +1000)"
   ]
  },
  {
   "cell_type": "markdown",
   "id": "0ea32b2b",
   "metadata": {},
   "source": [
    "## 딕셔너리 keyError 처리"
   ]
  },
  {
   "cell_type": "code",
   "execution_count": 49,
   "id": "4df3a4da",
   "metadata": {},
   "outputs": [],
   "source": [
    "def 요일구하기(요일):\n",
    "    return{\n",
    "        0:'일요일',\n",
    "        1:'월요일',\n",
    "        2:'화요일',\n",
    "        3:'수요일',\n",
    "        4:'목요일',\n",
    "        5:'금요일',\n",
    "        6:'토요일'\n",
    "    }.get(요일,'요일없음')\n",
    "\n",
    "\n"
   ]
  },
  {
   "cell_type": "code",
   "execution_count": 51,
   "id": "624347cf",
   "metadata": {},
   "outputs": [
    {
     "data": {
      "text/plain": [
       "'요일없음'"
      ]
     },
     "execution_count": 51,
     "metadata": {},
     "output_type": "execute_result"
    }
   ],
   "source": [
    "요일구하기(10)"
   ]
  },
  {
   "cell_type": "code",
   "execution_count": 46,
   "id": "6c2ab3a5",
   "metadata": {},
   "outputs": [
    {
     "data": {
      "text/plain": [
       "'수요일'"
      ]
     },
     "execution_count": 46,
     "metadata": {},
     "output_type": "execute_result"
    }
   ],
   "source": [
    "요일구하기(3)"
   ]
  },
  {
   "cell_type": "code",
   "execution_count": 48,
   "id": "35051780",
   "metadata": {},
   "outputs": [
    {
     "ename": "KeyError",
     "evalue": "10",
     "output_type": "error",
     "traceback": [
      "\u001b[1;31m---------------------------------------------------------------------------\u001b[0m",
      "\u001b[1;31mKeyError\u001b[0m                                  Traceback (most recent call last)",
      "Cell \u001b[1;32mIn[48], line 1\u001b[0m\n\u001b[1;32m----> 1\u001b[0m \u001b[43m{\u001b[49m\n\u001b[0;32m      2\u001b[0m \u001b[43m        \u001b[49m\u001b[38;5;241;43m0\u001b[39;49m\u001b[43m:\u001b[49m\u001b[38;5;124;43m'\u001b[39;49m\u001b[38;5;124;43m일요일\u001b[39;49m\u001b[38;5;124;43m'\u001b[39;49m\u001b[43m,\u001b[49m\n\u001b[0;32m      3\u001b[0m \u001b[43m        \u001b[49m\u001b[38;5;241;43m1\u001b[39;49m\u001b[43m:\u001b[49m\u001b[38;5;124;43m'\u001b[39;49m\u001b[38;5;124;43m월요일\u001b[39;49m\u001b[38;5;124;43m'\u001b[39;49m\u001b[43m,\u001b[49m\n\u001b[0;32m      4\u001b[0m \u001b[43m        \u001b[49m\u001b[38;5;241;43m2\u001b[39;49m\u001b[43m:\u001b[49m\u001b[38;5;124;43m'\u001b[39;49m\u001b[38;5;124;43m화요일\u001b[39;49m\u001b[38;5;124;43m'\u001b[39;49m\u001b[43m,\u001b[49m\n\u001b[0;32m      5\u001b[0m \u001b[43m        \u001b[49m\u001b[38;5;241;43m3\u001b[39;49m\u001b[43m:\u001b[49m\u001b[38;5;124;43m'\u001b[39;49m\u001b[38;5;124;43m수요일\u001b[39;49m\u001b[38;5;124;43m'\u001b[39;49m\u001b[43m,\u001b[49m\n\u001b[0;32m      6\u001b[0m \u001b[43m        \u001b[49m\u001b[38;5;241;43m4\u001b[39;49m\u001b[43m:\u001b[49m\u001b[38;5;124;43m'\u001b[39;49m\u001b[38;5;124;43m목요일\u001b[39;49m\u001b[38;5;124;43m'\u001b[39;49m\u001b[43m,\u001b[49m\n\u001b[0;32m      7\u001b[0m \u001b[43m        \u001b[49m\u001b[38;5;241;43m5\u001b[39;49m\u001b[43m:\u001b[49m\u001b[38;5;124;43m'\u001b[39;49m\u001b[38;5;124;43m금요일\u001b[39;49m\u001b[38;5;124;43m'\u001b[39;49m\u001b[43m,\u001b[49m\n\u001b[0;32m      8\u001b[0m \u001b[43m        \u001b[49m\u001b[38;5;241;43m6\u001b[39;49m\u001b[43m:\u001b[49m\u001b[38;5;124;43m'\u001b[39;49m\u001b[38;5;124;43m토요일\u001b[39;49m\u001b[38;5;124;43m'\u001b[39;49m\n\u001b[0;32m      9\u001b[0m \u001b[43m    \u001b[49m\u001b[43m}\u001b[49m\u001b[43m[\u001b[49m\u001b[38;5;241;43m10\u001b[39;49m\u001b[43m]\u001b[49m\n",
      "\u001b[1;31mKeyError\u001b[0m: 10"
     ]
    }
   ],
   "source": [
    "{\n",
    "        0:'일요일',\n",
    "        1:'월요일',\n",
    "        2:'화요일',\n",
    "        3:'수요일',\n",
    "        4:'목요일',\n",
    "        5:'금요일',\n",
    "        6:'토요일'\n",
    "    }[10]"
   ]
  },
  {
   "cell_type": "markdown",
   "id": "7ecabb97",
   "metadata": {},
   "source": [
    "## 리스트 append와 리스트컴프리헨션 성능 비교"
   ]
  },
  {
   "cell_type": "code",
   "execution_count": 53,
   "id": "f2971bef",
   "metadata": {},
   "outputs": [
    {
     "name": "stdout",
     "output_type": "stream",
     "text": [
      "  4           0 LOAD_CONST               1 (<code object <listcomp> at 0x000001E3E8C0AB80, file \"C:\\Users\\user\\AppData\\Local\\Temp\\ipykernel_24532\\3637155810.py\", line 4>)\n",
      "              2 LOAD_CONST               2 ('테스트.<locals>.<listcomp>')\n",
      "              4 MAKE_FUNCTION            0\n",
      "              6 LOAD_GLOBAL              0 (range)\n",
      "              8 LOAD_CONST               3 (10)\n",
      "             10 CALL_FUNCTION            1\n",
      "             12 GET_ITER\n",
      "             14 CALL_FUNCTION            1\n",
      "             16 STORE_FAST               0 (x)\n",
      "\n",
      "  5          18 LOAD_FAST                0 (x)\n",
      "             20 RETURN_VALUE\n",
      "\n",
      "Disassembly of <code object <listcomp> at 0x000001E3E8C0AB80, file \"C:\\Users\\user\\AppData\\Local\\Temp\\ipykernel_24532\\3637155810.py\", line 4>:\n",
      "  4           0 BUILD_LIST               0\n",
      "              2 LOAD_FAST                0 (.0)\n",
      "        >>    4 FOR_ITER                 4 (to 14)\n",
      "              6 STORE_FAST               1 (i)\n",
      "              8 LOAD_FAST                1 (i)\n",
      "             10 LIST_APPEND              2\n",
      "             12 JUMP_ABSOLUTE            2 (to 4)\n",
      "        >>   14 RETURN_VALUE\n"
     ]
    }
   ],
   "source": [
    "import dis \n",
    "\n",
    "def 테스트():\n",
    "    x = [i for i in range(10)]\n",
    "    return x\n",
    "dis.dis(테스트)"
   ]
  },
  {
   "cell_type": "code",
   "execution_count": 55,
   "id": "4e0f8b94",
   "metadata": {},
   "outputs": [
    {
     "name": "stdout",
     "output_type": "stream",
     "text": [
      "  4           0 BUILD_LIST               0\n",
      "              2 STORE_FAST               0 (x)\n",
      "\n",
      "  5           4 LOAD_GLOBAL              0 (range)\n",
      "              6 LOAD_CONST               1 (10)\n",
      "              8 CALL_FUNCTION            1\n",
      "             10 GET_ITER\n",
      "        >>   12 FOR_ITER                 7 (to 28)\n",
      "             14 STORE_FAST               1 (i)\n",
      "\n",
      "  6          16 LOAD_FAST                0 (x)\n",
      "             18 LOAD_METHOD              1 (append)\n",
      "             20 LOAD_FAST                1 (i)\n",
      "             22 CALL_METHOD              1\n",
      "             24 POP_TOP\n",
      "             26 JUMP_ABSOLUTE            6 (to 12)\n",
      "\n",
      "  7     >>   28 LOAD_FAST                0 (x)\n",
      "             30 RETURN_VALUE\n"
     ]
    }
   ],
   "source": [
    "import dis \n",
    "\n",
    "def 테스트():\n",
    "    x = []\n",
    "    for i in range(10):\n",
    "        x.append(i)\n",
    "    return x\n",
    "dis.dis(테스트)"
   ]
  },
  {
   "cell_type": "markdown",
   "id": "8f47eeec",
   "metadata": {},
   "source": [
    "## sorted의 key 응용"
   ]
  },
  {
   "cell_type": "code",
   "execution_count": 76,
   "id": "bf1946dd",
   "metadata": {},
   "outputs": [
    {
     "data": {
      "text/plain": [
       "[1, 21, 124124, 124214, 213124124]"
      ]
     },
     "execution_count": 76,
     "metadata": {},
     "output_type": "execute_result"
    }
   ],
   "source": [
    "a =[1,213124124,124214,124124,21]\n",
    "b = sorted(a)\n",
    "b"
   ]
  },
  {
   "cell_type": "code",
   "execution_count": 57,
   "id": "78961eb7",
   "metadata": {},
   "outputs": [
    {
     "data": {
      "text/plain": [
       "[1, 2, 3, 4, 5]"
      ]
     },
     "execution_count": 57,
     "metadata": {},
     "output_type": "execute_result"
    }
   ],
   "source": [
    "sorted({1:'D',2:'B',3:'B',4:'E',5:'A'})"
   ]
  },
  {
   "cell_type": "code",
   "execution_count": 66,
   "id": "9ddcd758",
   "metadata": {},
   "outputs": [
    {
     "data": {
      "text/plain": [
       "['Andrew', 'This', 'a', 'from', 'is', 'string', 'test']"
      ]
     },
     "execution_count": 66,
     "metadata": {},
     "output_type": "execute_result"
    }
   ],
   "source": [
    "sorted('This is a test string from Andrew'.split(),key =str.lower)  #대소문자 구분없이 정렬\n",
    "sorted('This is a test string from Andrew'.split()) #대문자 정렬 후 소문자 정렬\n"
   ]
  },
  {
   "cell_type": "code",
   "execution_count": 84,
   "id": "9b243ab8",
   "metadata": {},
   "outputs": [],
   "source": [
    "student_tuples = [\n",
    "    ('john','A',15),\n",
    "    ('jane','B',12),\n",
    "    ('dave','B',10)\n",
    "]"
   ]
  },
  {
   "cell_type": "code",
   "execution_count": 89,
   "id": "ec30f14d",
   "metadata": {},
   "outputs": [
    {
     "data": {
      "text/plain": [
       "[('dave', 'B', 10), ('jane', 'B', 12), ('john', 'A', 15)]"
      ]
     },
     "execution_count": 89,
     "metadata": {},
     "output_type": "execute_result"
    }
   ],
   "source": [
    "sorted(student_tuples,key=lambda student:student[2])"
   ]
  },
  {
   "cell_type": "markdown",
   "id": "def227c0",
   "metadata": {},
   "source": [
    "### lambda"
   ]
  },
  {
   "cell_type": "code",
   "execution_count": 79,
   "id": "6f315124",
   "metadata": {},
   "outputs": [
    {
     "data": {
      "text/plain": [
       "<function __main__.<lambda>(매개변수)>"
      ]
     },
     "execution_count": 79,
     "metadata": {},
     "output_type": "execute_result"
    }
   ],
   "source": [
    "lambda 매개변수 :표현식\n"
   ]
  },
  {
   "cell_type": "code",
   "execution_count": 81,
   "id": "4f111a01",
   "metadata": {},
   "outputs": [
    {
     "data": {
      "text/plain": [
       "30"
      ]
     },
     "execution_count": 81,
     "metadata": {},
     "output_type": "execute_result"
    }
   ],
   "source": [
    "def hap(x,y):\n",
    "    return x+y\n",
    "hap(10,20)"
   ]
  },
  {
   "cell_type": "code",
   "execution_count": 90,
   "id": "c3188dbc",
   "metadata": {},
   "outputs": [
    {
     "data": {
      "text/plain": [
       "30"
      ]
     },
     "execution_count": 90,
     "metadata": {},
     "output_type": "execute_result"
    }
   ],
   "source": [
    "(lambda x,y:x+y)(10,20)"
   ]
  },
  {
   "cell_type": "code",
   "execution_count": 93,
   "id": "83f48dce",
   "metadata": {},
   "outputs": [],
   "source": [
    "class Student:\n",
    "    def __init__(self, name ,grade, age):\n",
    "        self.name = name\n",
    "        self.grade = grade\n",
    "        self.age = age\n",
    "    def __repr__(self):\n",
    "        return repr((self.name, self.grade, self.age))\n",
    "    "
   ]
  },
  {
   "cell_type": "code",
   "execution_count": 94,
   "id": "d7096ae2",
   "metadata": {},
   "outputs": [],
   "source": [
    "student_objects = [\n",
    "    Student('john', 'A',15),\n",
    "    Student('jane', 'B',15),\n",
    "    Student('dave', 'B',15)\n",
    "]"
   ]
  },
  {
   "cell_type": "code",
   "execution_count": 95,
   "id": "a9da223b",
   "metadata": {},
   "outputs": [
    {
     "data": {
      "text/plain": [
       "[('john', 'A', 15), ('jane', 'B', 15), ('dave', 'B', 15)]"
      ]
     },
     "execution_count": 95,
     "metadata": {},
     "output_type": "execute_result"
    }
   ],
   "source": [
    "sorted(student_objects,key=lambda student:student.age)"
   ]
  },
  {
   "cell_type": "code",
   "execution_count": 96,
   "id": "9934fe9e",
   "metadata": {},
   "outputs": [
    {
     "data": {
      "text/plain": [
       "[('dave', 'B', 10), ('jane', 'B', 12), ('john', 'A', 15)]"
      ]
     },
     "execution_count": 96,
     "metadata": {},
     "output_type": "execute_result"
    }
   ],
   "source": [
    "from operator import itemgetter,attrgetter\n",
    "\n",
    "sorted(student_tuples, key =itemgetter(2))"
   ]
  },
  {
   "cell_type": "code",
   "execution_count": 97,
   "id": "1e9c8f0a",
   "metadata": {},
   "outputs": [
    {
     "data": {
      "text/plain": [
       "[('john', 'A', 15), ('jane', 'B', 12), ('dave', 'B', 10)]"
      ]
     },
     "execution_count": 97,
     "metadata": {},
     "output_type": "execute_result"
    }
   ],
   "source": [
    "sorted(student_tuples, key =itemgetter(2),reverse=True)"
   ]
  },
  {
   "cell_type": "code",
   "execution_count": 100,
   "id": "f08259b3",
   "metadata": {},
   "outputs": [],
   "source": [
    "test = ['a','aaa','bb','cccc']"
   ]
  },
  {
   "cell_type": "code",
   "execution_count": 102,
   "id": "e84c86a8",
   "metadata": {},
   "outputs": [
    {
     "data": {
      "text/plain": [
       "['a', 'bb', 'aaa', 'cccc']"
      ]
     },
     "execution_count": 102,
     "metadata": {},
     "output_type": "execute_result"
    }
   ],
   "source": [
    "sorted(test,key=len)"
   ]
  },
  {
   "cell_type": "code",
   "execution_count": 111,
   "id": "905afaca",
   "metadata": {},
   "outputs": [
    {
     "data": {
      "text/plain": [
       "[(10, 20, 10), (30, 20, 10), (50, 20, 30), (10, 100, 90), (90, 90, 90)]"
      ]
     },
     "execution_count": 111,
     "metadata": {},
     "output_type": "execute_result"
    }
   ],
   "source": [
    "test =[(30,20,10),(10,100,90),(90,90,90),(50,20,30),(10,20,10)]\n",
    "\n",
    "sorted(test) \n",
    "sorted(test , key = lambda x:x[0]) \n",
    "sorted(test , key = lambda x:sum(x)) \n"
   ]
  },
  {
   "cell_type": "code",
   "execution_count": 112,
   "id": "cc936fa0",
   "metadata": {},
   "outputs": [
    {
     "data": {
      "text/plain": [
       "[0, 1, 2, 2, 3, 3, 5, 5, 9, 9, 10, 11, 22]"
      ]
     },
     "execution_count": 112,
     "metadata": {},
     "output_type": "execute_result"
    }
   ],
   "source": [
    "test = [10,2,1,2,9,3,0,5,5,9,3,11,22]\n",
    "우선순위그룹 = [0,1,11,111]\n",
    "\n",
    "def 우선순위판별(값):\n",
    "    if 값 in 우선순위그룹:\n",
    "        return (False, 값)\n",
    "    return (True,값)\n",
    "\n",
    "sorted(test) \n",
    "# sorted(test , key = lambda x:False if x in 우선순위그룹 else True) \n",
    "# sorted(test , key = lambda x:(False, x) if x in 우선순위그룹 else (True ,x)) "
   ]
  }
 ],
 "metadata": {
  "kernelspec": {
   "display_name": "Python 3 (ipykernel)",
   "language": "python",
   "name": "python3"
  },
  "language_info": {
   "codemirror_mode": {
    "name": "ipython",
    "version": 3
   },
   "file_extension": ".py",
   "mimetype": "text/x-python",
   "name": "python",
   "nbconvert_exporter": "python",
   "pygments_lexer": "ipython3",
   "version": "3.10.9"
  }
 },
 "nbformat": 4,
 "nbformat_minor": 5
}
